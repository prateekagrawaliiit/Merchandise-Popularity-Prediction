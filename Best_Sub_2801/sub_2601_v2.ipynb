{
 "cells": [
  {
   "cell_type": "code",
   "execution_count": 1,
   "metadata": {},
   "outputs": [],
   "source": [
    "import pandas as pd\n",
    "import numpy as np"
   ]
  },
  {
   "cell_type": "code",
   "execution_count": 2,
   "metadata": {},
   "outputs": [],
   "source": [
    "train = pd.read_csv('Train.csv')\n",
    "test = pd.read_csv('Test.csv')"
   ]
  },
  {
   "cell_type": "code",
   "execution_count": 3,
   "metadata": {},
   "outputs": [],
   "source": [
    "import pandas as pd\n",
    "import numpy as np\n",
    "import seaborn as sns\n",
    "import matplotlib.pyplot as plt\n",
    "from lightgbm import LGBMClassifier\n",
    "from catboost import CatBoostClassifier\n",
    "from xgboost import XGBClassifier\n",
    "from sklearn.linear_model import LogisticRegression , RidgeClassifier, Huber\n",
    "from sklearn.tree import DecisionTreeClassifier\n",
    "from sklearn.ensemble import RandomForestClassifier , GradientBoostingClassifier , ExtraTreesClassifier , AdaBoostClassifier\n",
    "from sklearn.model_selection import KFold ,StratifiedKFold\n",
    "from sklearn.metrics import log_loss\n",
    "import warnings \n",
    "warnings.filterwarnings('ignore')"
   ]
  },
  {
   "cell_type": "code",
   "execution_count": 4,
   "metadata": {},
   "outputs": [
    {
     "data": {
      "text/html": [
       "<div>\n",
       "<style scoped>\n",
       "    .dataframe tbody tr th:only-of-type {\n",
       "        vertical-align: middle;\n",
       "    }\n",
       "\n",
       "    .dataframe tbody tr th {\n",
       "        vertical-align: top;\n",
       "    }\n",
       "\n",
       "    .dataframe thead th {\n",
       "        text-align: right;\n",
       "    }\n",
       "</style>\n",
       "<table border=\"1\" class=\"dataframe\">\n",
       "  <thead>\n",
       "    <tr style=\"text-align: right;\">\n",
       "      <th></th>\n",
       "      <th>Store_Ratio</th>\n",
       "      <th>Basket_Ratio</th>\n",
       "      <th>Category_1</th>\n",
       "      <th>Store_Score</th>\n",
       "      <th>Category_2</th>\n",
       "      <th>Store_Presence</th>\n",
       "      <th>Score_1</th>\n",
       "      <th>Score_2</th>\n",
       "      <th>Score_3</th>\n",
       "      <th>Score_4</th>\n",
       "      <th>time</th>\n",
       "      <th>popularity</th>\n",
       "    </tr>\n",
       "  </thead>\n",
       "  <tbody>\n",
       "    <tr>\n",
       "      <th>0</th>\n",
       "      <td>0.407</td>\n",
       "      <td>0.00380</td>\n",
       "      <td>2</td>\n",
       "      <td>-35.865</td>\n",
       "      <td>1</td>\n",
       "      <td>0.9920</td>\n",
       "      <td>0.944</td>\n",
       "      <td>0.0988</td>\n",
       "      <td>0.1100</td>\n",
       "      <td>113.911</td>\n",
       "      <td>189125</td>\n",
       "      <td>4</td>\n",
       "    </tr>\n",
       "    <tr>\n",
       "      <th>1</th>\n",
       "      <td>0.234</td>\n",
       "      <td>0.10500</td>\n",
       "      <td>0</td>\n",
       "      <td>-19.884</td>\n",
       "      <td>1</td>\n",
       "      <td>0.9440</td>\n",
       "      <td>0.900</td>\n",
       "      <td>0.1290</td>\n",
       "      <td>0.0382</td>\n",
       "      <td>76.332</td>\n",
       "      <td>186513</td>\n",
       "      <td>4</td>\n",
       "    </tr>\n",
       "    <tr>\n",
       "      <th>2</th>\n",
       "      <td>0.668</td>\n",
       "      <td>0.72600</td>\n",
       "      <td>9</td>\n",
       "      <td>-7.512</td>\n",
       "      <td>1</td>\n",
       "      <td>0.0387</td>\n",
       "      <td>0.000</td>\n",
       "      <td>0.1340</td>\n",
       "      <td>0.4530</td>\n",
       "      <td>124.075</td>\n",
       "      <td>172143</td>\n",
       "      <td>4</td>\n",
       "    </tr>\n",
       "    <tr>\n",
       "      <th>3</th>\n",
       "      <td>0.184</td>\n",
       "      <td>0.00561</td>\n",
       "      <td>4</td>\n",
       "      <td>-34.357</td>\n",
       "      <td>1</td>\n",
       "      <td>0.8490</td>\n",
       "      <td>0.931</td>\n",
       "      <td>0.1110</td>\n",
       "      <td>0.0641</td>\n",
       "      <td>79.037</td>\n",
       "      <td>184000</td>\n",
       "      <td>5</td>\n",
       "    </tr>\n",
       "    <tr>\n",
       "      <th>4</th>\n",
       "      <td>0.231</td>\n",
       "      <td>0.13100</td>\n",
       "      <td>6</td>\n",
       "      <td>-22.842</td>\n",
       "      <td>1</td>\n",
       "      <td>0.9370</td>\n",
       "      <td>0.000</td>\n",
       "      <td>0.1090</td>\n",
       "      <td>0.0677</td>\n",
       "      <td>109.560</td>\n",
       "      <td>186507</td>\n",
       "      <td>3</td>\n",
       "    </tr>\n",
       "  </tbody>\n",
       "</table>\n",
       "</div>"
      ],
      "text/plain": [
       "   Store_Ratio  Basket_Ratio  Category_1  Store_Score  Category_2  \\\n",
       "0        0.407       0.00380           2      -35.865           1   \n",
       "1        0.234       0.10500           0      -19.884           1   \n",
       "2        0.668       0.72600           9       -7.512           1   \n",
       "3        0.184       0.00561           4      -34.357           1   \n",
       "4        0.231       0.13100           6      -22.842           1   \n",
       "\n",
       "   Store_Presence  Score_1  Score_2  Score_3  Score_4    time  popularity  \n",
       "0          0.9920    0.944   0.0988   0.1100  113.911  189125           4  \n",
       "1          0.9440    0.900   0.1290   0.0382   76.332  186513           4  \n",
       "2          0.0387    0.000   0.1340   0.4530  124.075  172143           4  \n",
       "3          0.8490    0.931   0.1110   0.0641   79.037  184000           5  \n",
       "4          0.9370    0.000   0.1090   0.0677  109.560  186507           3  "
      ]
     },
     "execution_count": 4,
     "metadata": {},
     "output_type": "execute_result"
    }
   ],
   "source": [
    "train = train[train['time']<2*1e6]\n",
    "train = train[train['time']!=1804691]\n",
    "train = train[train['Store_Ratio']>0]\n",
    "train.head()"
   ]
  },
  {
   "cell_type": "code",
   "execution_count": 5,
   "metadata": {},
   "outputs": [],
   "source": [
    "test['Store_Score'] = test['Store_Score'].apply(lambda x: -1*x if x>0 else x)"
   ]
  },
  {
   "cell_type": "code",
   "execution_count": 6,
   "metadata": {},
   "outputs": [
    {
     "data": {
      "text/plain": [
       "(Int64Index([], dtype='int64'), array([], dtype=float64))"
      ]
     },
     "execution_count": 6,
     "metadata": {},
     "output_type": "execute_result"
    }
   ],
   "source": [
    "x = test[test['Store_Score']>0]\n",
    "x.index,x.Store_Score.values"
   ]
  },
  {
   "cell_type": "code",
   "execution_count": 7,
   "metadata": {},
   "outputs": [
    {
     "data": {
      "text/plain": [
       "Int64Index([8096], dtype='int64')"
      ]
     },
     "execution_count": 7,
     "metadata": {},
     "output_type": "execute_result"
    }
   ],
   "source": [
    "x = train[train['Store_Ratio']>=0.99]\n",
    "x.index"
   ]
  },
  {
   "cell_type": "code",
   "execution_count": 8,
   "metadata": {},
   "outputs": [],
   "source": [
    "train.drop(8096,axis=0,inplace=True)"
   ]
  },
  {
   "cell_type": "code",
   "execution_count": 9,
   "metadata": {},
   "outputs": [
    {
     "data": {
      "text/plain": [
       "4    15229\n",
       "3     2165\n",
       "5      472\n",
       "1      322\n",
       "Name: popularity, dtype: int64"
      ]
     },
     "execution_count": 9,
     "metadata": {},
     "output_type": "execute_result"
    }
   ],
   "source": [
    "train.popularity.value_counts()"
   ]
  },
  {
   "cell_type": "code",
   "execution_count": 10,
   "metadata": {},
   "outputs": [],
   "source": [
    "train = train[train['Store_Presence']>0]"
   ]
  },
  {
   "cell_type": "code",
   "execution_count": 11,
   "metadata": {},
   "outputs": [],
   "source": [
    "df = train.append(test)"
   ]
  },
  {
   "cell_type": "code",
   "execution_count": 12,
   "metadata": {},
   "outputs": [
    {
     "data": {
      "text/plain": [
       "Store_Ratio      -0.456594\n",
       "Basket_Ratio     -0.128571\n",
       "Category_1        0.045071\n",
       "Store_Score      -1.154776\n",
       "Category_2       -0.611812\n",
       "Store_Presence    0.115197\n",
       "Score_1           0.626505\n",
       "Score_2           2.882750\n",
       "Score_3           0.274964\n",
       "Score_4           0.408695\n",
       "time              3.779856\n",
       "popularity       -2.949265\n",
       "dtype: float64"
      ]
     },
     "execution_count": 12,
     "metadata": {},
     "output_type": "execute_result"
    }
   ],
   "source": [
    "df['time']  = df['time']/3600\n",
    "df.skew()"
   ]
  },
  {
   "cell_type": "code",
   "execution_count": 13,
   "metadata": {},
   "outputs": [
    {
     "data": {
      "text/plain": [
       "Store_Ratio      -0.456594\n",
       "Basket_Ratio     -0.128571\n",
       "Category_1        0.045071\n",
       "Store_Score      -1.154776\n",
       "Category_2       -0.611812\n",
       "Store_Presence    0.115197\n",
       "Score_1           0.626505\n",
       "Score_2           2.382999\n",
       "Score_3           0.274964\n",
       "Score_4           0.408695\n",
       "time              3.779856\n",
       "popularity       -2.949265\n",
       "dtype: float64"
      ]
     },
     "execution_count": 13,
     "metadata": {},
     "output_type": "execute_result"
    }
   ],
   "source": [
    "df['Score_2'] = np.log1p(df['Score_2'])\n",
    "df.skew()"
   ]
  },
  {
   "cell_type": "code",
   "execution_count": 14,
   "metadata": {},
   "outputs": [],
   "source": [
    "df['Store_Pre_Bin'] = df['Store_Presence'].apply(lambda x: 1 if x<=0.5 else 0)\n",
    "df['avg_score'] = (df['Score_1']+df['Score_2']+df['Score_3']+df['Score_4'])/4 \n",
    "df['score_by_presence'] = df['avg_score']/df['Store_Presence']\n",
    "df['score_by_basket'] = df['avg_score']/df['Basket_Ratio']"
   ]
  },
  {
   "cell_type": "code",
   "execution_count": 15,
   "metadata": {},
   "outputs": [],
   "source": [
    "df['avg_score'] = (df['Score_1']+df['Score_2']+df['Score_3']+df['Score_4'])/4 \n",
    "df['score_by_presence'] = df['avg_score']/df['Store_Presence']\n",
    "df['score_by_basket'] = df['avg_score']/df['Basket_Ratio']"
   ]
  },
  {
   "cell_type": "code",
   "execution_count": 16,
   "metadata": {},
   "outputs": [],
   "source": [
    "df['Basket_Ratio_sum_Store_Ratio'] = df['Basket_Ratio'] + df['Store_Ratio']\n",
    "df['Store_Ratio_ratio_Store_Presence'] = df['Store_Ratio']/df['Store_Presence']\n",
    "df['Score_3_ratio_Store_Ratio'] = df['Score_3']/df['Store_Ratio']\n",
    "df['Score_3_multiply_Store_Ratio'] = df['Score_3']*df['Store_Ratio']\n",
    "df['Score_3_ratio_Store_Ratio'] = df['Score_3']/df['Store_Ratio']\n",
    "df['Store_Ratio_diff_Store_Presence'] = df['Store_Ratio']-df['Store_Presence']\n"
   ]
  },
  {
   "cell_type": "code",
   "execution_count": 17,
   "metadata": {},
   "outputs": [
    {
     "data": {
      "text/plain": [
       "Index(['Store_Ratio', 'Basket_Ratio', 'Category_1', 'Store_Score',\n",
       "       'Category_2', 'Store_Presence', 'Score_1', 'Score_2', 'Score_3',\n",
       "       'Score_4', 'time', 'popularity', 'Store_Pre_Bin', 'avg_score',\n",
       "       'score_by_presence', 'score_by_basket', 'Basket_Ratio_sum_Store_Ratio',\n",
       "       'Store_Ratio_ratio_Store_Presence', 'Score_3_ratio_Store_Ratio',\n",
       "       'Score_3_multiply_Store_Ratio', 'Store_Ratio_diff_Store_Presence'],\n",
       "      dtype='object')"
      ]
     },
     "execution_count": 17,
     "metadata": {},
     "output_type": "execute_result"
    }
   ],
   "source": [
    "df.columns"
   ]
  },
  {
   "cell_type": "code",
   "execution_count": 18,
   "metadata": {},
   "outputs": [],
   "source": [
    "train,test = df.head(len(train)),df.tail(len(test))\n",
    "test.drop(columns=['popularity'],axis=1,inplace=True)"
   ]
  },
  {
   "cell_type": "code",
   "execution_count": 19,
   "metadata": {},
   "outputs": [],
   "source": [
    "X = train.drop('popularity',axis=1)\n",
    "Y = train['popularity']\n",
    "\n",
    "from sklearn.preprocessing import StandardScaler\n",
    "scaler = StandardScaler()\n",
    "X_ = scaler.fit_transform(X)\n",
    "X = pd.DataFrame(X_,columns=X.columns)\n"
   ]
  },
  {
   "cell_type": "code",
   "execution_count": null,
   "metadata": {},
   "outputs": [],
   "source": []
  },
  {
   "cell_type": "code",
   "execution_count": null,
   "metadata": {},
   "outputs": [],
   "source": []
  },
  {
   "cell_type": "code",
   "execution_count": 28,
   "metadata": {},
   "outputs": [
    {
     "name": "stdout",
     "output_type": "stream",
     "text": [
      "0.3884213073422873\n",
      "0.4087913810928163\n",
      "0.40844541256610956\n",
      "0.40156063740758347\n",
      "0.3751284592841273\n",
      "0.38386691912139076\n",
      "0.3722101884776703\n",
      "0.38647797701520153\n",
      "0.37904923868074564\n",
      "0.39205411191904815\n",
      "Mean OOF Score : 0.38960056329069803\n"
     ]
    }
   ],
   "source": [
    "folds = StratifiedKFold(n_splits=10,shuffle=True ,random_state=42)\n",
    "\n",
    "oof_preds = []\n",
    "oof_scores = []\n",
    "\n",
    "for i , (train_idx,test_idx) in enumerate(folds.split(X,Y)):\n",
    "  train_set = (X.iloc[train_idx],Y.iloc[train_idx])\n",
    "  test_set = (X.iloc[test_idx],Y.iloc[test_idx])\n",
    "\n",
    "  model = CatBoostClassifier(loss_function='MultiClass', \n",
    "                         eval_metric='TotalF1', \n",
    "                         depth=7,\n",
    "                         n_estimators=5000,\n",
    "                         verbose=0\n",
    ")\n",
    "  model.fit(*train_set)\n",
    "  preds = model.predict_proba(test_set[0])\n",
    "  score = log_loss(test_set[1],preds)\n",
    "  \n",
    "  oof_pred_fold = model.predict_proba(scaler.transform(test))\n",
    "  oof_preds.append(oof_pred_fold)\n",
    "\n",
    "  print(score)\n",
    "  oof_scores.append(score)\n",
    "\n",
    "print(\"Mean OOF Score :\",np.mean(oof_scores))\n",
    "final_preds = np.mean(np.array(oof_preds),axis=0)"
   ]
  },
  {
   "cell_type": "code",
   "execution_count": 29,
   "metadata": {},
   "outputs": [],
   "source": [
    "temp = pd.DataFrame(final_preds)\n",
    "sub = pd.DataFrame()\n",
    "sub['0'] = 0\n",
    "sub['1'] = temp[0]\n",
    "sub['2'] = temp[1]\n",
    "sub['3'] = temp[2]\n",
    "sub['4'] = temp[3]\n",
    "sub = sub.fillna(0)"
   ]
  },
  {
   "cell_type": "code",
   "execution_count": 30,
   "metadata": {},
   "outputs": [
    {
     "data": {
      "text/html": [
       "<div>\n",
       "<style scoped>\n",
       "    .dataframe tbody tr th:only-of-type {\n",
       "        vertical-align: middle;\n",
       "    }\n",
       "\n",
       "    .dataframe tbody tr th {\n",
       "        vertical-align: top;\n",
       "    }\n",
       "\n",
       "    .dataframe thead th {\n",
       "        text-align: right;\n",
       "    }\n",
       "</style>\n",
       "<table border=\"1\" class=\"dataframe\">\n",
       "  <thead>\n",
       "    <tr style=\"text-align: right;\">\n",
       "      <th></th>\n",
       "      <th>0</th>\n",
       "      <th>1</th>\n",
       "      <th>2</th>\n",
       "      <th>3</th>\n",
       "      <th>4</th>\n",
       "    </tr>\n",
       "  </thead>\n",
       "  <tbody>\n",
       "    <tr>\n",
       "      <th>0</th>\n",
       "      <td>0.0</td>\n",
       "      <td>0.009259</td>\n",
       "      <td>0.794837</td>\n",
       "      <td>0.155275</td>\n",
       "      <td>0.040629</td>\n",
       "    </tr>\n",
       "    <tr>\n",
       "      <th>1</th>\n",
       "      <td>0.0</td>\n",
       "      <td>0.003089</td>\n",
       "      <td>0.018439</td>\n",
       "      <td>0.977119</td>\n",
       "      <td>0.001353</td>\n",
       "    </tr>\n",
       "    <tr>\n",
       "      <th>2</th>\n",
       "      <td>0.0</td>\n",
       "      <td>0.000301</td>\n",
       "      <td>0.019935</td>\n",
       "      <td>0.972577</td>\n",
       "      <td>0.007187</td>\n",
       "    </tr>\n",
       "    <tr>\n",
       "      <th>3</th>\n",
       "      <td>0.0</td>\n",
       "      <td>0.001710</td>\n",
       "      <td>0.028403</td>\n",
       "      <td>0.959570</td>\n",
       "      <td>0.010318</td>\n",
       "    </tr>\n",
       "    <tr>\n",
       "      <th>4</th>\n",
       "      <td>0.0</td>\n",
       "      <td>0.000067</td>\n",
       "      <td>0.001331</td>\n",
       "      <td>0.997125</td>\n",
       "      <td>0.001477</td>\n",
       "    </tr>\n",
       "  </tbody>\n",
       "</table>\n",
       "</div>"
      ],
      "text/plain": [
       "     0         1         2         3         4\n",
       "0  0.0  0.009259  0.794837  0.155275  0.040629\n",
       "1  0.0  0.003089  0.018439  0.977119  0.001353\n",
       "2  0.0  0.000301  0.019935  0.972577  0.007187\n",
       "3  0.0  0.001710  0.028403  0.959570  0.010318\n",
       "4  0.0  0.000067  0.001331  0.997125  0.001477"
      ]
     },
     "execution_count": 30,
     "metadata": {},
     "output_type": "execute_result"
    }
   ],
   "source": [
    "sub.head()"
   ]
  },
  {
   "cell_type": "code",
   "execution_count": 31,
   "metadata": {},
   "outputs": [
    {
     "data": {
      "text/plain": [
       "0.0"
      ]
     },
     "execution_count": 31,
     "metadata": {},
     "output_type": "execute_result"
    }
   ],
   "source": [
    "np.sum(sub['0'])"
   ]
  },
  {
   "cell_type": "code",
   "execution_count": 32,
   "metadata": {},
   "outputs": [],
   "source": [
    "#there are duplicates between test and train, for those rows we can directly use train target values\n",
    "#storing the target values of common rows in test and train\n",
    "temp1=''\n",
    "for i in test.columns:\n",
    "    temp1=temp1+i+train[i].astype(str)\n",
    "train['ALL']=temp1\n",
    "temp2=''\n",
    "for i in test.columns:\n",
    "    temp2=temp2+i+test[i].astype(str)\n",
    "test['ALL']=temp2\n",
    "encoding=train.groupby('ALL')['popularity'].median()\n",
    "y_from_train=test['ALL'].map(encoding)\n",
    "temp = pd.DataFrame()\n",
    "temp['pop'] = y_from_train\n",
    "temp['pop'] = temp['pop'].fillna(-999)\n",
    "x = temp[temp['pop']!=-999]\n",
    "for i in x.index.values:\n",
    "#     print(x.iloc[i].values[0])\n",
    "    try:\n",
    "        if x.loc[i].values[0] ==0:\n",
    "            sub.loc[i] =[1.0,0.0,0.0,0.0,0.0]\n",
    "        elif x.loc[i].values[0] ==1:\n",
    "            sub.loc[i] =[0.0,1.0,0.0,0.0,0.0]\n",
    "        elif x.loc[i].values[0] ==3:\n",
    "            sub.loc[i] =[0.0,0.0,1.0,0.0,0.0]\n",
    "        elif x.loc[i].values[0] ==4:\n",
    "            sub.loc[i] =[0.0,0.0,0.0,1.0,0.0]\n",
    "        elif x.loc[i].values[0] ==5:\n",
    "            sub.loc[i] =[0.0,0.0,0.0,0.0,1.0]\n",
    "        else:\n",
    "            print('.',end='')\n",
    "    except:\n",
    "        print(i)\n",
    "        print(x.loc[i].values[0])"
   ]
  },
  {
   "cell_type": "code",
   "execution_count": 33,
   "metadata": {},
   "outputs": [
    {
     "data": {
      "text/html": [
       "<div>\n",
       "<style scoped>\n",
       "    .dataframe tbody tr th:only-of-type {\n",
       "        vertical-align: middle;\n",
       "    }\n",
       "\n",
       "    .dataframe tbody tr th {\n",
       "        vertical-align: top;\n",
       "    }\n",
       "\n",
       "    .dataframe thead th {\n",
       "        text-align: right;\n",
       "    }\n",
       "</style>\n",
       "<table border=\"1\" class=\"dataframe\">\n",
       "  <thead>\n",
       "    <tr style=\"text-align: right;\">\n",
       "      <th></th>\n",
       "      <th>0</th>\n",
       "      <th>1</th>\n",
       "      <th>2</th>\n",
       "      <th>3</th>\n",
       "      <th>4</th>\n",
       "    </tr>\n",
       "  </thead>\n",
       "  <tbody>\n",
       "    <tr>\n",
       "      <th>0</th>\n",
       "      <td>0.0</td>\n",
       "      <td>0.000000</td>\n",
       "      <td>1.000000</td>\n",
       "      <td>0.000000</td>\n",
       "      <td>0.000000</td>\n",
       "    </tr>\n",
       "    <tr>\n",
       "      <th>1</th>\n",
       "      <td>0.0</td>\n",
       "      <td>0.003089</td>\n",
       "      <td>0.018439</td>\n",
       "      <td>0.977119</td>\n",
       "      <td>0.001353</td>\n",
       "    </tr>\n",
       "    <tr>\n",
       "      <th>2</th>\n",
       "      <td>0.0</td>\n",
       "      <td>0.000301</td>\n",
       "      <td>0.019935</td>\n",
       "      <td>0.972577</td>\n",
       "      <td>0.007187</td>\n",
       "    </tr>\n",
       "    <tr>\n",
       "      <th>3</th>\n",
       "      <td>0.0</td>\n",
       "      <td>0.001710</td>\n",
       "      <td>0.028403</td>\n",
       "      <td>0.959570</td>\n",
       "      <td>0.010318</td>\n",
       "    </tr>\n",
       "    <tr>\n",
       "      <th>4</th>\n",
       "      <td>0.0</td>\n",
       "      <td>0.000000</td>\n",
       "      <td>0.000000</td>\n",
       "      <td>1.000000</td>\n",
       "      <td>0.000000</td>\n",
       "    </tr>\n",
       "  </tbody>\n",
       "</table>\n",
       "</div>"
      ],
      "text/plain": [
       "     0         1         2         3         4\n",
       "0  0.0  0.000000  1.000000  0.000000  0.000000\n",
       "1  0.0  0.003089  0.018439  0.977119  0.001353\n",
       "2  0.0  0.000301  0.019935  0.972577  0.007187\n",
       "3  0.0  0.001710  0.028403  0.959570  0.010318\n",
       "4  0.0  0.000000  0.000000  1.000000  0.000000"
      ]
     },
     "execution_count": 33,
     "metadata": {},
     "output_type": "execute_result"
    }
   ],
   "source": [
    "dummy = test[test['Store_Ratio']==0]\n",
    "dummy.index\n",
    "for i in dummy.index.values:\n",
    "    sub.iloc[i] =[1.0,0.0,0.0,0.0,0.0]\n",
    "sub.head()"
   ]
  },
  {
   "cell_type": "code",
   "execution_count": 34,
   "metadata": {},
   "outputs": [
    {
     "data": {
      "text/plain": [
       "11.0"
      ]
     },
     "execution_count": 34,
     "metadata": {},
     "output_type": "execute_result"
    }
   ],
   "source": [
    "np.sum(sub['0'])"
   ]
  },
  {
   "cell_type": "code",
   "execution_count": 35,
   "metadata": {},
   "outputs": [],
   "source": [
    "sub.to_csv('sub_2701_cat_fe_v3.csv',index=False)"
   ]
  },
  {
   "cell_type": "code",
   "execution_count": null,
   "metadata": {},
   "outputs": [],
   "source": []
  },
  {
   "cell_type": "code",
   "execution_count": null,
   "metadata": {},
   "outputs": [],
   "source": []
  },
  {
   "cell_type": "code",
   "execution_count": null,
   "metadata": {},
   "outputs": [],
   "source": []
  },
  {
   "cell_type": "code",
   "execution_count": null,
   "metadata": {},
   "outputs": [],
   "source": []
  },
  {
   "cell_type": "code",
   "execution_count": null,
   "metadata": {},
   "outputs": [],
   "source": []
  },
  {
   "cell_type": "code",
   "execution_count": null,
   "metadata": {},
   "outputs": [],
   "source": []
  },
  {
   "cell_type": "code",
   "execution_count": null,
   "metadata": {},
   "outputs": [],
   "source": []
  },
  {
   "cell_type": "code",
   "execution_count": null,
   "metadata": {},
   "outputs": [],
   "source": []
  },
  {
   "cell_type": "code",
   "execution_count": null,
   "metadata": {},
   "outputs": [],
   "source": []
  }
 ],
 "metadata": {
  "kernelspec": {
   "display_name": "Python 3",
   "language": "python",
   "name": "python3"
  },
  "language_info": {
   "codemirror_mode": {
    "name": "ipython",
    "version": 3
   },
   "file_extension": ".py",
   "mimetype": "text/x-python",
   "name": "python",
   "nbconvert_exporter": "python",
   "pygments_lexer": "ipython3",
   "version": "3.8.3"
  }
 },
 "nbformat": 4,
 "nbformat_minor": 4
}
