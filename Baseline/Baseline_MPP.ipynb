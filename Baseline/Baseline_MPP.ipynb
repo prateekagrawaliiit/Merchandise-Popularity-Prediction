{
  "nbformat": 4,
  "nbformat_minor": 0,
  "metadata": {
    "colab": {
      "name": "Baseline_MPP.ipynb",
      "provenance": [],
      "collapsed_sections": []
    },
    "kernelspec": {
      "name": "python3",
      "display_name": "Python 3"
    }
  },
  "cells": [
    {
      "cell_type": "code",
      "metadata": {
        "id": "KyOdsqfyb490"
      },
      "source": [
        "import pandas as pd \r\n",
        "import numpy as np"
      ],
      "execution_count": null,
      "outputs": []
    },
    {
      "cell_type": "code",
      "metadata": {
        "id": "3QJ1y1YZb7a6"
      },
      "source": [
        "train = pd.read_csv('/content/drive/MyDrive/Merchandise_Popularity_Prediction/Train.csv')\r\n",
        "test = pd.read_csv('/content/drive/MyDrive/Merchandise_Popularity_Prediction/Test.csv')"
      ],
      "execution_count": null,
      "outputs": []
    },
    {
      "cell_type": "code",
      "metadata": {
        "id": "Z4VKcFIVb9iL"
      },
      "source": [
        "df = train.append(test)"
      ],
      "execution_count": null,
      "outputs": []
    },
    {
      "cell_type": "code",
      "metadata": {
        "id": "Fbm2BtlVb_ed"
      },
      "source": [
        "x = pd.get_dummies(df.Category_1)\r\n",
        "x.columns = ['Cat_1_'+str(i) for i in x.columns]\r\n",
        "x.head()\r\n",
        "df = pd.concat([df,x],axis=1) \r\n"
      ],
      "execution_count": null,
      "outputs": []
    },
    {
      "cell_type": "code",
      "metadata": {
        "id": "Pu3zoUW8b_gQ"
      },
      "source": [
        "x = pd.get_dummies(df.Category_2)\r\n",
        "x.columns = ['Cat_2_'+str(i) for i in x.columns]\r\n",
        "x.head()\r\n",
        "df = pd.concat([df,x],axis=1)"
      ],
      "execution_count": null,
      "outputs": []
    },
    {
      "cell_type": "code",
      "metadata": {
        "id": "Bg4HGWJ2b_iR"
      },
      "source": [
        "df.drop(columns=['Category_1','Category_2'],axis=1,inplace=True)\r\n"
      ],
      "execution_count": null,
      "outputs": []
    },
    {
      "cell_type": "code",
      "metadata": {
        "id": "U6Aa--myb_kU"
      },
      "source": [
        "df.shape,train.shape,test.shape\r\n"
      ],
      "execution_count": null,
      "outputs": []
    },
    {
      "cell_type": "code",
      "metadata": {
        "id": "va-27x6Rb_nA"
      },
      "source": [
        "train = df.head(len(train))\r\n",
        "test = df.tail(len(test))"
      ],
      "execution_count": null,
      "outputs": []
    },
    {
      "cell_type": "code",
      "metadata": {
        "id": "pq6A9JJJcIeO"
      },
      "source": [
        "test.shape,train.shape\r\n"
      ],
      "execution_count": null,
      "outputs": []
    },
    {
      "cell_type": "code",
      "metadata": {
        "id": "ux2Gw-JUcIgI"
      },
      "source": [
        "from sklearn.ensemble import RandomForestClassifier\r\n",
        "from sklearn.model_selection import train_test_split\r\n",
        "from sklearn.metrics import log_loss"
      ],
      "execution_count": null,
      "outputs": []
    },
    {
      "cell_type": "code",
      "metadata": {
        "id": "JTzyFmvccIiD"
      },
      "source": [
        "X = train.drop('popularity',axis=1)\r\n",
        "y = train['popularity'].values"
      ],
      "execution_count": null,
      "outputs": []
    },
    {
      "cell_type": "code",
      "metadata": {
        "id": "gDfqBHGzcIkF"
      },
      "source": [
        "X_train,X_valid,y_train,y_valid = train_test_split(X,y,test_size=0.2)"
      ],
      "execution_count": null,
      "outputs": []
    },
    {
      "cell_type": "code",
      "metadata": {
        "id": "hVW_2Qy8cIl9"
      },
      "source": [
        "model = RandomForestClassifier()\r\n"
      ],
      "execution_count": null,
      "outputs": []
    },
    {
      "cell_type": "code",
      "metadata": {
        "id": "-Jo_jggYcTLt"
      },
      "source": [
        "from sklearn.metrics import f1_score\r\n"
      ],
      "execution_count": null,
      "outputs": []
    },
    {
      "cell_type": "code",
      "metadata": {
        "id": "ayjfg2I2cTNv"
      },
      "source": [
        "model.fit(X_train,y_train)\r\n",
        "preds_valid = model.predict(X_valid)\r\n",
        "f1_score(y_valid,preds_valid,average='weighted')\r\n"
      ],
      "execution_count": null,
      "outputs": []
    },
    {
      "cell_type": "code",
      "metadata": {
        "id": "b2Tgqd7IcTPo"
      },
      "source": [
        "test.drop('popularity',axis=1,inplace=True)\r\n"
      ],
      "execution_count": null,
      "outputs": []
    },
    {
      "cell_type": "code",
      "metadata": {
        "id": "ioX6V-JkcTTC"
      },
      "source": [
        "preds = model.predict_proba(test)"
      ],
      "execution_count": null,
      "outputs": []
    },
    {
      "cell_type": "code",
      "metadata": {
        "id": "z085La_1cIpT"
      },
      "source": [
        "sub = pd.DataFrame(preds)\r\n",
        "sub.head()\r\n"
      ],
      "execution_count": null,
      "outputs": []
    },
    {
      "cell_type": "code",
      "metadata": {
        "id": "SU1H0_TicccR"
      },
      "source": [
        "sub.to_csv('baseline_model.csv',index=False)\r\n"
      ],
      "execution_count": null,
      "outputs": []
    }
  ]
}