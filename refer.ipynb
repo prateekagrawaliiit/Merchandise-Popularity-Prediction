{
 "cells": [
  {
   "cell_type": "code",
   "execution_count": null,
   "metadata": {
    "id": "yD10AXTIMpVu"
   },
   "outputs": [],
   "source": [
    "import pandas as pd \r\n",
    "import numpy as np"
   ]
  },
  {
   "cell_type": "code",
   "execution_count": null,
   "metadata": {
    "id": "Fe8EG1HTM1a6"
   },
   "outputs": [],
   "source": [
    "train = pd.read_csv('/content/drive/MyDrive/Merchandise_Popularity_Prediction/Train.csv')\r\n",
    "test = pd.read_csv('/content/drive/MyDrive/Merchandise_Popularity_Prediction/Test.csv')"
   ]
  },
  {
   "cell_type": "code",
   "execution_count": null,
   "metadata": {
    "id": "vjwE5HneM4Rh"
   },
   "outputs": [],
   "source": [
    "df = train.append(test)"
   ]
  },
  {
   "cell_type": "code",
   "execution_count": null,
   "metadata": {
    "id": "veBfr9JsNE6v"
   },
   "outputs": [],
   "source": [
    "# df.columns"
   ]
  },
  {
   "cell_type": "code",
   "execution_count": null,
   "metadata": {
    "id": "5uljzqHkM7g-"
   },
   "outputs": [],
   "source": [
    "x = pd.get_dummies(df.Category_1)\r\n",
    "x.columns = ['Cat_1_'+str(i) for i in x.columns]\r\n",
    "x.head()\r\n",
    "df = pd.concat([df,x],axis=1)"
   ]
  },
  {
   "cell_type": "code",
   "execution_count": null,
   "metadata": {
    "id": "TWmWYHHlNw-J"
   },
   "outputs": [],
   "source": [
    "x = pd.get_dummies(df.Category_2)\r\n",
    "x.columns = ['Cat_2_'+str(i) for i in x.columns]\r\n",
    "x.head()\r\n",
    "df = pd.concat([df,x],axis=1)"
   ]
  },
  {
   "cell_type": "code",
   "execution_count": null,
   "metadata": {
    "id": "TNwyf1gyOIaj"
   },
   "outputs": [],
   "source": [
    "df.drop(columns=['Category_1','Category_2'],axis=1,inplace=True)"
   ]
  },
  {
   "cell_type": "code",
   "execution_count": null,
   "metadata": {
    "colab": {
     "base_uri": "https://localhost:8080/"
    },
    "id": "Md4ZR-Q-ONW8",
    "outputId": "14078b2d-ae42-4125-95d7-3e02aececb9d"
   },
   "outputs": [
    {
     "data": {
      "text/plain": [
       "((30348, 24), (18208, 12), (12140, 11))"
      ]
     },
     "execution_count": 30,
     "metadata": {
      "tags": []
     },
     "output_type": "execute_result"
    }
   ],
   "source": [
    "df.shape,train.shape,test.shape"
   ]
  },
  {
   "cell_type": "code",
   "execution_count": null,
   "metadata": {
    "id": "999WG-XPOQoF"
   },
   "outputs": [],
   "source": [
    "train = df.head(len(train))\r\n",
    "test = df.tail(len(test))"
   ]
  },
  {
   "cell_type": "code",
   "execution_count": null,
   "metadata": {
    "colab": {
     "base_uri": "https://localhost:8080/"
    },
    "id": "e1pDizVAOWB5",
    "outputId": "c3444f00-69e7-4ee3-8e6c-80bd82bb2019"
   },
   "outputs": [
    {
     "data": {
      "text/plain": [
       "((12140, 24), (18208, 24))"
      ]
     },
     "execution_count": 32,
     "metadata": {
      "tags": []
     },
     "output_type": "execute_result"
    }
   ],
   "source": [
    "test.shape,train.shape"
   ]
  },
  {
   "cell_type": "code",
   "execution_count": null,
   "metadata": {
    "id": "kGbFXz1pNIDW"
   },
   "outputs": [],
   "source": [
    "X_train,X_valid,y_train,y_valid = train_test_split(X,y,test_size=0.2)"
   ]
  },
  {
   "cell_type": "code",
   "execution_count": null,
   "metadata": {
    "colab": {
     "base_uri": "https://localhost:8080/"
    },
    "id": "hrvL2pjYSLMq",
    "outputId": "9b433ecc-149c-4960-f2fa-863a9cfde069"
   },
   "outputs": [
    {
     "name": "stdout",
     "output_type": "stream",
     "text": [
      "Collecting catboost\n",
      "\u001b[?25l  Downloading https://files.pythonhosted.org/packages/20/37/bc4e0ddc30c07a96482abf1de7ed1ca54e59bba2026a33bca6d2ef286e5b/catboost-0.24.4-cp36-none-manylinux1_x86_64.whl (65.7MB)\n",
      "\u001b[K     |████████████████████████████████| 65.8MB 56kB/s \n",
      "\u001b[?25hRequirement already satisfied: six in /usr/local/lib/python3.6/dist-packages (from catboost) (1.15.0)\n",
      "Requirement already satisfied: plotly in /usr/local/lib/python3.6/dist-packages (from catboost) (4.4.1)\n",
      "Requirement already satisfied: pandas>=0.24.0 in /usr/local/lib/python3.6/dist-packages (from catboost) (1.1.5)\n",
      "Requirement already satisfied: numpy>=1.16.0 in /usr/local/lib/python3.6/dist-packages (from catboost) (1.19.5)\n",
      "Requirement already satisfied: matplotlib in /usr/local/lib/python3.6/dist-packages (from catboost) (3.2.2)\n",
      "Requirement already satisfied: scipy in /usr/local/lib/python3.6/dist-packages (from catboost) (1.4.1)\n",
      "Requirement already satisfied: graphviz in /usr/local/lib/python3.6/dist-packages (from catboost) (0.10.1)\n",
      "Requirement already satisfied: retrying>=1.3.3 in /usr/local/lib/python3.6/dist-packages (from plotly->catboost) (1.3.3)\n",
      "Requirement already satisfied: pytz>=2017.2 in /usr/local/lib/python3.6/dist-packages (from pandas>=0.24.0->catboost) (2018.9)\n",
      "Requirement already satisfied: python-dateutil>=2.7.3 in /usr/local/lib/python3.6/dist-packages (from pandas>=0.24.0->catboost) (2.8.1)\n",
      "Requirement already satisfied: kiwisolver>=1.0.1 in /usr/local/lib/python3.6/dist-packages (from matplotlib->catboost) (1.3.1)\n",
      "Requirement already satisfied: cycler>=0.10 in /usr/local/lib/python3.6/dist-packages (from matplotlib->catboost) (0.10.0)\n",
      "Requirement already satisfied: pyparsing!=2.0.4,!=2.1.2,!=2.1.6,>=2.0.1 in /usr/local/lib/python3.6/dist-packages (from matplotlib->catboost) (2.4.7)\n",
      "Installing collected packages: catboost\n",
      "Successfully installed catboost-0.24.4\n"
     ]
    }
   ],
   "source": [
    "!pip install catboost"
   ]
  },
  {
   "cell_type": "code",
   "execution_count": null,
   "metadata": {
    "colab": {
     "base_uri": "https://localhost:8080/"
    },
    "id": "5_GIdnYvSiBT",
    "outputId": "5fcbb55d-6d46-49c2-c9a5-9ecef334f301"
   },
   "outputs": [
    {
     "data": {
      "text/plain": [
       "array([4., 5., 3., 1., 0.])"
      ]
     },
     "execution_count": 67,
     "metadata": {
      "tags": []
     },
     "output_type": "execute_result"
    }
   ],
   "source": [
    "train.popularity.unique()"
   ]
  },
  {
   "cell_type": "code",
   "execution_count": null,
   "metadata": {
    "colab": {
     "base_uri": "https://localhost:8080/"
    },
    "id": "r-PE8DgiSy31",
    "outputId": "202bf382-5770-442f-88fd-1e5f11a10939"
   },
   "outputs": [
    {
     "data": {
      "text/plain": [
       "array([0., 1., 3., 4., 5.])"
      ]
     },
     "execution_count": 68,
     "metadata": {
      "tags": []
     },
     "output_type": "execute_result"
    }
   ],
   "source": [
    "np.unique(y_train)"
   ]
  },
  {
   "cell_type": "code",
   "execution_count": null,
   "metadata": {
    "colab": {
     "base_uri": "https://localhost:8080/"
    },
    "id": "7NGjHpTZQalF",
    "outputId": "d80cd496-e0a5-4e87-b947-1fe25381d2ef"
   },
   "outputs": [
    {
     "name": "stdout",
     "output_type": "stream",
     "text": [
      "0:\tlearn: 0.7647767\ttest: 0.7647767\ttest1: 0.7558963\tbest: 0.7558963 (0)\ttotal: 69.6ms\tremaining: 4m 3s\n",
      "100:\tlearn: 0.8072864\ttest: 0.8072864\ttest1: 0.7734167\tbest: 0.7734167 (100)\ttotal: 1.99s\tremaining: 1m 7s\n",
      "200:\tlearn: 0.8495233\ttest: 0.8495233\ttest1: 0.7950686\tbest: 0.7952494 (194)\ttotal: 3.85s\tremaining: 1m 3s\n",
      "300:\tlearn: 0.8772146\ttest: 0.8772146\ttest1: 0.8080398\tbest: 0.8080398 (300)\ttotal: 5.72s\tremaining: 1m\n",
      "400:\tlearn: 0.9001486\ttest: 0.9001486\ttest1: 0.8195328\tbest: 0.8201019 (388)\ttotal: 7.64s\tremaining: 59s\n",
      "500:\tlearn: 0.9137617\ttest: 0.9137617\ttest1: 0.8267607\tbest: 0.8275127 (491)\ttotal: 9.54s\tremaining: 57.1s\n",
      "600:\tlearn: 0.9256613\ttest: 0.9256613\ttest1: 0.8332441\tbest: 0.8338890 (574)\ttotal: 11.5s\tremaining: 55.2s\n",
      "700:\tlearn: 0.9352595\ttest: 0.9352595\ttest1: 0.8368057\tbest: 0.8369975 (696)\ttotal: 13.4s\tremaining: 53.4s\n",
      "800:\tlearn: 0.9446565\ttest: 0.9446565\ttest1: 0.8410802\tbest: 0.8413392 (794)\ttotal: 15.3s\tremaining: 51.5s\n",
      "900:\tlearn: 0.9522827\ttest: 0.9522827\ttest1: 0.8460340\tbest: 0.8460340 (900)\ttotal: 17.2s\tremaining: 49.7s\n",
      "1000:\tlearn: 0.9596605\ttest: 0.9596605\ttest1: 0.8474597\tbest: 0.8478920 (993)\ttotal: 19.2s\tremaining: 47.9s\n",
      "1100:\tlearn: 0.9664200\ttest: 0.9664200\ttest1: 0.8482729\tbest: 0.8485099 (1093)\ttotal: 21.1s\tremaining: 46.1s\n",
      "1200:\tlearn: 0.9716930\ttest: 0.9716930\ttest1: 0.8494977\tbest: 0.8503711 (1194)\ttotal: 23.1s\tremaining: 44.1s\n",
      "1300:\tlearn: 0.9753177\ttest: 0.9753177\ttest1: 0.8509501\tbest: 0.8515479 (1293)\ttotal: 24.9s\tremaining: 42.1s\n",
      "1400:\tlearn: 0.9791630\ttest: 0.9791630\ttest1: 0.8518683\tbest: 0.8518683 (1400)\ttotal: 26.8s\tremaining: 40.2s\n",
      "1500:\tlearn: 0.9822696\ttest: 0.9822696\ttest1: 0.8541621\tbest: 0.8550703 (1467)\ttotal: 28.7s\tremaining: 38.3s\n",
      "1600:\tlearn: 0.9850844\ttest: 0.9850844\ttest1: 0.8555465\tbest: 0.8569655 (1582)\ttotal: 30.6s\tremaining: 36.3s\n",
      "1700:\tlearn: 0.9876717\ttest: 0.9876717\ttest1: 0.8570550\tbest: 0.8574738 (1688)\ttotal: 32.6s\tremaining: 34.5s\n",
      "1800:\tlearn: 0.9900226\ttest: 0.9900226\ttest1: 0.8558816\tbest: 0.8579351 (1767)\ttotal: 34.5s\tremaining: 32.6s\n",
      "1900:\tlearn: 0.9924219\ttest: 0.9924219\ttest1: 0.8565790\tbest: 0.8579351 (1767)\ttotal: 36.4s\tremaining: 30.6s\n",
      "2000:\tlearn: 0.9934041\ttest: 0.9934041\ttest1: 0.8558631\tbest: 0.8579351 (1767)\ttotal: 38.3s\tremaining: 28.7s\n",
      "2100:\tlearn: 0.9948734\ttest: 0.9948734\ttest1: 0.8565890\tbest: 0.8579351 (1767)\ttotal: 40.2s\tremaining: 26.8s\n",
      "2200:\tlearn: 0.9957101\ttest: 0.9957101\ttest1: 0.8569819\tbest: 0.8579351 (1767)\ttotal: 42.1s\tremaining: 24.8s\n",
      "Stopped by overfitting detector  (500 iterations wait)\n",
      "\n",
      "bestTest = 0.8579351263\n",
      "bestIteration = 1767\n",
      "\n",
      "Shrink model to first 1768 iterations.\n",
      "accuracy: 0.857935126308043\n"
     ]
    }
   ],
   "source": [
    "from catboost import CatBoostClassifier\r\n",
    "cat = CatBoostClassifier(loss_function='MultiClass', \r\n",
    "                         eval_metric='TotalF1', \r\n",
    "                         depth=6,\r\n",
    "                         random_seed=121, \r\n",
    "                         iterations=3500, \r\n",
    "                         learning_rate=0.1,\r\n",
    "                         leaf_estimation_iterations=1,\r\n",
    "                         l2_leaf_reg=1,\r\n",
    "                         bootstrap_type='Bayesian', \r\n",
    "                         bagging_temperature=1, \r\n",
    "                         random_strength=1,\r\n",
    "                         od_type='Iter', \r\n",
    "                         border_count=100,\r\n",
    "                         od_wait=500)\r\n",
    "cat.fit(X_train, y_train, verbose=100,\r\n",
    "        use_best_model=True,\r\n",
    "        eval_set=[(X_train, y_train),(X_valid, y_valid)],\r\n",
    "        plot=False)\r\n",
    "predictions = cat.predict(X_valid)\r\n",
    "print('accuracy:', f1_score(y_valid, predictions, average='weighted'))"
   ]
  },
  {
   "cell_type": "code",
   "execution_count": null,
   "metadata": {
    "colab": {
     "base_uri": "https://localhost:8080/"
    },
    "id": "7q5-nVLHSSb1",
    "outputId": "05801c1a-cbac-411c-a2c2-7d8e9237b443"
   },
   "outputs": [
    {
     "name": "stdout",
     "output_type": "stream",
     "text": [
      "accuracy: 0.857935126308043\n"
     ]
    }
   ],
   "source": [
    "print('accuracy:', f1_score(y_valid, predictions, average='weighted'))"
   ]
  },
  {
   "cell_type": "code",
   "execution_count": null,
   "metadata": {
    "id": "DKrDVL7UT7tL"
   },
   "outputs": [],
   "source": [
    "Xtest = test"
   ]
  },
  {
   "cell_type": "code",
   "execution_count": null,
   "metadata": {
    "colab": {
     "base_uri": "https://localhost:8080/"
    },
    "id": "aYd4sVBYT0qO",
    "outputId": "949652d2-0cb9-4a72-e500-bc12e891dc5e"
   },
   "outputs": [
    {
     "name": "stdout",
     "output_type": "stream",
     "text": [
      "Accuracy:  0.8689226212502722\n",
      "Accuracy:  0.863282058606027\n",
      "Accuracy:  0.8491480139975321\n",
      "Accuracy:  0.8503272635354306\n",
      "Accuracy:  0.8645094428274402\n",
      "Accuracy:  0.866349389624819\n",
      "Accuracy:  0.8586177976977565\n",
      "Accuracy:  0.8523310058370366\n",
      "Accuracy:  0.8661493507692198\n",
      "Accuracy:  0.8589267017535376\n"
     ]
    }
   ],
   "source": [
    "from sklearn.model_selection import KFold\r\n",
    "\r\n",
    "errcat = []\r\n",
    "y_pred_totcat = []\r\n",
    "\r\n",
    "fold = KFold(n_splits=10, shuffle=True, random_state=101)\r\n",
    "\r\n",
    "for train_index, test_index in fold.split(X):\r\n",
    "    X_train, X_test = X.loc[train_index], X.loc[test_index]\r\n",
    "    y_train, y_test = y[train_index], y[test_index]\r\n",
    "    \r\n",
    "    cat = CatBoostClassifier(loss_function='MultiClass', \r\n",
    "                         eval_metric='TotalF1', \r\n",
    "                         depth=6,\r\n",
    "                         random_seed=121, \r\n",
    "                         iterations=3500, \r\n",
    "                         learning_rate=0.1,\r\n",
    "                         leaf_estimation_iterations=1,\r\n",
    "                         l2_leaf_reg=1,\r\n",
    "                         bootstrap_type='Bayesian', \r\n",
    "                         bagging_temperature=0.8, \r\n",
    "                         random_strength=1,\r\n",
    "                         od_type='Iter', \r\n",
    "                         border_count=100,\r\n",
    "                         od_wait=500)\r\n",
    "    cat.fit(X_train, y_train, eval_set=[(X_test, y_test)], verbose=0, early_stopping_rounds=200)\r\n",
    "\r\n",
    "    y_pred_cat = cat.predict(X_test)\r\n",
    "    print(\"Accuracy: \", f1_score(y_test,y_pred_cat, average='weighted'))\r\n",
    "\r\n",
    "    errcat.append(f1_score(y_test,y_pred_cat, average='weighted'))\r\n",
    "    p = cat.predict_proba(Xtest)\r\n",
    "    y_pred_totcat.append(p)"
   ]
  },
  {
   "cell_type": "code",
   "execution_count": null,
   "metadata": {
    "colab": {
     "base_uri": "https://localhost:8080/"
    },
    "id": "O-m2XhBqWpOo",
    "outputId": "463a551c-b943-4ff5-a12a-bc44aee209a3"
   },
   "outputs": [
    {
     "data": {
      "text/plain": [
       "(10, 12140, 5)"
      ]
     },
     "execution_count": 108,
     "metadata": {
      "tags": []
     },
     "output_type": "execute_result"
    }
   ],
   "source": [
    "np.shape(y_pred_totcat)"
   ]
  },
  {
   "cell_type": "code",
   "execution_count": null,
   "metadata": {
    "colab": {
     "base_uri": "https://localhost:8080/"
    },
    "id": "DvFCUslJYi6X",
    "outputId": "faa5c37a-5441-4d79-97c6-b0708207809f"
   },
   "outputs": [
    {
     "data": {
      "text/plain": [
       "(12140, 5)"
      ]
     },
     "execution_count": 109,
     "metadata": {
      "tags": []
     },
     "output_type": "execute_result"
    }
   ],
   "source": [
    "preds1 =[]\r\n",
    "for j in range(len(y_pred_totcat[0])):\r\n",
    "  preds1.append(y_pred_totcat[0][j])\r\n",
    "np.shape(preds1)"
   ]
  },
  {
   "cell_type": "code",
   "execution_count": null,
   "metadata": {
    "colab": {
     "base_uri": "https://localhost:8080/",
     "height": 203
    },
    "id": "pduVlRF7YvSl",
    "outputId": "d0d95ea3-0921-4c70-bebc-6b1a3762e350"
   },
   "outputs": [
    {
     "data": {
      "text/html": [
       "<div>\n",
       "<style scoped>\n",
       "    .dataframe tbody tr th:only-of-type {\n",
       "        vertical-align: middle;\n",
       "    }\n",
       "\n",
       "    .dataframe tbody tr th {\n",
       "        vertical-align: top;\n",
       "    }\n",
       "\n",
       "    .dataframe thead th {\n",
       "        text-align: right;\n",
       "    }\n",
       "</style>\n",
       "<table border=\"1\" class=\"dataframe\">\n",
       "  <thead>\n",
       "    <tr style=\"text-align: right;\">\n",
       "      <th></th>\n",
       "      <th>0</th>\n",
       "      <th>1</th>\n",
       "      <th>2</th>\n",
       "      <th>3</th>\n",
       "      <th>4</th>\n",
       "    </tr>\n",
       "  </thead>\n",
       "  <tbody>\n",
       "    <tr>\n",
       "      <th>0</th>\n",
       "      <td>9.980620e-06</td>\n",
       "      <td>0.019442</td>\n",
       "      <td>0.169421</td>\n",
       "      <td>0.784624</td>\n",
       "      <td>0.026503</td>\n",
       "    </tr>\n",
       "    <tr>\n",
       "      <th>1</th>\n",
       "      <td>2.184602e-07</td>\n",
       "      <td>0.001261</td>\n",
       "      <td>0.020919</td>\n",
       "      <td>0.977366</td>\n",
       "      <td>0.000454</td>\n",
       "    </tr>\n",
       "    <tr>\n",
       "      <th>2</th>\n",
       "      <td>2.696347e-07</td>\n",
       "      <td>0.000111</td>\n",
       "      <td>0.020996</td>\n",
       "      <td>0.966037</td>\n",
       "      <td>0.012856</td>\n",
       "    </tr>\n",
       "    <tr>\n",
       "      <th>3</th>\n",
       "      <td>3.158135e-07</td>\n",
       "      <td>0.000721</td>\n",
       "      <td>0.003692</td>\n",
       "      <td>0.984762</td>\n",
       "      <td>0.010825</td>\n",
       "    </tr>\n",
       "    <tr>\n",
       "      <th>4</th>\n",
       "      <td>2.987975e-07</td>\n",
       "      <td>0.000059</td>\n",
       "      <td>0.000854</td>\n",
       "      <td>0.998731</td>\n",
       "      <td>0.000356</td>\n",
       "    </tr>\n",
       "  </tbody>\n",
       "</table>\n",
       "</div>"
      ],
      "text/plain": [
       "              0         1         2         3         4\n",
       "0  9.980620e-06  0.019442  0.169421  0.784624  0.026503\n",
       "1  2.184602e-07  0.001261  0.020919  0.977366  0.000454\n",
       "2  2.696347e-07  0.000111  0.020996  0.966037  0.012856\n",
       "3  3.158135e-07  0.000721  0.003692  0.984762  0.010825\n",
       "4  2.987975e-07  0.000059  0.000854  0.998731  0.000356"
      ]
     },
     "execution_count": 110,
     "metadata": {
      "tags": []
     },
     "output_type": "execute_result"
    }
   ],
   "source": [
    "sub = pd.DataFrame(preds1)\r\n",
    "sub.head()\r\n",
    "\r\n",
    "\r\n",
    "# 0.41127"
   ]
  },
  {
   "cell_type": "code",
   "execution_count": null,
   "metadata": {
    "colab": {
     "base_uri": "https://localhost:8080/"
    },
    "id": "8ijWB9VRZEO7",
    "outputId": "c9cfd8fd-aa7d-4052-87f4-fd9f1632fc49"
   },
   "outputs": [
    {
     "data": {
      "text/plain": [
       "(12140, 5)"
      ]
     },
     "execution_count": 112,
     "metadata": {
      "tags": []
     },
     "output_type": "execute_result"
    }
   ],
   "source": [
    "preds2 =[]\r\n",
    "for j in range(len(y_pred_totcat[1])):\r\n",
    "  preds2.append(y_pred_totcat[1][j])\r\n",
    "np.shape(preds2)\r\n"
   ]
  },
  {
   "cell_type": "code",
   "execution_count": null,
   "metadata": {
    "id": "NO2N-7mYZA1B"
   },
   "outputs": [],
   "source": [
    "sub = pd.DataFrame(preds2)\r\n",
    "sub.head()\r\n",
    "sub.to_csv('preds2.csv',index=False)\r\n",
    "# 0.41833"
   ]
  },
  {
   "cell_type": "code",
   "execution_count": null,
   "metadata": {
    "id": "IHG4dDOKYyhN"
   },
   "outputs": [],
   "source": [
    "preds3 =[]\r\n",
    "for j in range(len(y_pred_totcat[2])):\r\n",
    "  preds3.append(y_pred_totcat[2][j])\r\n",
    "np.shape(preds3)\r\n",
    "sub = pd.DataFrame(preds3)\r\n",
    "sub.head()\r\n",
    "sub.to_csv('preds3.csv',index=False)\r\n",
    "# 0.40874"
   ]
  },
  {
   "cell_type": "code",
   "execution_count": null,
   "metadata": {
    "id": "Rb-hy7FrVzQs"
   },
   "outputs": [],
   "source": [
    "preds4 =[]\r\n",
    "for j in range(len(y_pred_totcat[3])):\r\n",
    "  preds4.append(y_pred_totcat[3][j])\r\n",
    "np.shape(preds4)\r\n",
    "sub = pd.DataFrame(preds4)\r\n",
    "sub.head()\r\n",
    "sub.to_csv('preds4.csv',index=False)\r\n",
    "\r\n",
    "# 0.41837"
   ]
  },
  {
   "cell_type": "code",
   "execution_count": null,
   "metadata": {
    "id": "aGsGIgm0ZtdN"
   },
   "outputs": [],
   "source": [
    "preds5 =[]\r\n",
    "for j in range(len(y_pred_totcat[4])):\r\n",
    "  preds5.append(y_pred_totcat[4][j])\r\n",
    "np.shape(preds5)\r\n",
    "sub = pd.DataFrame(preds5)\r\n",
    "sub.head()\r\n",
    "sub.to_csv('preds5.csv',index=False)\r\n",
    "\r\n",
    "preds6 =[]\r\n",
    "for j in range(len(y_pred_totcat[5])):\r\n",
    "  preds6.append(y_pred_totcat[5][j])\r\n",
    "np.shape(preds6)\r\n",
    "sub = pd.DataFrame(preds6)\r\n",
    "sub.head()\r\n",
    "sub.to_csv('preds6.csv',index=False)\r\n",
    "\r\n",
    "# 0.40638\r\n",
    "\r\n",
    "preds7 =[]\r\n",
    "for j in range(len(y_pred_totcat[6])):\r\n",
    "  preds7.append(y_pred_totcat[6][j])\r\n",
    "np.shape(preds7)\r\n",
    "sub = pd.DataFrame(preds7)\r\n",
    "sub.head()\r\n",
    "sub.to_csv('preds7.csv',index=False)\r\n",
    "\r\n",
    "preds8 =[]\r\n",
    "for j in range(len(y_pred_totcat[7])):\r\n",
    "  preds8.append(y_pred_totcat[7][j])\r\n",
    "np.shape(preds8)\r\n",
    "sub = pd.DataFrame(preds8)\r\n",
    "sub.head()\r\n",
    "sub.to_csv('preds8.csv',index=False)\r\n",
    "\r\n"
   ]
  },
  {
   "cell_type": "code",
   "execution_count": null,
   "metadata": {
    "id": "HMXsMBmxaOlE"
   },
   "outputs": [],
   "source": [
    "preds9 =[]\r\n",
    "for j in range(len(y_pred_totcat[8])):\r\n",
    "  preds9.append(y_pred_totcat[8][j])\r\n",
    "np.shape(preds9)\r\n",
    "sub = pd.DataFrame(preds9)\r\n",
    "sub.head()\r\n",
    "sub.to_csv('preds9.csv',index=False)\r\n",
    "\r\n",
    "# 0.41219\r\n",
    "\r\n",
    "\r\n",
    "\r\n",
    "preds10 =[]\r\n",
    "for j in range(len(y_pred_totcat[9])):\r\n",
    "  preds10.append(y_pred_totcat[9][j])\r\n",
    "np.shape(preds10)\r\n",
    "sub = pd.DataFrame(preds10)\r\n",
    "sub.head()\r\n",
    "sub.to_csv('preds10.csv',index=False)\r\n"
   ]
  },
  {
   "cell_type": "code",
   "execution_count": null,
   "metadata": {
    "id": "X5Eq0UZ9aaEi"
   },
   "outputs": [],
   "source": []
  }
 ],
 "metadata": {
  "colab": {
   "collapsed_sections": [],
   "name": "MPP_Catboost_v1.ipynb",
   "provenance": []
  },
  "kernelspec": {
   "display_name": "Python 3",
   "language": "python",
   "name": "python3"
  },
  "language_info": {
   "codemirror_mode": {
    "name": "ipython",
    "version": 3
   },
   "file_extension": ".py",
   "mimetype": "text/x-python",
   "name": "python",
   "nbconvert_exporter": "python",
   "pygments_lexer": "ipython3",
   "version": "3.8.3"
  }
 },
 "nbformat": 4,
 "nbformat_minor": 4
}
