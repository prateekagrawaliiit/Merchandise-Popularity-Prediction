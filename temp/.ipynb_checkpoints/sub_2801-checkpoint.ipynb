{
 "cells": [
  {
   "cell_type": "code",
   "execution_count": 1,
   "metadata": {},
   "outputs": [],
   "source": [
    "import pandas as pd\n",
    "import numpy as np"
   ]
  },
  {
   "cell_type": "code",
   "execution_count": 3,
   "metadata": {},
   "outputs": [],
   "source": [
    "train = pd.read_csv('../Train.csv')\n",
    "test = pd.read_csv('../Test.csv')"
   ]
  },
  {
   "cell_type": "code",
   "execution_count": 4,
   "metadata": {},
   "outputs": [],
   "source": [
    "import pandas as pd\n",
    "import numpy as np\n",
    "import seaborn as sns\n",
    "import matplotlib.pyplot as plt\n",
    "from lightgbm import LGBMClassifier\n",
    "from catboost import CatBoostClassifier\n",
    "from xgboost import XGBClassifier\n",
    "from sklearn.linear_model import LogisticRegression , RidgeClassifier, Huber\n",
    "from sklearn.tree import DecisionTreeClassifier\n",
    "from sklearn.ensemble import RandomForestClassifier , GradientBoostingClassifier , ExtraTreesClassifier , AdaBoostClassifier\n",
    "from sklearn.model_selection import KFold ,StratifiedKFold\n",
    "from sklearn.metrics import log_loss\n",
    "import warnings \n",
    "warnings.filterwarnings('ignore')"
   ]
  },
  {
   "cell_type": "code",
   "execution_count": 5,
   "metadata": {},
   "outputs": [
    {
     "data": {
      "text/html": [
       "<div>\n",
       "<style scoped>\n",
       "    .dataframe tbody tr th:only-of-type {\n",
       "        vertical-align: middle;\n",
       "    }\n",
       "\n",
       "    .dataframe tbody tr th {\n",
       "        vertical-align: top;\n",
       "    }\n",
       "\n",
       "    .dataframe thead th {\n",
       "        text-align: right;\n",
       "    }\n",
       "</style>\n",
       "<table border=\"1\" class=\"dataframe\">\n",
       "  <thead>\n",
       "    <tr style=\"text-align: right;\">\n",
       "      <th></th>\n",
       "      <th>Store_Ratio</th>\n",
       "      <th>Basket_Ratio</th>\n",
       "      <th>Category_1</th>\n",
       "      <th>Store_Score</th>\n",
       "      <th>Category_2</th>\n",
       "      <th>Store_Presence</th>\n",
       "      <th>Score_1</th>\n",
       "      <th>Score_2</th>\n",
       "      <th>Score_3</th>\n",
       "      <th>Score_4</th>\n",
       "      <th>time</th>\n",
       "      <th>popularity</th>\n",
       "    </tr>\n",
       "  </thead>\n",
       "  <tbody>\n",
       "    <tr>\n",
       "      <th>0</th>\n",
       "      <td>0.407</td>\n",
       "      <td>0.00380</td>\n",
       "      <td>2</td>\n",
       "      <td>-35.865</td>\n",
       "      <td>1</td>\n",
       "      <td>0.9920</td>\n",
       "      <td>0.944</td>\n",
       "      <td>0.0988</td>\n",
       "      <td>0.1100</td>\n",
       "      <td>113.911</td>\n",
       "      <td>189125</td>\n",
       "      <td>4</td>\n",
       "    </tr>\n",
       "    <tr>\n",
       "      <th>1</th>\n",
       "      <td>0.234</td>\n",
       "      <td>0.10500</td>\n",
       "      <td>0</td>\n",
       "      <td>-19.884</td>\n",
       "      <td>1</td>\n",
       "      <td>0.9440</td>\n",
       "      <td>0.900</td>\n",
       "      <td>0.1290</td>\n",
       "      <td>0.0382</td>\n",
       "      <td>76.332</td>\n",
       "      <td>186513</td>\n",
       "      <td>4</td>\n",
       "    </tr>\n",
       "    <tr>\n",
       "      <th>2</th>\n",
       "      <td>0.668</td>\n",
       "      <td>0.72600</td>\n",
       "      <td>9</td>\n",
       "      <td>-7.512</td>\n",
       "      <td>1</td>\n",
       "      <td>0.0387</td>\n",
       "      <td>0.000</td>\n",
       "      <td>0.1340</td>\n",
       "      <td>0.4530</td>\n",
       "      <td>124.075</td>\n",
       "      <td>172143</td>\n",
       "      <td>4</td>\n",
       "    </tr>\n",
       "    <tr>\n",
       "      <th>3</th>\n",
       "      <td>0.184</td>\n",
       "      <td>0.00561</td>\n",
       "      <td>4</td>\n",
       "      <td>-34.357</td>\n",
       "      <td>1</td>\n",
       "      <td>0.8490</td>\n",
       "      <td>0.931</td>\n",
       "      <td>0.1110</td>\n",
       "      <td>0.0641</td>\n",
       "      <td>79.037</td>\n",
       "      <td>184000</td>\n",
       "      <td>5</td>\n",
       "    </tr>\n",
       "    <tr>\n",
       "      <th>4</th>\n",
       "      <td>0.231</td>\n",
       "      <td>0.13100</td>\n",
       "      <td>6</td>\n",
       "      <td>-22.842</td>\n",
       "      <td>1</td>\n",
       "      <td>0.9370</td>\n",
       "      <td>0.000</td>\n",
       "      <td>0.1090</td>\n",
       "      <td>0.0677</td>\n",
       "      <td>109.560</td>\n",
       "      <td>186507</td>\n",
       "      <td>3</td>\n",
       "    </tr>\n",
       "  </tbody>\n",
       "</table>\n",
       "</div>"
      ],
      "text/plain": [
       "   Store_Ratio  Basket_Ratio  Category_1  Store_Score  Category_2  \\\n",
       "0        0.407       0.00380           2      -35.865           1   \n",
       "1        0.234       0.10500           0      -19.884           1   \n",
       "2        0.668       0.72600           9       -7.512           1   \n",
       "3        0.184       0.00561           4      -34.357           1   \n",
       "4        0.231       0.13100           6      -22.842           1   \n",
       "\n",
       "   Store_Presence  Score_1  Score_2  Score_3  Score_4    time  popularity  \n",
       "0          0.9920    0.944   0.0988   0.1100  113.911  189125           4  \n",
       "1          0.9440    0.900   0.1290   0.0382   76.332  186513           4  \n",
       "2          0.0387    0.000   0.1340   0.4530  124.075  172143           4  \n",
       "3          0.8490    0.931   0.1110   0.0641   79.037  184000           5  \n",
       "4          0.9370    0.000   0.1090   0.0677  109.560  186507           3  "
      ]
     },
     "execution_count": 5,
     "metadata": {},
     "output_type": "execute_result"
    }
   ],
   "source": [
    "train = train[train['time']<2*1e6]\n",
    "train = train[train['time']!=1804691]\n",
    "train = train[train['Store_Ratio']>0]\n",
    "# train.shape\n",
    "train.head()"
   ]
  },
  {
   "cell_type": "code",
   "execution_count": 6,
   "metadata": {},
   "outputs": [
    {
     "data": {
      "text/plain": [
       "(18189, 12)"
      ]
     },
     "execution_count": 6,
     "metadata": {},
     "output_type": "execute_result"
    }
   ],
   "source": [
    "train.shape"
   ]
  },
  {
   "cell_type": "code",
   "execution_count": 7,
   "metadata": {},
   "outputs": [
    {
     "data": {
      "text/plain": [
       "4    15229\n",
       "3     2165\n",
       "5      472\n",
       "1      323\n",
       "Name: popularity, dtype: int64"
      ]
     },
     "execution_count": 7,
     "metadata": {},
     "output_type": "execute_result"
    }
   ],
   "source": [
    "train.popularity.value_counts()"
   ]
  },
  {
   "cell_type": "code",
   "execution_count": 8,
   "metadata": {},
   "outputs": [],
   "source": [
    "df = train.append(test)"
   ]
  },
  {
   "cell_type": "code",
   "execution_count": 9,
   "metadata": {},
   "outputs": [
    {
     "data": {
      "text/plain": [
       "Index(['Store_Ratio', 'Basket_Ratio', 'Category_1', 'Store_Score',\n",
       "       'Category_2', 'Store_Presence', 'Score_1', 'Score_2', 'Score_3',\n",
       "       'Score_4', 'time', 'popularity'],\n",
       "      dtype='object')"
      ]
     },
     "execution_count": 9,
     "metadata": {},
     "output_type": "execute_result"
    }
   ],
   "source": [
    "df.columns"
   ]
  },
  {
   "cell_type": "code",
   "execution_count": 53,
   "metadata": {},
   "outputs": [],
   "source": [
    "# dummy = test[test['Store_Presence']==0]\n",
    "# dummy.head()"
   ]
  },
  {
   "cell_type": "code",
   "execution_count": 54,
   "metadata": {},
   "outputs": [],
   "source": [
    "# for col in df.columns:\n",
    "#     if 0 in df[col].values:\n",
    "#         print(col)"
   ]
  },
  {
   "cell_type": "code",
   "execution_count": 10,
   "metadata": {},
   "outputs": [],
   "source": [
    "# df['time']  = df['time']/3600\n",
    "# df['Score_2'] = np.log1p(df['Score_2'])\n",
    "df['Store_Pre_Bin'] = df['Store_Presence'].apply(lambda x: 1 if x<=0.5 else 0)\n",
    "df['avg_score'] = (df['Score_1']+df['Score_2']+df['Score_3']+df['Score_4'])/4 "
   ]
  },
  {
   "cell_type": "code",
   "execution_count": 56,
   "metadata": {},
   "outputs": [],
   "source": [
    "# df['Basket_Ratio_sum_Store_Ratio'] = df['Basket_Ratio'] + df['Store_Ratio']\n",
    "# df['Score_3_ratio_Store_Ratio'] = df['Score_3']/df['Store_Ratio']\n",
    "# df['Score_3_multiply_Store_Ratio'] = df['Score_3']*df['Store_Ratio']\n",
    "# df['Score_3_ratio_Store_Ratio'] = df['Score_3']/df['Store_Ratio']\n",
    "# df['Store_Ratio_diff_Store_Presence'] = df['Store_Ratio']-df['Store_Presence']\n"
   ]
  },
  {
   "cell_type": "code",
   "execution_count": 11,
   "metadata": {},
   "outputs": [
    {
     "data": {
      "text/html": [
       "<div>\n",
       "<style scoped>\n",
       "    .dataframe tbody tr th:only-of-type {\n",
       "        vertical-align: middle;\n",
       "    }\n",
       "\n",
       "    .dataframe tbody tr th {\n",
       "        vertical-align: top;\n",
       "    }\n",
       "\n",
       "    .dataframe thead th {\n",
       "        text-align: right;\n",
       "    }\n",
       "</style>\n",
       "<table border=\"1\" class=\"dataframe\">\n",
       "  <thead>\n",
       "    <tr style=\"text-align: right;\">\n",
       "      <th></th>\n",
       "      <th>Store_Ratio</th>\n",
       "      <th>Basket_Ratio</th>\n",
       "      <th>Category_1</th>\n",
       "      <th>Store_Score</th>\n",
       "      <th>Category_2</th>\n",
       "      <th>Store_Presence</th>\n",
       "      <th>Score_1</th>\n",
       "      <th>Score_2</th>\n",
       "      <th>Score_3</th>\n",
       "      <th>Score_4</th>\n",
       "      <th>time</th>\n",
       "      <th>popularity</th>\n",
       "      <th>Store_Pre_Bin</th>\n",
       "      <th>avg_score</th>\n",
       "    </tr>\n",
       "  </thead>\n",
       "  <tbody>\n",
       "    <tr>\n",
       "      <th>0</th>\n",
       "      <td>0.407</td>\n",
       "      <td>0.00380</td>\n",
       "      <td>2</td>\n",
       "      <td>-35.865</td>\n",
       "      <td>1</td>\n",
       "      <td>0.99200</td>\n",
       "      <td>0.944000</td>\n",
       "      <td>0.0988</td>\n",
       "      <td>0.1100</td>\n",
       "      <td>113.911</td>\n",
       "      <td>189125</td>\n",
       "      <td>4.0</td>\n",
       "      <td>0</td>\n",
       "      <td>28.765950</td>\n",
       "    </tr>\n",
       "    <tr>\n",
       "      <th>1</th>\n",
       "      <td>0.234</td>\n",
       "      <td>0.10500</td>\n",
       "      <td>0</td>\n",
       "      <td>-19.884</td>\n",
       "      <td>1</td>\n",
       "      <td>0.94400</td>\n",
       "      <td>0.900000</td>\n",
       "      <td>0.1290</td>\n",
       "      <td>0.0382</td>\n",
       "      <td>76.332</td>\n",
       "      <td>186513</td>\n",
       "      <td>4.0</td>\n",
       "      <td>0</td>\n",
       "      <td>19.349800</td>\n",
       "    </tr>\n",
       "    <tr>\n",
       "      <th>2</th>\n",
       "      <td>0.668</td>\n",
       "      <td>0.72600</td>\n",
       "      <td>9</td>\n",
       "      <td>-7.512</td>\n",
       "      <td>1</td>\n",
       "      <td>0.03870</td>\n",
       "      <td>0.000000</td>\n",
       "      <td>0.1340</td>\n",
       "      <td>0.4530</td>\n",
       "      <td>124.075</td>\n",
       "      <td>172143</td>\n",
       "      <td>4.0</td>\n",
       "      <td>1</td>\n",
       "      <td>31.165500</td>\n",
       "    </tr>\n",
       "    <tr>\n",
       "      <th>3</th>\n",
       "      <td>0.184</td>\n",
       "      <td>0.00561</td>\n",
       "      <td>4</td>\n",
       "      <td>-34.357</td>\n",
       "      <td>1</td>\n",
       "      <td>0.84900</td>\n",
       "      <td>0.931000</td>\n",
       "      <td>0.1110</td>\n",
       "      <td>0.0641</td>\n",
       "      <td>79.037</td>\n",
       "      <td>184000</td>\n",
       "      <td>5.0</td>\n",
       "      <td>0</td>\n",
       "      <td>20.035775</td>\n",
       "    </tr>\n",
       "    <tr>\n",
       "      <th>4</th>\n",
       "      <td>0.231</td>\n",
       "      <td>0.13100</td>\n",
       "      <td>6</td>\n",
       "      <td>-22.842</td>\n",
       "      <td>1</td>\n",
       "      <td>0.93700</td>\n",
       "      <td>0.000000</td>\n",
       "      <td>0.1090</td>\n",
       "      <td>0.0677</td>\n",
       "      <td>109.560</td>\n",
       "      <td>186507</td>\n",
       "      <td>3.0</td>\n",
       "      <td>0</td>\n",
       "      <td>27.434175</td>\n",
       "    </tr>\n",
       "    <tr>\n",
       "      <th>...</th>\n",
       "      <td>...</td>\n",
       "      <td>...</td>\n",
       "      <td>...</td>\n",
       "      <td>...</td>\n",
       "      <td>...</td>\n",
       "      <td>...</td>\n",
       "      <td>...</td>\n",
       "      <td>...</td>\n",
       "      <td>...</td>\n",
       "      <td>...</td>\n",
       "      <td>...</td>\n",
       "      <td>...</td>\n",
       "      <td>...</td>\n",
       "      <td>...</td>\n",
       "    </tr>\n",
       "    <tr>\n",
       "      <th>12135</th>\n",
       "      <td>0.171</td>\n",
       "      <td>0.11800</td>\n",
       "      <td>2</td>\n",
       "      <td>-25.360</td>\n",
       "      <td>1</td>\n",
       "      <td>0.86100</td>\n",
       "      <td>0.871000</td>\n",
       "      <td>0.0932</td>\n",
       "      <td>0.0539</td>\n",
       "      <td>78.303</td>\n",
       "      <td>192039</td>\n",
       "      <td>0.0</td>\n",
       "      <td>0</td>\n",
       "      <td>19.830275</td>\n",
       "    </tr>\n",
       "    <tr>\n",
       "      <th>12136</th>\n",
       "      <td>0.744</td>\n",
       "      <td>0.85900</td>\n",
       "      <td>11</td>\n",
       "      <td>-3.166</td>\n",
       "      <td>1</td>\n",
       "      <td>0.02560</td>\n",
       "      <td>0.000063</td>\n",
       "      <td>0.0881</td>\n",
       "      <td>0.7870</td>\n",
       "      <td>91.977</td>\n",
       "      <td>232787</td>\n",
       "      <td>0.0</td>\n",
       "      <td>1</td>\n",
       "      <td>23.213041</td>\n",
       "    </tr>\n",
       "    <tr>\n",
       "      <th>12137</th>\n",
       "      <td>0.572</td>\n",
       "      <td>0.85200</td>\n",
       "      <td>6</td>\n",
       "      <td>-4.712</td>\n",
       "      <td>0</td>\n",
       "      <td>0.00105</td>\n",
       "      <td>0.000000</td>\n",
       "      <td>0.0844</td>\n",
       "      <td>0.3780</td>\n",
       "      <td>129.969</td>\n",
       "      <td>216411</td>\n",
       "      <td>0.0</td>\n",
       "      <td>1</td>\n",
       "      <td>32.607850</td>\n",
       "    </tr>\n",
       "    <tr>\n",
       "      <th>12138</th>\n",
       "      <td>0.761</td>\n",
       "      <td>0.52500</td>\n",
       "      <td>11</td>\n",
       "      <td>-6.900</td>\n",
       "      <td>1</td>\n",
       "      <td>0.44000</td>\n",
       "      <td>0.000007</td>\n",
       "      <td>0.0921</td>\n",
       "      <td>0.5310</td>\n",
       "      <td>80.870</td>\n",
       "      <td>238805</td>\n",
       "      <td>0.0</td>\n",
       "      <td>1</td>\n",
       "      <td>20.373277</td>\n",
       "    </tr>\n",
       "    <tr>\n",
       "      <th>12139</th>\n",
       "      <td>0.341</td>\n",
       "      <td>0.19700</td>\n",
       "      <td>9</td>\n",
       "      <td>-19.350</td>\n",
       "      <td>1</td>\n",
       "      <td>0.98600</td>\n",
       "      <td>0.963000</td>\n",
       "      <td>0.0800</td>\n",
       "      <td>0.9650</td>\n",
       "      <td>115.107</td>\n",
       "      <td>73000</td>\n",
       "      <td>0.0</td>\n",
       "      <td>0</td>\n",
       "      <td>29.278750</td>\n",
       "    </tr>\n",
       "  </tbody>\n",
       "</table>\n",
       "<p>30329 rows × 14 columns</p>\n",
       "</div>"
      ],
      "text/plain": [
       "       Store_Ratio  Basket_Ratio  Category_1  Store_Score  Category_2  \\\n",
       "0            0.407       0.00380           2      -35.865           1   \n",
       "1            0.234       0.10500           0      -19.884           1   \n",
       "2            0.668       0.72600           9       -7.512           1   \n",
       "3            0.184       0.00561           4      -34.357           1   \n",
       "4            0.231       0.13100           6      -22.842           1   \n",
       "...            ...           ...         ...          ...         ...   \n",
       "12135        0.171       0.11800           2      -25.360           1   \n",
       "12136        0.744       0.85900          11       -3.166           1   \n",
       "12137        0.572       0.85200           6       -4.712           0   \n",
       "12138        0.761       0.52500          11       -6.900           1   \n",
       "12139        0.341       0.19700           9      -19.350           1   \n",
       "\n",
       "       Store_Presence   Score_1  Score_2  Score_3  Score_4    time  \\\n",
       "0             0.99200  0.944000   0.0988   0.1100  113.911  189125   \n",
       "1             0.94400  0.900000   0.1290   0.0382   76.332  186513   \n",
       "2             0.03870  0.000000   0.1340   0.4530  124.075  172143   \n",
       "3             0.84900  0.931000   0.1110   0.0641   79.037  184000   \n",
       "4             0.93700  0.000000   0.1090   0.0677  109.560  186507   \n",
       "...               ...       ...      ...      ...      ...     ...   \n",
       "12135         0.86100  0.871000   0.0932   0.0539   78.303  192039   \n",
       "12136         0.02560  0.000063   0.0881   0.7870   91.977  232787   \n",
       "12137         0.00105  0.000000   0.0844   0.3780  129.969  216411   \n",
       "12138         0.44000  0.000007   0.0921   0.5310   80.870  238805   \n",
       "12139         0.98600  0.963000   0.0800   0.9650  115.107   73000   \n",
       "\n",
       "       popularity  Store_Pre_Bin  avg_score  \n",
       "0             4.0              0  28.765950  \n",
       "1             4.0              0  19.349800  \n",
       "2             4.0              1  31.165500  \n",
       "3             5.0              0  20.035775  \n",
       "4             3.0              0  27.434175  \n",
       "...           ...            ...        ...  \n",
       "12135         0.0              0  19.830275  \n",
       "12136         0.0              1  23.213041  \n",
       "12137         0.0              1  32.607850  \n",
       "12138         0.0              1  20.373277  \n",
       "12139         0.0              0  29.278750  \n",
       "\n",
       "[30329 rows x 14 columns]"
      ]
     },
     "execution_count": 11,
     "metadata": {},
     "output_type": "execute_result"
    }
   ],
   "source": [
    "df.fillna(0)"
   ]
  },
  {
   "cell_type": "code",
   "execution_count": null,
   "metadata": {},
   "outputs": [],
   "source": []
  },
  {
   "cell_type": "code",
   "execution_count": 58,
   "metadata": {},
   "outputs": [
    {
     "name": "stdout",
     "output_type": "stream",
     "text": [
      "Store_Ratio 0.998\n",
      "Basket_Ratio 1.0\n",
      "Category_1 11\n",
      "Store_Score 0.662\n",
      "Category_2 1\n",
      "Store_Presence 0.996\n",
      "Score_1 1.0\n",
      "Score_2 0.6901426715396466\n",
      "Score_3 1.0\n",
      "Score_4 219.701\n",
      "time 495.0494444444444\n",
      "popularity 5.0\n",
      "Store_Pre_Bin 1\n",
      "avg_score 55.36519037002033\n",
      "score_by_basket 172726.82082312694\n",
      "Basket_Ratio_sum_Store_Ratio 1.882\n",
      "Score_3_ratio_Store_Ratio 7.779578606158833\n",
      "Score_3_multiply_Store_Ratio 0.9321879999999999\n",
      "Store_Ratio_diff_Store_Presence 0.97691\n"
     ]
    }
   ],
   "source": [
    "for col in df.columns:\n",
    "    print(col,np.max(df[col]))"
   ]
  },
  {
   "cell_type": "code",
   "execution_count": 59,
   "metadata": {},
   "outputs": [],
   "source": [
    "train,test = df.head(len(train)),df.tail(len(test))\n",
    "test.drop(columns=['popularity'],axis=1,inplace=True)"
   ]
  },
  {
   "cell_type": "code",
   "execution_count": 60,
   "metadata": {},
   "outputs": [],
   "source": [
    "X = train.drop('popularity',axis=1)\n",
    "Y = train['popularity']\n",
    "\n",
    "from sklearn.preprocessing import StandardScaler\n",
    "scaler = StandardScaler()\n",
    "X_ = scaler.fit_transform(X)\n",
    "X = pd.DataFrame(X_,columns=X.columns)"
   ]
  },
  {
   "cell_type": "code",
   "execution_count": null,
   "metadata": {},
   "outputs": [],
   "source": [
    "\n",
    "0.40622963042251287\n",
    "0.4147608064892967\n",
    "0.4083242484803806\n",
    "0.41242385360564\n",
    "0.3933343406766553\n",
    "0.3833319521429497\n",
    "0.3776756966009344\n",
    "0.40536682578445876\n",
    "0.38166896790431204\n",
    "0.3952124277656655\n",
    "Mean OOF Score : 0.3978328749872806"
   ]
  },
  {
   "cell_type": "code",
   "execution_count": 61,
   "metadata": {},
   "outputs": [
    {
     "name": "stdout",
     "output_type": "stream",
     "text": [
      "0.4077571456881573\n",
      "0.410899445614295\n",
      "0.41174113748078867\n",
      "0.4161660937967123\n",
      "0.3944097508674703\n",
      "0.38319656503468696\n",
      "0.3797521124535059\n",
      "0.4004541570696445\n",
      "0.3843497714203671\n",
      "0.39513380684251465\n",
      "Mean OOF Score : 0.39838599862681423\n"
     ]
    }
   ],
   "source": [
    "folds = StratifiedKFold(n_splits=10,shuffle=True ,random_state=42)\n",
    "\n",
    "oof_preds = []\n",
    "oof_scores = []\n",
    "\n",
    "for i , (train_idx,test_idx) in enumerate(folds.split(X,Y)):\n",
    "  train_set = (X.iloc[train_idx],Y.iloc[train_idx])\n",
    "  test_set = (X.iloc[test_idx],Y.iloc[test_idx])\n",
    "\n",
    "  model = CatBoostClassifier(loss_function='MultiClass', \n",
    "                         eval_metric='TotalF1', \n",
    "                         depth=7,\n",
    "                         verbose=0\n",
    ")\n",
    "  model.fit(*train_set)\n",
    "  preds = model.predict_proba(test_set[0])\n",
    "  score = log_loss(test_set[1],preds)\n",
    "  \n",
    "  oof_pred_fold = model.predict_proba(scaler.transform(test))\n",
    "  oof_preds.append(oof_pred_fold)\n",
    "\n",
    "  print(score)\n",
    "  oof_scores.append(score)\n",
    "\n",
    "print(\"Mean OOF Score :\",np.mean(oof_scores))\n",
    "final_preds = np.mean(np.array(oof_preds),axis=0)"
   ]
  },
  {
   "cell_type": "code",
   "execution_count": null,
   "metadata": {},
   "outputs": [],
   "source": []
  },
  {
   "cell_type": "code",
   "execution_count": null,
   "metadata": {},
   "outputs": [],
   "source": []
  },
  {
   "cell_type": "code",
   "execution_count": null,
   "metadata": {},
   "outputs": [],
   "source": []
  },
  {
   "cell_type": "code",
   "execution_count": null,
   "metadata": {},
   "outputs": [],
   "source": []
  },
  {
   "cell_type": "code",
   "execution_count": null,
   "metadata": {},
   "outputs": [],
   "source": []
  },
  {
   "cell_type": "code",
   "execution_count": null,
   "metadata": {},
   "outputs": [],
   "source": []
  },
  {
   "cell_type": "code",
   "execution_count": null,
   "metadata": {},
   "outputs": [],
   "source": []
  },
  {
   "cell_type": "code",
   "execution_count": null,
   "metadata": {},
   "outputs": [],
   "source": []
  },
  {
   "cell_type": "code",
   "execution_count": 62,
   "metadata": {},
   "outputs": [
    {
     "data": {
      "text/html": [
       "<div>\n",
       "<style scoped>\n",
       "    .dataframe tbody tr th:only-of-type {\n",
       "        vertical-align: middle;\n",
       "    }\n",
       "\n",
       "    .dataframe tbody tr th {\n",
       "        vertical-align: top;\n",
       "    }\n",
       "\n",
       "    .dataframe thead th {\n",
       "        text-align: right;\n",
       "    }\n",
       "</style>\n",
       "<table border=\"1\" class=\"dataframe\">\n",
       "  <thead>\n",
       "    <tr style=\"text-align: right;\">\n",
       "      <th></th>\n",
       "      <th>0</th>\n",
       "      <th>1</th>\n",
       "      <th>2</th>\n",
       "      <th>3</th>\n",
       "    </tr>\n",
       "  </thead>\n",
       "  <tbody>\n",
       "    <tr>\n",
       "      <th>0</th>\n",
       "      <td>0.017498</td>\n",
       "      <td>0.768680</td>\n",
       "      <td>0.162643</td>\n",
       "      <td>0.051180</td>\n",
       "    </tr>\n",
       "    <tr>\n",
       "      <th>1</th>\n",
       "      <td>0.004417</td>\n",
       "      <td>0.022197</td>\n",
       "      <td>0.971798</td>\n",
       "      <td>0.001589</td>\n",
       "    </tr>\n",
       "    <tr>\n",
       "      <th>2</th>\n",
       "      <td>0.000561</td>\n",
       "      <td>0.024412</td>\n",
       "      <td>0.965735</td>\n",
       "      <td>0.009292</td>\n",
       "    </tr>\n",
       "    <tr>\n",
       "      <th>3</th>\n",
       "      <td>0.002288</td>\n",
       "      <td>0.036719</td>\n",
       "      <td>0.951077</td>\n",
       "      <td>0.009916</td>\n",
       "    </tr>\n",
       "    <tr>\n",
       "      <th>4</th>\n",
       "      <td>0.000128</td>\n",
       "      <td>0.001720</td>\n",
       "      <td>0.996169</td>\n",
       "      <td>0.001984</td>\n",
       "    </tr>\n",
       "  </tbody>\n",
       "</table>\n",
       "</div>"
      ],
      "text/plain": [
       "          0         1         2         3\n",
       "0  0.017498  0.768680  0.162643  0.051180\n",
       "1  0.004417  0.022197  0.971798  0.001589\n",
       "2  0.000561  0.024412  0.965735  0.009292\n",
       "3  0.002288  0.036719  0.951077  0.009916\n",
       "4  0.000128  0.001720  0.996169  0.001984"
      ]
     },
     "execution_count": 62,
     "metadata": {},
     "output_type": "execute_result"
    }
   ],
   "source": [
    "temp = pd.DataFrame(final_preds)\n",
    "temp.head()\n"
   ]
  },
  {
   "cell_type": "code",
   "execution_count": 63,
   "metadata": {},
   "outputs": [
    {
     "data": {
      "text/plain": [
       "RangeIndex(start=0, stop=4, step=1)"
      ]
     },
     "execution_count": 63,
     "metadata": {},
     "output_type": "execute_result"
    }
   ],
   "source": [
    "temp.columns"
   ]
  },
  {
   "cell_type": "code",
   "execution_count": 64,
   "metadata": {},
   "outputs": [],
   "source": [
    "sub = pd.DataFrame()\n",
    "sub['0'] = 0\n",
    "sub['1'] = temp[0]\n",
    "sub['2'] = temp[1]\n",
    "sub['3'] = temp[2]\n",
    "sub['4'] = temp[3]\n",
    "sub = sub.fillna(0)"
   ]
  },
  {
   "cell_type": "code",
   "execution_count": null,
   "metadata": {},
   "outputs": [],
   "source": []
  },
  {
   "cell_type": "code",
   "execution_count": 65,
   "metadata": {},
   "outputs": [
    {
     "data": {
      "text/html": [
       "<div>\n",
       "<style scoped>\n",
       "    .dataframe tbody tr th:only-of-type {\n",
       "        vertical-align: middle;\n",
       "    }\n",
       "\n",
       "    .dataframe tbody tr th {\n",
       "        vertical-align: top;\n",
       "    }\n",
       "\n",
       "    .dataframe thead th {\n",
       "        text-align: right;\n",
       "    }\n",
       "</style>\n",
       "<table border=\"1\" class=\"dataframe\">\n",
       "  <thead>\n",
       "    <tr style=\"text-align: right;\">\n",
       "      <th></th>\n",
       "      <th>0</th>\n",
       "      <th>1</th>\n",
       "      <th>2</th>\n",
       "      <th>3</th>\n",
       "      <th>4</th>\n",
       "    </tr>\n",
       "  </thead>\n",
       "  <tbody>\n",
       "    <tr>\n",
       "      <th>0</th>\n",
       "      <td>0.0</td>\n",
       "      <td>0.017498</td>\n",
       "      <td>0.768680</td>\n",
       "      <td>0.162643</td>\n",
       "      <td>0.051180</td>\n",
       "    </tr>\n",
       "    <tr>\n",
       "      <th>1</th>\n",
       "      <td>0.0</td>\n",
       "      <td>0.004417</td>\n",
       "      <td>0.022197</td>\n",
       "      <td>0.971798</td>\n",
       "      <td>0.001589</td>\n",
       "    </tr>\n",
       "    <tr>\n",
       "      <th>2</th>\n",
       "      <td>0.0</td>\n",
       "      <td>0.000561</td>\n",
       "      <td>0.024412</td>\n",
       "      <td>0.965735</td>\n",
       "      <td>0.009292</td>\n",
       "    </tr>\n",
       "    <tr>\n",
       "      <th>3</th>\n",
       "      <td>0.0</td>\n",
       "      <td>0.002288</td>\n",
       "      <td>0.036719</td>\n",
       "      <td>0.951077</td>\n",
       "      <td>0.009916</td>\n",
       "    </tr>\n",
       "    <tr>\n",
       "      <th>4</th>\n",
       "      <td>0.0</td>\n",
       "      <td>0.000128</td>\n",
       "      <td>0.001720</td>\n",
       "      <td>0.996169</td>\n",
       "      <td>0.001984</td>\n",
       "    </tr>\n",
       "  </tbody>\n",
       "</table>\n",
       "</div>"
      ],
      "text/plain": [
       "     0         1         2         3         4\n",
       "0  0.0  0.017498  0.768680  0.162643  0.051180\n",
       "1  0.0  0.004417  0.022197  0.971798  0.001589\n",
       "2  0.0  0.000561  0.024412  0.965735  0.009292\n",
       "3  0.0  0.002288  0.036719  0.951077  0.009916\n",
       "4  0.0  0.000128  0.001720  0.996169  0.001984"
      ]
     },
     "execution_count": 65,
     "metadata": {},
     "output_type": "execute_result"
    }
   ],
   "source": [
    "sub.head()"
   ]
  },
  {
   "cell_type": "code",
   "execution_count": 66,
   "metadata": {},
   "outputs": [],
   "source": [
    "train = pd.read_csv('Train.csv')\n",
    "test = pd.read_csv('Test.csv')"
   ]
  },
  {
   "cell_type": "code",
   "execution_count": null,
   "metadata": {},
   "outputs": [],
   "source": []
  },
  {
   "cell_type": "code",
   "execution_count": 67,
   "metadata": {},
   "outputs": [],
   "source": [
    "#there are duplicates between test and train, for those rows we can directly use train target values\n",
    "#storing the target values of common rows in test and train\n",
    "temp1=''\n",
    "for i in test.columns:\n",
    "    temp1=temp1+i+train[i].astype(str)\n",
    "train['ALL']=temp1\n",
    "temp2=''\n",
    "for i in test.columns:\n",
    "    temp2=temp2+i+test[i].astype(str)\n",
    "test['ALL']=temp2\n",
    "encoding=train.groupby('ALL')['popularity'].median()\n",
    "y_from_train=test['ALL'].map(encoding)\n",
    "temp = pd.DataFrame()\n",
    "temp['pop'] = y_from_train\n",
    "temp['pop'] = temp['pop'].fillna(-999)\n",
    "x = temp[temp['pop']!=-999]\n",
    "for i in x.index.values:\n",
    "#     print(x.iloc[i].values[0])\n",
    "    try:\n",
    "        if x.loc[i].values[0] ==0:\n",
    "            sub.loc[i] =[1.0,0.0,0.0,0.0,0.0]\n",
    "        elif x.loc[i].values[0] ==1:\n",
    "            sub.loc[i] =[0.0,1.0,0.0,0.0,0.0]\n",
    "        elif x.loc[i].values[0] ==3:\n",
    "            sub.loc[i] =[0.0,0.0,1.0,0.0,0.0]\n",
    "        elif x.loc[i].values[0] ==4:\n",
    "            sub.loc[i] =[0.0,0.0,0.0,1.0,0.0]\n",
    "        elif x.loc[i].values[0] ==5:\n",
    "            sub.loc[i] =[0.0,0.0,0.0,0.0,1.0]\n",
    "        else:\n",
    "            print('.',end='')\n",
    "    except:\n",
    "        print(i)\n",
    "        print(x.loc[i].values[0])"
   ]
  },
  {
   "cell_type": "code",
   "execution_count": 21,
   "metadata": {},
   "outputs": [],
   "source": []
  },
  {
   "cell_type": "code",
   "execution_count": 22,
   "metadata": {},
   "outputs": [],
   "source": []
  },
  {
   "cell_type": "code",
   "execution_count": 68,
   "metadata": {},
   "outputs": [
    {
     "data": {
      "text/html": [
       "<div>\n",
       "<style scoped>\n",
       "    .dataframe tbody tr th:only-of-type {\n",
       "        vertical-align: middle;\n",
       "    }\n",
       "\n",
       "    .dataframe tbody tr th {\n",
       "        vertical-align: top;\n",
       "    }\n",
       "\n",
       "    .dataframe thead th {\n",
       "        text-align: right;\n",
       "    }\n",
       "</style>\n",
       "<table border=\"1\" class=\"dataframe\">\n",
       "  <thead>\n",
       "    <tr style=\"text-align: right;\">\n",
       "      <th></th>\n",
       "      <th>0</th>\n",
       "      <th>1</th>\n",
       "      <th>2</th>\n",
       "      <th>3</th>\n",
       "      <th>4</th>\n",
       "    </tr>\n",
       "  </thead>\n",
       "  <tbody>\n",
       "    <tr>\n",
       "      <th>0</th>\n",
       "      <td>0.0</td>\n",
       "      <td>0.000000</td>\n",
       "      <td>1.000000</td>\n",
       "      <td>0.000000</td>\n",
       "      <td>0.000000</td>\n",
       "    </tr>\n",
       "    <tr>\n",
       "      <th>1</th>\n",
       "      <td>0.0</td>\n",
       "      <td>0.004417</td>\n",
       "      <td>0.022197</td>\n",
       "      <td>0.971798</td>\n",
       "      <td>0.001589</td>\n",
       "    </tr>\n",
       "    <tr>\n",
       "      <th>2</th>\n",
       "      <td>0.0</td>\n",
       "      <td>0.000561</td>\n",
       "      <td>0.024412</td>\n",
       "      <td>0.965735</td>\n",
       "      <td>0.009292</td>\n",
       "    </tr>\n",
       "    <tr>\n",
       "      <th>3</th>\n",
       "      <td>0.0</td>\n",
       "      <td>0.002288</td>\n",
       "      <td>0.036719</td>\n",
       "      <td>0.951077</td>\n",
       "      <td>0.009916</td>\n",
       "    </tr>\n",
       "    <tr>\n",
       "      <th>4</th>\n",
       "      <td>0.0</td>\n",
       "      <td>0.000000</td>\n",
       "      <td>0.000000</td>\n",
       "      <td>1.000000</td>\n",
       "      <td>0.000000</td>\n",
       "    </tr>\n",
       "  </tbody>\n",
       "</table>\n",
       "</div>"
      ],
      "text/plain": [
       "     0         1         2         3         4\n",
       "0  0.0  0.000000  1.000000  0.000000  0.000000\n",
       "1  0.0  0.004417  0.022197  0.971798  0.001589\n",
       "2  0.0  0.000561  0.024412  0.965735  0.009292\n",
       "3  0.0  0.002288  0.036719  0.951077  0.009916\n",
       "4  0.0  0.000000  0.000000  1.000000  0.000000"
      ]
     },
     "execution_count": 68,
     "metadata": {},
     "output_type": "execute_result"
    }
   ],
   "source": [
    "sub.head()"
   ]
  },
  {
   "cell_type": "code",
   "execution_count": 70,
   "metadata": {},
   "outputs": [
    {
     "data": {
      "text/html": [
       "<div>\n",
       "<style scoped>\n",
       "    .dataframe tbody tr th:only-of-type {\n",
       "        vertical-align: middle;\n",
       "    }\n",
       "\n",
       "    .dataframe tbody tr th {\n",
       "        vertical-align: top;\n",
       "    }\n",
       "\n",
       "    .dataframe thead th {\n",
       "        text-align: right;\n",
       "    }\n",
       "</style>\n",
       "<table border=\"1\" class=\"dataframe\">\n",
       "  <thead>\n",
       "    <tr style=\"text-align: right;\">\n",
       "      <th></th>\n",
       "      <th>0</th>\n",
       "      <th>1</th>\n",
       "      <th>2</th>\n",
       "      <th>3</th>\n",
       "      <th>4</th>\n",
       "    </tr>\n",
       "  </thead>\n",
       "  <tbody>\n",
       "    <tr>\n",
       "      <th>0</th>\n",
       "      <td>0.0</td>\n",
       "      <td>0.000000</td>\n",
       "      <td>1.000000</td>\n",
       "      <td>0.000000</td>\n",
       "      <td>0.000000</td>\n",
       "    </tr>\n",
       "    <tr>\n",
       "      <th>1</th>\n",
       "      <td>0.0</td>\n",
       "      <td>0.004417</td>\n",
       "      <td>0.022197</td>\n",
       "      <td>0.971798</td>\n",
       "      <td>0.001589</td>\n",
       "    </tr>\n",
       "    <tr>\n",
       "      <th>2</th>\n",
       "      <td>0.0</td>\n",
       "      <td>0.000561</td>\n",
       "      <td>0.024412</td>\n",
       "      <td>0.965735</td>\n",
       "      <td>0.009292</td>\n",
       "    </tr>\n",
       "    <tr>\n",
       "      <th>3</th>\n",
       "      <td>0.0</td>\n",
       "      <td>0.002288</td>\n",
       "      <td>0.036719</td>\n",
       "      <td>0.951077</td>\n",
       "      <td>0.009916</td>\n",
       "    </tr>\n",
       "    <tr>\n",
       "      <th>4</th>\n",
       "      <td>0.0</td>\n",
       "      <td>0.000000</td>\n",
       "      <td>0.000000</td>\n",
       "      <td>1.000000</td>\n",
       "      <td>0.000000</td>\n",
       "    </tr>\n",
       "  </tbody>\n",
       "</table>\n",
       "</div>"
      ],
      "text/plain": [
       "     0         1         2         3         4\n",
       "0  0.0  0.000000  1.000000  0.000000  0.000000\n",
       "1  0.0  0.004417  0.022197  0.971798  0.001589\n",
       "2  0.0  0.000561  0.024412  0.965735  0.009292\n",
       "3  0.0  0.002288  0.036719  0.951077  0.009916\n",
       "4  0.0  0.000000  0.000000  1.000000  0.000000"
      ]
     },
     "execution_count": 70,
     "metadata": {},
     "output_type": "execute_result"
    }
   ],
   "source": [
    "dummy = test[test['Store_Ratio']==0]\n",
    "dummy.index\n",
    "for i in dummy.index.values:\n",
    "    sub.iloc[i] =[1.0,0.0,0.0,0.0,0.0]\n",
    "sub.head()"
   ]
  },
  {
   "cell_type": "code",
   "execution_count": 71,
   "metadata": {},
   "outputs": [
    {
     "data": {
      "text/plain": [
       "11.0"
      ]
     },
     "execution_count": 71,
     "metadata": {},
     "output_type": "execute_result"
    }
   ],
   "source": [
    "np.sum(sub['0'])"
   ]
  },
  {
   "cell_type": "code",
   "execution_count": 72,
   "metadata": {},
   "outputs": [],
   "source": [
    "sub.to_csv('submission_2801_v1.csv',index=False)"
   ]
  },
  {
   "cell_type": "code",
   "execution_count": null,
   "metadata": {},
   "outputs": [],
   "source": []
  },
  {
   "cell_type": "code",
   "execution_count": 38,
   "metadata": {},
   "outputs": [],
   "source": []
  },
  {
   "cell_type": "code",
   "execution_count": 73,
   "metadata": {},
   "outputs": [],
   "source": [
    "from sklearn.model_selection import train_test_split"
   ]
  },
  {
   "cell_type": "code",
   "execution_count": 75,
   "metadata": {},
   "outputs": [],
   "source": [
    "from sklearn.metrics import accuracy_score\n",
    "X_train, X_test, y_train, y_test = train_test_split(X, Y, stratify = Y,test_size=0.1)"
   ]
  },
  {
   "cell_type": "code",
   "execution_count": 76,
   "metadata": {},
   "outputs": [
    {
     "name": "stderr",
     "output_type": "stream",
     "text": [
      "[I 2021-01-28 19:44:03,293] A new study created in memory with name: no-name-4d9361f4-58b1-4a3d-ab79-c3796833ab2b\n",
      "feature_fraction, val_score: -inf:   0%|          | 0/7 [00:00<?, ?it/s]"
     ]
    },
    {
     "name": "stdout",
     "output_type": "stream",
     "text": [
      "Training until validation scores don't improve for 100 rounds\n",
      "[100]\ttraining's auc: 1\tvalid_1's auc: 1\n",
      "Early stopping, best iteration is:\n",
      "[1]\ttraining's auc: 1\tvalid_1's auc: 1\n"
     ]
    },
    {
     "name": "stderr",
     "output_type": "stream",
     "text": [
      "feature_fraction, val_score: 1.000000:  14%|#4        | 1/7 [00:00<00:04,  1.32it/s][I 2021-01-28 19:44:04,053] Trial 0 finished with value: 1.0 and parameters: {'feature_fraction': 0.8}. Best is trial 0 with value: 1.0.\n",
      "feature_fraction, val_score: 1.000000:  14%|#4        | 1/7 [00:00<00:04,  1.32it/s]"
     ]
    },
    {
     "name": "stdout",
     "output_type": "stream",
     "text": [
      "Training until validation scores don't improve for 100 rounds\n",
      "[100]\ttraining's auc: 1\tvalid_1's auc: 1\n",
      "Early stopping, best iteration is:\n",
      "[1]\ttraining's auc: 1\tvalid_1's auc: 1\n"
     ]
    },
    {
     "name": "stderr",
     "output_type": "stream",
     "text": [
      "feature_fraction, val_score: 1.000000:  29%|##8       | 2/7 [00:01<00:03,  1.33it/s][I 2021-01-28 19:44:04,804] Trial 1 finished with value: 1.0 and parameters: {'feature_fraction': 0.7}. Best is trial 0 with value: 1.0.\n",
      "feature_fraction, val_score: 1.000000:  29%|##8       | 2/7 [00:01<00:03,  1.33it/s]"
     ]
    },
    {
     "name": "stdout",
     "output_type": "stream",
     "text": [
      "Training until validation scores don't improve for 100 rounds\n",
      "[100]\ttraining's auc: 1\tvalid_1's auc: 1\n",
      "Early stopping, best iteration is:\n",
      "[1]\ttraining's auc: 1\tvalid_1's auc: 1\n"
     ]
    },
    {
     "name": "stderr",
     "output_type": "stream",
     "text": [
      "feature_fraction, val_score: 1.000000:  43%|####2     | 3/7 [00:02<00:03,  1.32it/s][I 2021-01-28 19:44:05,578] Trial 2 finished with value: 1.0 and parameters: {'feature_fraction': 0.6}. Best is trial 0 with value: 1.0.\n",
      "feature_fraction, val_score: 1.000000:  43%|####2     | 3/7 [00:02<00:03,  1.32it/s]"
     ]
    },
    {
     "name": "stdout",
     "output_type": "stream",
     "text": [
      "Training until validation scores don't improve for 100 rounds\n",
      "[100]\ttraining's auc: 1\tvalid_1's auc: 1\n",
      "Early stopping, best iteration is:\n",
      "[1]\ttraining's auc: 1\tvalid_1's auc: 1\n"
     ]
    },
    {
     "name": "stderr",
     "output_type": "stream",
     "text": [
      "feature_fraction, val_score: 1.000000:  57%|#####7    | 4/7 [00:02<00:02,  1.45it/s][I 2021-01-28 19:44:06,110] Trial 3 finished with value: 1.0 and parameters: {'feature_fraction': 1.0}. Best is trial 0 with value: 1.0.\n",
      "feature_fraction, val_score: 1.000000:  57%|#####7    | 4/7 [00:02<00:02,  1.45it/s]"
     ]
    },
    {
     "name": "stdout",
     "output_type": "stream",
     "text": [
      "Training until validation scores don't improve for 100 rounds\n",
      "[100]\ttraining's auc: 1\tvalid_1's auc: 1\n",
      "Early stopping, best iteration is:\n",
      "[1]\ttraining's auc: 1\tvalid_1's auc: 1\n"
     ]
    },
    {
     "name": "stderr",
     "output_type": "stream",
     "text": [
      "feature_fraction, val_score: 1.000000:  71%|#######1  | 5/7 [00:03<00:01,  1.34it/s][I 2021-01-28 19:44:06,981] Trial 4 finished with value: 1.0 and parameters: {'feature_fraction': 0.8999999999999999}. Best is trial 0 with value: 1.0.\n",
      "feature_fraction, val_score: 1.000000:  71%|#######1  | 5/7 [00:03<00:01,  1.34it/s]"
     ]
    },
    {
     "name": "stdout",
     "output_type": "stream",
     "text": [
      "Training until validation scores don't improve for 100 rounds\n",
      "[100]\ttraining's auc: 1\tvalid_1's auc: 1\n",
      "Early stopping, best iteration is:\n",
      "[1]\ttraining's auc: 1\tvalid_1's auc: 1\n"
     ]
    },
    {
     "name": "stderr",
     "output_type": "stream",
     "text": [
      "feature_fraction, val_score: 1.000000:  86%|########5 | 6/7 [00:04<00:00,  1.42it/s][I 2021-01-28 19:44:07,590] Trial 5 finished with value: 1.0 and parameters: {'feature_fraction': 0.5}. Best is trial 0 with value: 1.0.\n",
      "feature_fraction, val_score: 1.000000:  86%|########5 | 6/7 [00:04<00:00,  1.42it/s]"
     ]
    },
    {
     "name": "stdout",
     "output_type": "stream",
     "text": [
      "Training until validation scores don't improve for 100 rounds\n",
      "[100]\ttraining's auc: 1\tvalid_1's auc: 1\n",
      "Early stopping, best iteration is:\n",
      "[1]\ttraining's auc: 1\tvalid_1's auc: 1\n"
     ]
    },
    {
     "name": "stderr",
     "output_type": "stream",
     "text": [
      "feature_fraction, val_score: 1.000000: 100%|##########| 7/7 [00:05<00:00,  1.14it/s][I 2021-01-28 19:44:08,879] Trial 6 finished with value: 1.0 and parameters: {'feature_fraction': 0.4}. Best is trial 0 with value: 1.0.\n",
      "feature_fraction, val_score: 1.000000: 100%|##########| 7/7 [00:05<00:00,  1.25it/s]\n",
      "num_leaves, val_score: 1.000000:   0%|          | 0/20 [00:00<?, ?it/s]"
     ]
    },
    {
     "name": "stdout",
     "output_type": "stream",
     "text": [
      "Training until validation scores don't improve for 100 rounds\n",
      "[100]\ttraining's auc: 1\tvalid_1's auc: 1\n",
      "Early stopping, best iteration is:\n",
      "[1]\ttraining's auc: 1\tvalid_1's auc: 1\n"
     ]
    },
    {
     "name": "stderr",
     "output_type": "stream",
     "text": [
      "num_leaves, val_score: 1.000000:   5%|5         | 1/20 [00:01<00:32,  1.73s/it][I 2021-01-28 19:44:10,624] Trial 7 finished with value: 1.0 and parameters: {'num_leaves': 213}. Best is trial 7 with value: 1.0.\n",
      "num_leaves, val_score: 1.000000:   5%|5         | 1/20 [00:01<00:32,  1.73s/it]"
     ]
    },
    {
     "name": "stdout",
     "output_type": "stream",
     "text": [
      "Training until validation scores don't improve for 100 rounds\n",
      "[100]\ttraining's auc: 1\tvalid_1's auc: 1\n",
      "Early stopping, best iteration is:\n",
      "[1]\ttraining's auc: 1\tvalid_1's auc: 1\n"
     ]
    },
    {
     "name": "stderr",
     "output_type": "stream",
     "text": [
      "num_leaves, val_score: 1.000000:  10%|#         | 2/20 [00:02<00:25,  1.41s/it][I 2021-01-28 19:44:11,300] Trial 8 finished with value: 1.0 and parameters: {'num_leaves': 80}. Best is trial 7 with value: 1.0.\n",
      "num_leaves, val_score: 1.000000:  10%|#         | 2/20 [00:02<00:25,  1.41s/it]"
     ]
    },
    {
     "name": "stdout",
     "output_type": "stream",
     "text": [
      "Training until validation scores don't improve for 100 rounds\n",
      "[100]\ttraining's auc: 1\tvalid_1's auc: 1\n",
      "Early stopping, best iteration is:\n",
      "[1]\ttraining's auc: 1\tvalid_1's auc: 1\n"
     ]
    },
    {
     "name": "stderr",
     "output_type": "stream",
     "text": [
      "num_leaves, val_score: 1.000000:  15%|#5        | 3/20 [00:03<00:22,  1.32s/it][I 2021-01-28 19:44:12,414] Trial 9 finished with value: 1.0 and parameters: {'num_leaves': 47}. Best is trial 7 with value: 1.0.\n",
      "num_leaves, val_score: 1.000000:  15%|#5        | 3/20 [00:03<00:22,  1.32s/it]"
     ]
    },
    {
     "name": "stdout",
     "output_type": "stream",
     "text": [
      "Training until validation scores don't improve for 100 rounds\n",
      "[100]\ttraining's auc: 1\tvalid_1's auc: 1\n",
      "Early stopping, best iteration is:\n",
      "[1]\ttraining's auc: 1\tvalid_1's auc: 1\n"
     ]
    },
    {
     "name": "stderr",
     "output_type": "stream",
     "text": [
      "num_leaves, val_score: 1.000000:  20%|##        | 4/20 [00:06<00:29,  1.85s/it][I 2021-01-28 19:44:15,489] Trial 10 finished with value: 1.0 and parameters: {'num_leaves': 256}. Best is trial 7 with value: 1.0.\n",
      "num_leaves, val_score: 1.000000:  20%|##        | 4/20 [00:06<00:29,  1.85s/it]"
     ]
    },
    {
     "name": "stdout",
     "output_type": "stream",
     "text": [
      "Training until validation scores don't improve for 100 rounds\n",
      "[100]\ttraining's auc: 1\tvalid_1's auc: 1\n",
      "Early stopping, best iteration is:\n",
      "[1]\ttraining's auc: 1\tvalid_1's auc: 1\n"
     ]
    },
    {
     "name": "stderr",
     "output_type": "stream",
     "text": [
      "num_leaves, val_score: 1.000000:  25%|##5       | 5/20 [00:07<00:24,  1.64s/it][I 2021-01-28 19:44:16,636] Trial 11 finished with value: 1.0 and parameters: {'num_leaves': 179}. Best is trial 7 with value: 1.0.\n",
      "num_leaves, val_score: 1.000000:  25%|##5       | 5/20 [00:07<00:24,  1.64s/it]"
     ]
    },
    {
     "name": "stdout",
     "output_type": "stream",
     "text": [
      "Training until validation scores don't improve for 100 rounds\n",
      "[100]\ttraining's auc: 1\tvalid_1's auc: 1\n",
      "Early stopping, best iteration is:\n",
      "[1]\ttraining's auc: 1\tvalid_1's auc: 1\n"
     ]
    },
    {
     "name": "stderr",
     "output_type": "stream",
     "text": [
      "num_leaves, val_score: 1.000000:  30%|###       | 6/20 [00:09<00:23,  1.67s/it][I 2021-01-28 19:44:18,376] Trial 12 finished with value: 1.0 and parameters: {'num_leaves': 136}. Best is trial 7 with value: 1.0.\n",
      "num_leaves, val_score: 1.000000:  30%|###       | 6/20 [00:09<00:23,  1.67s/it]"
     ]
    },
    {
     "name": "stdout",
     "output_type": "stream",
     "text": [
      "Training until validation scores don't improve for 100 rounds\n",
      "[100]\ttraining's auc: 1\tvalid_1's auc: 1\n",
      "Early stopping, best iteration is:\n",
      "[1]\ttraining's auc: 1\tvalid_1's auc: 1\n"
     ]
    },
    {
     "name": "stderr",
     "output_type": "stream",
     "text": [
      "num_leaves, val_score: 1.000000:  35%|###5      | 7/20 [00:09<00:16,  1.25s/it][I 2021-01-28 19:44:18,663] Trial 13 finished with value: 1.0 and parameters: {'num_leaves': 5}. Best is trial 7 with value: 1.0.\n",
      "num_leaves, val_score: 1.000000:  35%|###5      | 7/20 [00:09<00:16,  1.25s/it]"
     ]
    },
    {
     "name": "stdout",
     "output_type": "stream",
     "text": [
      "Training until validation scores don't improve for 100 rounds\n",
      "[100]\ttraining's auc: 1\tvalid_1's auc: 1\n",
      "Early stopping, best iteration is:\n",
      "[1]\ttraining's auc: 1\tvalid_1's auc: 1\n"
     ]
    },
    {
     "name": "stderr",
     "output_type": "stream",
     "text": [
      "num_leaves, val_score: 1.000000:  40%|####      | 8/20 [00:12<00:19,  1.64s/it][I 2021-01-28 19:44:21,187] Trial 14 finished with value: 1.0 and parameters: {'num_leaves': 251}. Best is trial 7 with value: 1.0.\n",
      "num_leaves, val_score: 1.000000:  40%|####      | 8/20 [00:12<00:19,  1.64s/it]"
     ]
    },
    {
     "name": "stdout",
     "output_type": "stream",
     "text": [
      "Training until validation scores don't improve for 100 rounds\n",
      "[100]\ttraining's auc: 1\tvalid_1's auc: 1\n",
      "Early stopping, best iteration is:\n",
      "[1]\ttraining's auc: 1\tvalid_1's auc: 1\n"
     ]
    },
    {
     "name": "stderr",
     "output_type": "stream",
     "text": [
      "num_leaves, val_score: 1.000000:  45%|####5     | 9/20 [00:12<00:14,  1.31s/it][I 2021-01-28 19:44:21,731] Trial 15 finished with value: 1.0 and parameters: {'num_leaves': 9}. Best is trial 7 with value: 1.0.\n",
      "num_leaves, val_score: 1.000000:  45%|####5     | 9/20 [00:12<00:14,  1.31s/it]"
     ]
    },
    {
     "name": "stdout",
     "output_type": "stream",
     "text": [
      "Training until validation scores don't improve for 100 rounds\n",
      "[100]\ttraining's auc: 1\tvalid_1's auc: 1\n",
      "Early stopping, best iteration is:\n",
      "[1]\ttraining's auc: 1\tvalid_1's auc: 1\n"
     ]
    },
    {
     "name": "stderr",
     "output_type": "stream",
     "text": [
      "num_leaves, val_score: 1.000000:  50%|#####     | 10/20 [00:14<00:14,  1.44s/it][I 2021-01-28 19:44:23,467] Trial 16 finished with value: 1.0 and parameters: {'num_leaves': 118}. Best is trial 7 with value: 1.0.\n",
      "num_leaves, val_score: 1.000000:  50%|#####     | 10/20 [00:14<00:14,  1.44s/it]"
     ]
    },
    {
     "name": "stdout",
     "output_type": "stream",
     "text": [
      "Training until validation scores don't improve for 100 rounds\n",
      "[100]\ttraining's auc: 1\tvalid_1's auc: 1\n",
      "Early stopping, best iteration is:\n",
      "[1]\ttraining's auc: 1\tvalid_1's auc: 1\n"
     ]
    },
    {
     "name": "stderr",
     "output_type": "stream",
     "text": [
      "num_leaves, val_score: 1.000000:  55%|#####5    | 11/20 [00:17<00:16,  1.81s/it][I 2021-01-28 19:44:26,136] Trial 17 finished with value: 1.0 and parameters: {'num_leaves': 252}. Best is trial 7 with value: 1.0.\n",
      "num_leaves, val_score: 1.000000:  55%|#####5    | 11/20 [00:17<00:16,  1.81s/it]"
     ]
    },
    {
     "name": "stdout",
     "output_type": "stream",
     "text": [
      "Training until validation scores don't improve for 100 rounds\n",
      "[100]\ttraining's auc: 1\tvalid_1's auc: 1\n",
      "Early stopping, best iteration is:\n",
      "[1]\ttraining's auc: 1\tvalid_1's auc: 1\n"
     ]
    },
    {
     "name": "stderr",
     "output_type": "stream",
     "text": [
      "num_leaves, val_score: 1.000000:  60%|######    | 12/20 [00:17<00:10,  1.32s/it][I 2021-01-28 19:44:26,310] Trial 18 finished with value: 1.0 and parameters: {'num_leaves': 9}. Best is trial 7 with value: 1.0.\n",
      "num_leaves, val_score: 1.000000:  60%|######    | 12/20 [00:17<00:10,  1.32s/it]"
     ]
    },
    {
     "name": "stdout",
     "output_type": "stream",
     "text": [
      "Training until validation scores don't improve for 100 rounds\n",
      "[100]\ttraining's auc: 1\tvalid_1's auc: 1\n",
      "Early stopping, best iteration is:\n",
      "[1]\ttraining's auc: 1\tvalid_1's auc: 1\n"
     ]
    },
    {
     "name": "stderr",
     "output_type": "stream",
     "text": [
      "num_leaves, val_score: 1.000000:  65%|######5   | 13/20 [00:17<00:07,  1.09s/it][I 2021-01-28 19:44:26,871] Trial 19 finished with value: 1.0 and parameters: {'num_leaves': 113}. Best is trial 7 with value: 1.0.\n",
      "num_leaves, val_score: 1.000000:  65%|######5   | 13/20 [00:17<00:07,  1.09s/it]"
     ]
    },
    {
     "name": "stdout",
     "output_type": "stream",
     "text": [
      "Training until validation scores don't improve for 100 rounds\n",
      "[100]\ttraining's auc: 1\tvalid_1's auc: 1\n",
      "Early stopping, best iteration is:\n",
      "[1]\ttraining's auc: 1\tvalid_1's auc: 1\n"
     ]
    },
    {
     "name": "stderr",
     "output_type": "stream",
     "text": [
      "num_leaves, val_score: 1.000000:  70%|#######   | 14/20 [00:19<00:06,  1.07s/it][I 2021-01-28 19:44:27,910] Trial 20 finished with value: 1.0 and parameters: {'num_leaves': 203}. Best is trial 7 with value: 1.0.\n",
      "num_leaves, val_score: 1.000000:  70%|#######   | 14/20 [00:19<00:06,  1.07s/it]"
     ]
    },
    {
     "name": "stdout",
     "output_type": "stream",
     "text": [
      "Training until validation scores don't improve for 100 rounds\n",
      "[100]\ttraining's auc: 1\tvalid_1's auc: 1\n",
      "Early stopping, best iteration is:\n",
      "[1]\ttraining's auc: 1\tvalid_1's auc: 1\n"
     ]
    },
    {
     "name": "stderr",
     "output_type": "stream",
     "text": [
      "num_leaves, val_score: 1.000000:  75%|#######5  | 15/20 [00:19<00:04,  1.05it/s][I 2021-01-28 19:44:28,581] Trial 21 finished with value: 1.0 and parameters: {'num_leaves': 60}. Best is trial 7 with value: 1.0.\n",
      "num_leaves, val_score: 1.000000:  75%|#######5  | 15/20 [00:19<00:04,  1.05it/s]"
     ]
    },
    {
     "name": "stdout",
     "output_type": "stream",
     "text": [
      "Training until validation scores don't improve for 100 rounds\n",
      "[100]\ttraining's auc: 1\tvalid_1's auc: 1\n",
      "Early stopping, best iteration is:\n",
      "[1]\ttraining's auc: 1\tvalid_1's auc: 1\n"
     ]
    },
    {
     "name": "stderr",
     "output_type": "stream",
     "text": [
      "num_leaves, val_score: 1.000000:  80%|########  | 16/20 [00:20<00:03,  1.14it/s][I 2021-01-28 19:44:29,271] Trial 22 finished with value: 1.0 and parameters: {'num_leaves': 109}. Best is trial 7 with value: 1.0.\n",
      "num_leaves, val_score: 1.000000:  80%|########  | 16/20 [00:20<00:03,  1.14it/s]"
     ]
    },
    {
     "name": "stdout",
     "output_type": "stream",
     "text": [
      "Training until validation scores don't improve for 100 rounds\n",
      "[100]\ttraining's auc: 1\tvalid_1's auc: 1\n",
      "Early stopping, best iteration is:\n",
      "[1]\ttraining's auc: 1\tvalid_1's auc: 1\n"
     ]
    },
    {
     "name": "stderr",
     "output_type": "stream",
     "text": [
      "num_leaves, val_score: 1.000000:  85%|########5 | 17/20 [00:21<00:02,  1.02it/s][I 2021-01-28 19:44:30,504] Trial 23 finished with value: 1.0 and parameters: {'num_leaves': 165}. Best is trial 7 with value: 1.0.\n",
      "num_leaves, val_score: 1.000000:  85%|########5 | 17/20 [00:21<00:02,  1.02it/s]"
     ]
    },
    {
     "name": "stdout",
     "output_type": "stream",
     "text": [
      "Training until validation scores don't improve for 100 rounds\n",
      "[100]\ttraining's auc: 1\tvalid_1's auc: 1\n",
      "Early stopping, best iteration is:\n",
      "[1]\ttraining's auc: 1\tvalid_1's auc: 1\n"
     ]
    },
    {
     "name": "stderr",
     "output_type": "stream",
     "text": [
      "num_leaves, val_score: 1.000000:  90%|######### | 18/20 [00:22<00:01,  1.16it/s][I 2021-01-28 19:44:31,092] Trial 24 finished with value: 1.0 and parameters: {'num_leaves': 55}. Best is trial 7 with value: 1.0.\n",
      "num_leaves, val_score: 1.000000:  90%|######### | 18/20 [00:22<00:01,  1.16it/s]"
     ]
    },
    {
     "name": "stdout",
     "output_type": "stream",
     "text": [
      "Training until validation scores don't improve for 100 rounds\n",
      "[100]\ttraining's auc: 1\tvalid_1's auc: 1\n",
      "Early stopping, best iteration is:\n",
      "[1]\ttraining's auc: 1\tvalid_1's auc: 1\n"
     ]
    },
    {
     "name": "stderr",
     "output_type": "stream",
     "text": [
      "num_leaves, val_score: 1.000000:  95%|#########5| 19/20 [00:22<00:00,  1.32it/s][I 2021-01-28 19:44:31,609] Trial 25 finished with value: 1.0 and parameters: {'num_leaves': 84}. Best is trial 7 with value: 1.0.\n",
      "num_leaves, val_score: 1.000000:  95%|#########5| 19/20 [00:22<00:00,  1.32it/s]"
     ]
    },
    {
     "name": "stdout",
     "output_type": "stream",
     "text": [
      "Training until validation scores don't improve for 100 rounds\n",
      "[100]\ttraining's auc: 1\tvalid_1's auc: 1\n",
      "Early stopping, best iteration is:\n",
      "[1]\ttraining's auc: 1\tvalid_1's auc: 1\n"
     ]
    },
    {
     "name": "stderr",
     "output_type": "stream",
     "text": [
      "num_leaves, val_score: 1.000000: 100%|##########| 20/20 [00:23<00:00,  1.35it/s][I 2021-01-28 19:44:32,304] Trial 26 finished with value: 1.0 and parameters: {'num_leaves': 145}. Best is trial 7 with value: 1.0.\n",
      "num_leaves, val_score: 1.000000: 100%|##########| 20/20 [00:23<00:00,  1.17s/it]\n",
      "bagging, val_score: 1.000000:   0%|          | 0/10 [00:00<?, ?it/s]"
     ]
    },
    {
     "name": "stdout",
     "output_type": "stream",
     "text": [
      "Training until validation scores don't improve for 100 rounds\n",
      "[100]\ttraining's auc: 1\tvalid_1's auc: 1\n",
      "Early stopping, best iteration is:\n",
      "[1]\ttraining's auc: 1\tvalid_1's auc: 1\n"
     ]
    },
    {
     "name": "stderr",
     "output_type": "stream",
     "text": [
      "bagging, val_score: 1.000000:  10%|#         | 1/10 [00:00<00:04,  1.99it/s][I 2021-01-28 19:44:32,817] Trial 27 finished with value: 1.0 and parameters: {'bagging_fraction': 0.7424425621888062, 'bagging_freq': 4}. Best is trial 27 with value: 1.0.\n",
      "bagging, val_score: 1.000000:  10%|#         | 1/10 [00:00<00:04,  1.99it/s]"
     ]
    },
    {
     "name": "stdout",
     "output_type": "stream",
     "text": [
      "Training until validation scores don't improve for 100 rounds\n",
      "[100]\ttraining's auc: 1\tvalid_1's auc: 1\n",
      "Early stopping, best iteration is:\n",
      "[1]\ttraining's auc: 1\tvalid_1's auc: 1\n"
     ]
    },
    {
     "name": "stderr",
     "output_type": "stream",
     "text": [
      "bagging, val_score: 1.000000:  20%|##        | 2/10 [00:00<00:03,  2.10it/s][I 2021-01-28 19:44:33,236] Trial 28 finished with value: 1.0 and parameters: {'bagging_fraction': 0.42896936960197246, 'bagging_freq': 1}. Best is trial 27 with value: 1.0.\n",
      "bagging, val_score: 1.000000:  20%|##        | 2/10 [00:00<00:03,  2.10it/s]"
     ]
    },
    {
     "name": "stdout",
     "output_type": "stream",
     "text": [
      "Training until validation scores don't improve for 100 rounds\n",
      "[100]\ttraining's auc: 1\tvalid_1's auc: 1\n",
      "Early stopping, best iteration is:\n",
      "[1]\ttraining's auc: 1\tvalid_1's auc: 1\n"
     ]
    },
    {
     "name": "stderr",
     "output_type": "stream",
     "text": [
      "bagging, val_score: 1.000000:  30%|###       | 3/10 [00:01<00:03,  2.29it/s][I 2021-01-28 19:44:33,573] Trial 29 finished with value: 1.0 and parameters: {'bagging_fraction': 0.993685064312509, 'bagging_freq': 7}. Best is trial 27 with value: 1.0.\n",
      "bagging, val_score: 1.000000:  30%|###       | 3/10 [00:01<00:03,  2.29it/s]"
     ]
    },
    {
     "name": "stdout",
     "output_type": "stream",
     "text": [
      "Training until validation scores don't improve for 100 rounds\n",
      "[100]\ttraining's auc: 1\tvalid_1's auc: 1\n",
      "Early stopping, best iteration is:\n",
      "[1]\ttraining's auc: 1\tvalid_1's auc: 1\n"
     ]
    },
    {
     "name": "stderr",
     "output_type": "stream",
     "text": [
      "bagging, val_score: 1.000000:  40%|####      | 4/10 [00:01<00:02,  2.37it/s][I 2021-01-28 19:44:33,964] Trial 30 finished with value: 1.0 and parameters: {'bagging_fraction': 0.7547171772077702, 'bagging_freq': 4}. Best is trial 27 with value: 1.0.\n",
      "bagging, val_score: 1.000000:  40%|####      | 4/10 [00:01<00:02,  2.37it/s]"
     ]
    },
    {
     "name": "stdout",
     "output_type": "stream",
     "text": [
      "Training until validation scores don't improve for 100 rounds\n",
      "[100]\ttraining's auc: 1\tvalid_1's auc: 1\n",
      "Early stopping, best iteration is:\n",
      "[1]\ttraining's auc: 1\tvalid_1's auc: 1\n"
     ]
    },
    {
     "name": "stderr",
     "output_type": "stream",
     "text": [
      "bagging, val_score: 1.000000:  50%|#####     | 5/10 [00:01<00:01,  2.64it/s][I 2021-01-28 19:44:34,240] Trial 31 finished with value: 1.0 and parameters: {'bagging_fraction': 0.40714234764036156, 'bagging_freq': 1}. Best is trial 27 with value: 1.0.\n",
      "bagging, val_score: 1.000000:  50%|#####     | 5/10 [00:01<00:01,  2.64it/s]"
     ]
    },
    {
     "name": "stdout",
     "output_type": "stream",
     "text": [
      "Training until validation scores don't improve for 100 rounds\n",
      "[100]\ttraining's auc: 1\tvalid_1's auc: 1\n",
      "Early stopping, best iteration is:\n",
      "[1]\ttraining's auc: 1\tvalid_1's auc: 1\n"
     ]
    },
    {
     "name": "stderr",
     "output_type": "stream",
     "text": [
      "bagging, val_score: 1.000000:  60%|######    | 6/10 [00:02<00:01,  2.90it/s][I 2021-01-28 19:44:34,507] Trial 32 finished with value: 1.0 and parameters: {'bagging_fraction': 0.952091453328201, 'bagging_freq': 7}. Best is trial 27 with value: 1.0.\n",
      "bagging, val_score: 1.000000:  60%|######    | 6/10 [00:02<00:01,  2.90it/s]"
     ]
    },
    {
     "name": "stdout",
     "output_type": "stream",
     "text": [
      "Training until validation scores don't improve for 100 rounds\n",
      "[100]\ttraining's auc: 1\tvalid_1's auc: 1\n",
      "Early stopping, best iteration is:\n",
      "[1]\ttraining's auc: 1\tvalid_1's auc: 1\n"
     ]
    },
    {
     "name": "stderr",
     "output_type": "stream",
     "text": [
      "bagging, val_score: 1.000000:  70%|#######   | 7/10 [00:02<00:00,  3.10it/s][I 2021-01-28 19:44:34,776] Trial 33 finished with value: 1.0 and parameters: {'bagging_fraction': 0.4140903071362119, 'bagging_freq': 4}. Best is trial 27 with value: 1.0.\n",
      "bagging, val_score: 1.000000:  70%|#######   | 7/10 [00:02<00:00,  3.10it/s]"
     ]
    },
    {
     "name": "stdout",
     "output_type": "stream",
     "text": [
      "Training until validation scores don't improve for 100 rounds\n",
      "[100]\ttraining's auc: 1\tvalid_1's auc: 1\n",
      "Early stopping, best iteration is:\n",
      "[1]\ttraining's auc: 1\tvalid_1's auc: 1\n"
     ]
    },
    {
     "name": "stderr",
     "output_type": "stream",
     "text": [
      "bagging, val_score: 1.000000:  80%|########  | 8/10 [00:02<00:00,  3.28it/s][I 2021-01-28 19:44:35,040] Trial 34 finished with value: 1.0 and parameters: {'bagging_fraction': 0.9355641589389934, 'bagging_freq': 1}. Best is trial 27 with value: 1.0.\n",
      "bagging, val_score: 1.000000:  80%|########  | 8/10 [00:02<00:00,  3.28it/s]"
     ]
    },
    {
     "name": "stdout",
     "output_type": "stream",
     "text": [
      "Training until validation scores don't improve for 100 rounds\n",
      "[100]\ttraining's auc: 1\tvalid_1's auc: 1\n",
      "Early stopping, best iteration is:\n",
      "[1]\ttraining's auc: 1\tvalid_1's auc: 1\n"
     ]
    },
    {
     "name": "stderr",
     "output_type": "stream",
     "text": [
      "bagging, val_score: 1.000000:  90%|######### | 9/10 [00:03<00:00,  3.06it/s][I 2021-01-28 19:44:35,418] Trial 35 finished with value: 1.0 and parameters: {'bagging_fraction': 0.5859219865048191, 'bagging_freq': 6}. Best is trial 27 with value: 1.0.\n",
      "bagging, val_score: 1.000000:  90%|######### | 9/10 [00:03<00:00,  3.06it/s]"
     ]
    },
    {
     "name": "stdout",
     "output_type": "stream",
     "text": [
      "Training until validation scores don't improve for 100 rounds\n",
      "[100]\ttraining's auc: 1\tvalid_1's auc: 1\n",
      "Early stopping, best iteration is:\n",
      "[1]\ttraining's auc: 1\tvalid_1's auc: 1\n"
     ]
    },
    {
     "name": "stderr",
     "output_type": "stream",
     "text": [
      "bagging, val_score: 1.000000: 100%|##########| 10/10 [00:03<00:00,  2.98it/s][I 2021-01-28 19:44:35,776] Trial 36 finished with value: 1.0 and parameters: {'bagging_fraction': 0.5646647308509781, 'bagging_freq': 2}. Best is trial 27 with value: 1.0.\n",
      "bagging, val_score: 1.000000: 100%|##########| 10/10 [00:03<00:00,  2.88it/s]\n",
      "feature_fraction_stage2, val_score: 1.000000:   0%|          | 0/6 [00:00<?, ?it/s]"
     ]
    },
    {
     "name": "stdout",
     "output_type": "stream",
     "text": [
      "Training until validation scores don't improve for 100 rounds\n",
      "[100]\ttraining's auc: 1\tvalid_1's auc: 1\n",
      "Early stopping, best iteration is:\n",
      "[1]\ttraining's auc: 1\tvalid_1's auc: 1\n"
     ]
    },
    {
     "name": "stderr",
     "output_type": "stream",
     "text": [
      "feature_fraction_stage2, val_score: 1.000000:  17%|#6        | 1/6 [00:00<00:01,  2.74it/s][I 2021-01-28 19:44:36,152] Trial 37 finished with value: 1.0 and parameters: {'feature_fraction': 0.7520000000000001}. Best is trial 37 with value: 1.0.\n",
      "feature_fraction_stage2, val_score: 1.000000:  17%|#6        | 1/6 [00:00<00:01,  2.74it/s]"
     ]
    },
    {
     "name": "stdout",
     "output_type": "stream",
     "text": [
      "Training until validation scores don't improve for 100 rounds\n",
      "[100]\ttraining's auc: 1\tvalid_1's auc: 1\n",
      "Early stopping, best iteration is:\n",
      "[1]\ttraining's auc: 1\tvalid_1's auc: 1\n"
     ]
    },
    {
     "name": "stderr",
     "output_type": "stream",
     "text": [
      "feature_fraction_stage2, val_score: 1.000000:  33%|###3      | 2/6 [00:00<00:01,  2.79it/s][I 2021-01-28 19:44:36,494] Trial 38 finished with value: 1.0 and parameters: {'feature_fraction': 0.8160000000000001}. Best is trial 37 with value: 1.0.\n",
      "feature_fraction_stage2, val_score: 1.000000:  33%|###3      | 2/6 [00:00<00:01,  2.79it/s]"
     ]
    },
    {
     "name": "stdout",
     "output_type": "stream",
     "text": [
      "Training until validation scores don't improve for 100 rounds\n",
      "[100]\ttraining's auc: 1\tvalid_1's auc: 1\n",
      "Early stopping, best iteration is:\n",
      "[1]\ttraining's auc: 1\tvalid_1's auc: 1\n"
     ]
    },
    {
     "name": "stderr",
     "output_type": "stream",
     "text": [
      "feature_fraction_stage2, val_score: 1.000000:  50%|#####     | 3/6 [00:01<00:01,  2.79it/s][I 2021-01-28 19:44:36,851] Trial 39 finished with value: 1.0 and parameters: {'feature_fraction': 0.8480000000000001}. Best is trial 37 with value: 1.0.\n",
      "feature_fraction_stage2, val_score: 1.000000:  50%|#####     | 3/6 [00:01<00:01,  2.79it/s]"
     ]
    },
    {
     "name": "stdout",
     "output_type": "stream",
     "text": [
      "Training until validation scores don't improve for 100 rounds\n",
      "[100]\ttraining's auc: 1\tvalid_1's auc: 1\n",
      "Early stopping, best iteration is:\n",
      "[1]\ttraining's auc: 1\tvalid_1's auc: 1\n"
     ]
    },
    {
     "name": "stderr",
     "output_type": "stream",
     "text": [
      "feature_fraction_stage2, val_score: 1.000000:  67%|######6   | 4/6 [00:01<00:00,  2.79it/s][I 2021-01-28 19:44:37,212] Trial 40 finished with value: 1.0 and parameters: {'feature_fraction': 0.7200000000000001}. Best is trial 37 with value: 1.0.\n",
      "feature_fraction_stage2, val_score: 1.000000:  67%|######6   | 4/6 [00:01<00:00,  2.79it/s]"
     ]
    },
    {
     "name": "stdout",
     "output_type": "stream",
     "text": [
      "Training until validation scores don't improve for 100 rounds\n",
      "[100]\ttraining's auc: 1\tvalid_1's auc: 1\n",
      "Early stopping, best iteration is:\n",
      "[1]\ttraining's auc: 1\tvalid_1's auc: 1\n"
     ]
    },
    {
     "name": "stderr",
     "output_type": "stream",
     "text": [
      "feature_fraction_stage2, val_score: 1.000000:  83%|########3 | 5/6 [00:03<00:00,  1.15it/s][I 2021-01-28 19:44:39,275] Trial 41 finished with value: 1.0 and parameters: {'feature_fraction': 0.784}. Best is trial 37 with value: 1.0.\n",
      "feature_fraction_stage2, val_score: 1.000000:  83%|########3 | 5/6 [00:03<00:00,  1.15it/s]"
     ]
    },
    {
     "name": "stdout",
     "output_type": "stream",
     "text": [
      "Training until validation scores don't improve for 100 rounds\n",
      "[100]\ttraining's auc: 1\tvalid_1's auc: 1\n",
      "Early stopping, best iteration is:\n",
      "[1]\ttraining's auc: 1\tvalid_1's auc: 1\n"
     ]
    },
    {
     "name": "stderr",
     "output_type": "stream",
     "text": [
      "feature_fraction_stage2, val_score: 1.000000: 100%|##########| 6/6 [00:05<00:00,  1.06s/it][I 2021-01-28 19:44:40,792] Trial 42 finished with value: 1.0 and parameters: {'feature_fraction': 0.88}. Best is trial 37 with value: 1.0.\n",
      "feature_fraction_stage2, val_score: 1.000000: 100%|##########| 6/6 [00:05<00:00,  1.20it/s]\n",
      "regularization_factors, val_score: 1.000000:   0%|          | 0/20 [00:00<?, ?it/s]"
     ]
    },
    {
     "name": "stdout",
     "output_type": "stream",
     "text": [
      "Training until validation scores don't improve for 100 rounds\n",
      "[100]\ttraining's auc: 1\tvalid_1's auc: 1\n",
      "Early stopping, best iteration is:\n",
      "[1]\ttraining's auc: 1\tvalid_1's auc: 1\n"
     ]
    },
    {
     "name": "stderr",
     "output_type": "stream",
     "text": [
      "regularization_factors, val_score: 1.000000:   5%|5         | 1/20 [00:00<00:09,  2.03it/s][I 2021-01-28 19:44:41,294] Trial 43 finished with value: 1.0 and parameters: {'lambda_l1': 6.16058459025018e-07, 'lambda_l2': 0.025350779574754134}. Best is trial 43 with value: 1.0.\n",
      "regularization_factors, val_score: 1.000000:   5%|5         | 1/20 [00:00<00:09,  2.03it/s]"
     ]
    },
    {
     "name": "stdout",
     "output_type": "stream",
     "text": [
      "Training until validation scores don't improve for 100 rounds\n",
      "[100]\ttraining's auc: 1\tvalid_1's auc: 1\n",
      "Early stopping, best iteration is:\n",
      "[1]\ttraining's auc: 1\tvalid_1's auc: 1\n"
     ]
    },
    {
     "name": "stderr",
     "output_type": "stream",
     "text": [
      "regularization_factors, val_score: 1.000000:  10%|#         | 2/20 [00:01<00:09,  1.97it/s][I 2021-01-28 19:44:41,844] Trial 44 finished with value: 1.0 and parameters: {'lambda_l1': 2.655803284288151, 'lambda_l2': 1.8805122891751394e-08}. Best is trial 43 with value: 1.0.\n",
      "regularization_factors, val_score: 1.000000:  10%|#         | 2/20 [00:01<00:09,  1.97it/s]"
     ]
    },
    {
     "name": "stdout",
     "output_type": "stream",
     "text": [
      "Training until validation scores don't improve for 100 rounds\n",
      "[100]\ttraining's auc: 1\tvalid_1's auc: 1\n",
      "Early stopping, best iteration is:\n",
      "[1]\ttraining's auc: 1\tvalid_1's auc: 1\n"
     ]
    },
    {
     "name": "stderr",
     "output_type": "stream",
     "text": [
      "regularization_factors, val_score: 1.000000:  15%|#5        | 3/20 [00:01<00:09,  1.71it/s][I 2021-01-28 19:44:42,604] Trial 45 finished with value: 1.0 and parameters: {'lambda_l1': 9.405661755179995, 'lambda_l2': 1.2650605754526443e-08}. Best is trial 43 with value: 1.0.\n",
      "regularization_factors, val_score: 1.000000:  15%|#5        | 3/20 [00:01<00:09,  1.71it/s]"
     ]
    },
    {
     "name": "stdout",
     "output_type": "stream",
     "text": [
      "Training until validation scores don't improve for 100 rounds\n",
      "[100]\ttraining's auc: 1\tvalid_1's auc: 1\n",
      "Early stopping, best iteration is:\n",
      "[1]\ttraining's auc: 1\tvalid_1's auc: 1\n"
     ]
    },
    {
     "name": "stderr",
     "output_type": "stream",
     "text": [
      "regularization_factors, val_score: 1.000000:  20%|##        | 4/20 [00:03<00:14,  1.08it/s][I 2021-01-28 19:44:44,319] Trial 46 finished with value: 1.0 and parameters: {'lambda_l1': 2.9418988581523184e-08, 'lambda_l2': 6.673404030016121}. Best is trial 43 with value: 1.0.\n",
      "regularization_factors, val_score: 1.000000:  20%|##        | 4/20 [00:03<00:14,  1.08it/s]"
     ]
    },
    {
     "name": "stdout",
     "output_type": "stream",
     "text": [
      "Training until validation scores don't improve for 100 rounds\n",
      "[100]\ttraining's auc: 1\tvalid_1's auc: 1\n",
      "Early stopping, best iteration is:\n",
      "[1]\ttraining's auc: 1\tvalid_1's auc: 1\n"
     ]
    },
    {
     "name": "stderr",
     "output_type": "stream",
     "text": [
      "regularization_factors, val_score: 1.000000:  25%|##5       | 5/20 [00:04<00:13,  1.08it/s][I 2021-01-28 19:44:45,246] Trial 47 finished with value: 1.0 and parameters: {'lambda_l1': 0.0016784731814929966, 'lambda_l2': 2.3948158251120516e-05}. Best is trial 43 with value: 1.0.\n",
      "regularization_factors, val_score: 1.000000:  25%|##5       | 5/20 [00:04<00:13,  1.08it/s]"
     ]
    },
    {
     "name": "stdout",
     "output_type": "stream",
     "text": [
      "Training until validation scores don't improve for 100 rounds\n",
      "[100]\ttraining's auc: 1\tvalid_1's auc: 1\n",
      "Early stopping, best iteration is:\n",
      "[1]\ttraining's auc: 1\tvalid_1's auc: 1\n"
     ]
    },
    {
     "name": "stderr",
     "output_type": "stream",
     "text": [
      "regularization_factors, val_score: 1.000000:  30%|###       | 6/20 [00:04<00:11,  1.23it/s][I 2021-01-28 19:44:45,791] Trial 48 finished with value: 1.0 and parameters: {'lambda_l1': 0.0013540510539273361, 'lambda_l2': 3.542057748556179e-05}. Best is trial 43 with value: 1.0.\n",
      "regularization_factors, val_score: 1.000000:  30%|###       | 6/20 [00:04<00:11,  1.23it/s]"
     ]
    },
    {
     "name": "stdout",
     "output_type": "stream",
     "text": [
      "Training until validation scores don't improve for 100 rounds\n",
      "[100]\ttraining's auc: 1\tvalid_1's auc: 1\n",
      "Early stopping, best iteration is:\n",
      "[1]\ttraining's auc: 1\tvalid_1's auc: 1\n"
     ]
    },
    {
     "name": "stderr",
     "output_type": "stream",
     "text": [
      "regularization_factors, val_score: 1.000000:  35%|###5      | 7/20 [00:05<00:10,  1.18it/s][I 2021-01-28 19:44:46,719] Trial 49 finished with value: 1.0 and parameters: {'lambda_l1': 5.190720745776935e-06, 'lambda_l2': 8.384513956336967}. Best is trial 43 with value: 1.0.\n",
      "regularization_factors, val_score: 1.000000:  35%|###5      | 7/20 [00:05<00:10,  1.18it/s]"
     ]
    },
    {
     "name": "stdout",
     "output_type": "stream",
     "text": [
      "Training until validation scores don't improve for 100 rounds\n",
      "[100]\ttraining's auc: 1\tvalid_1's auc: 1\n",
      "Early stopping, best iteration is:\n",
      "[1]\ttraining's auc: 1\tvalid_1's auc: 1\n"
     ]
    },
    {
     "name": "stderr",
     "output_type": "stream",
     "text": [
      "regularization_factors, val_score: 1.000000:  40%|####      | 8/20 [00:06<00:10,  1.14it/s][I 2021-01-28 19:44:47,664] Trial 50 finished with value: 1.0 and parameters: {'lambda_l1': 0.16199906560416058, 'lambda_l2': 0.010583070149913854}. Best is trial 43 with value: 1.0.\n",
      "regularization_factors, val_score: 1.000000:  40%|####      | 8/20 [00:06<00:10,  1.14it/s]"
     ]
    },
    {
     "name": "stdout",
     "output_type": "stream",
     "text": [
      "Training until validation scores don't improve for 100 rounds\n",
      "[100]\ttraining's auc: 1\tvalid_1's auc: 1\n",
      "Early stopping, best iteration is:\n",
      "[1]\ttraining's auc: 1\tvalid_1's auc: 1\n"
     ]
    },
    {
     "name": "stderr",
     "output_type": "stream",
     "text": [
      "regularization_factors, val_score: 1.000000:  45%|####5     | 9/20 [00:08<00:10,  1.04it/s][I 2021-01-28 19:44:48,820] Trial 51 finished with value: 1.0 and parameters: {'lambda_l1': 1.543676820707509e-05, 'lambda_l2': 1.1634786208359873e-06}. Best is trial 43 with value: 1.0.\n",
      "regularization_factors, val_score: 1.000000:  45%|####5     | 9/20 [00:08<00:10,  1.04it/s]"
     ]
    },
    {
     "name": "stdout",
     "output_type": "stream",
     "text": [
      "Training until validation scores don't improve for 100 rounds\n",
      "[100]\ttraining's auc: 1\tvalid_1's auc: 1\n",
      "Early stopping, best iteration is:\n",
      "[1]\ttraining's auc: 1\tvalid_1's auc: 1\n"
     ]
    },
    {
     "name": "stderr",
     "output_type": "stream",
     "text": [
      "regularization_factors, val_score: 1.000000:  50%|#####     | 10/20 [00:09<00:09,  1.02it/s][I 2021-01-28 19:44:49,855] Trial 52 finished with value: 1.0 and parameters: {'lambda_l1': 1.6782252467205475e-08, 'lambda_l2': 0.1098036090102357}. Best is trial 43 with value: 1.0.\n",
      "regularization_factors, val_score: 1.000000:  50%|#####     | 10/20 [00:09<00:09,  1.02it/s]"
     ]
    },
    {
     "name": "stdout",
     "output_type": "stream",
     "text": [
      "Training until validation scores don't improve for 100 rounds\n",
      "[100]\ttraining's auc: 1\tvalid_1's auc: 1\n",
      "Early stopping, best iteration is:\n",
      "[1]\ttraining's auc: 1\tvalid_1's auc: 1\n"
     ]
    },
    {
     "name": "stderr",
     "output_type": "stream",
     "text": [
      "regularization_factors, val_score: 1.000000:  55%|#####5    | 11/20 [00:09<00:08,  1.05it/s][I 2021-01-28 19:44:50,733] Trial 53 finished with value: 1.0 and parameters: {'lambda_l1': 0.3473204429844144, 'lambda_l2': 4.1273206653116694e-07}. Best is trial 43 with value: 1.0.\n",
      "regularization_factors, val_score: 1.000000:  55%|#####5    | 11/20 [00:09<00:08,  1.05it/s]"
     ]
    },
    {
     "name": "stdout",
     "output_type": "stream",
     "text": [
      "Training until validation scores don't improve for 100 rounds\n",
      "[100]\ttraining's auc: 1\tvalid_1's auc: 1\n",
      "Early stopping, best iteration is:\n",
      "[1]\ttraining's auc: 1\tvalid_1's auc: 1\n"
     ]
    },
    {
     "name": "stderr",
     "output_type": "stream",
     "text": [
      "regularization_factors, val_score: 1.000000:  60%|######    | 12/20 [00:10<00:06,  1.15it/s][I 2021-01-28 19:44:51,422] Trial 54 finished with value: 1.0 and parameters: {'lambda_l1': 0.026614538782673117, 'lambda_l2': 0.001429919862714215}. Best is trial 43 with value: 1.0.\n",
      "regularization_factors, val_score: 1.000000:  60%|######    | 12/20 [00:10<00:06,  1.15it/s]"
     ]
    },
    {
     "name": "stdout",
     "output_type": "stream",
     "text": [
      "Training until validation scores don't improve for 100 rounds\n",
      "[100]\ttraining's auc: 1\tvalid_1's auc: 1\n",
      "Early stopping, best iteration is:\n",
      "[1]\ttraining's auc: 1\tvalid_1's auc: 1\n"
     ]
    },
    {
     "name": "stderr",
     "output_type": "stream",
     "text": [
      "regularization_factors, val_score: 1.000000:  65%|######5   | 13/20 [00:11<00:06,  1.14it/s][I 2021-01-28 19:44:52,318] Trial 55 finished with value: 1.0 and parameters: {'lambda_l1': 9.145942193211588e-05, 'lambda_l2': 0.6523872144467915}. Best is trial 43 with value: 1.0.\n",
      "regularization_factors, val_score: 1.000000:  65%|######5   | 13/20 [00:11<00:06,  1.14it/s]"
     ]
    },
    {
     "name": "stdout",
     "output_type": "stream",
     "text": [
      "Training until validation scores don't improve for 100 rounds\n",
      "[100]\ttraining's auc: 1\tvalid_1's auc: 1\n",
      "Early stopping, best iteration is:\n",
      "[1]\ttraining's auc: 1\tvalid_1's auc: 1\n"
     ]
    },
    {
     "name": "stderr",
     "output_type": "stream",
     "text": [
      "regularization_factors, val_score: 1.000000:  70%|#######   | 14/20 [00:12<00:04,  1.28it/s][I 2021-01-28 19:44:52,860] Trial 56 finished with value: 1.0 and parameters: {'lambda_l1': 3.2006281181184566e-07, 'lambda_l2': 0.0001903287825238812}. Best is trial 43 with value: 1.0.\n",
      "regularization_factors, val_score: 1.000000:  70%|#######   | 14/20 [00:12<00:04,  1.28it/s]"
     ]
    },
    {
     "name": "stdout",
     "output_type": "stream",
     "text": [
      "Training until validation scores don't improve for 100 rounds\n",
      "[100]\ttraining's auc: 1\tvalid_1's auc: 1\n",
      "Early stopping, best iteration is:\n",
      "[1]\ttraining's auc: 1\tvalid_1's auc: 1\n"
     ]
    },
    {
     "name": "stderr",
     "output_type": "stream",
     "text": [
      "regularization_factors, val_score: 1.000000:  75%|#######5  | 15/20 [00:12<00:03,  1.43it/s][I 2021-01-28 19:44:53,379] Trial 57 finished with value: 1.0 and parameters: {'lambda_l1': 0.014338586938595797, 'lambda_l2': 4.328884025257789e-07}. Best is trial 43 with value: 1.0.\n",
      "regularization_factors, val_score: 1.000000:  75%|#######5  | 15/20 [00:12<00:03,  1.43it/s]"
     ]
    },
    {
     "name": "stdout",
     "output_type": "stream",
     "text": [
      "Training until validation scores don't improve for 100 rounds\n",
      "[100]\ttraining's auc: 1\tvalid_1's auc: 1\n",
      "Early stopping, best iteration is:\n",
      "[1]\ttraining's auc: 1\tvalid_1's auc: 1\n"
     ]
    },
    {
     "name": "stderr",
     "output_type": "stream",
     "text": [
      "regularization_factors, val_score: 1.000000:  80%|########  | 16/20 [00:13<00:02,  1.37it/s][I 2021-01-28 19:44:54,175] Trial 58 finished with value: 1.0 and parameters: {'lambda_l1': 2.4316806882256556e-07, 'lambda_l2': 0.5934395669201136}. Best is trial 43 with value: 1.0.\n",
      "regularization_factors, val_score: 1.000000:  80%|########  | 16/20 [00:13<00:02,  1.37it/s]"
     ]
    },
    {
     "name": "stdout",
     "output_type": "stream",
     "text": [
      "Training until validation scores don't improve for 100 rounds\n",
      "[100]\ttraining's auc: 1\tvalid_1's auc: 1\n",
      "Early stopping, best iteration is:\n",
      "[1]\ttraining's auc: 1\tvalid_1's auc: 1\n"
     ]
    },
    {
     "name": "stderr",
     "output_type": "stream",
     "text": [
      "regularization_factors, val_score: 1.000000:  85%|########5 | 17/20 [00:14<00:02,  1.18it/s][I 2021-01-28 19:44:55,299] Trial 59 finished with value: 1.0 and parameters: {'lambda_l1': 0.00010985243283466037, 'lambda_l2': 5.2526431573335405e-06}. Best is trial 43 with value: 1.0.\n",
      "regularization_factors, val_score: 1.000000:  85%|########5 | 17/20 [00:14<00:02,  1.18it/s]"
     ]
    },
    {
     "name": "stdout",
     "output_type": "stream",
     "text": [
      "Training until validation scores don't improve for 100 rounds\n",
      "[100]\ttraining's auc: 1\tvalid_1's auc: 1\n",
      "Early stopping, best iteration is:\n",
      "[1]\ttraining's auc: 1\tvalid_1's auc: 1\n"
     ]
    },
    {
     "name": "stderr",
     "output_type": "stream",
     "text": [
      "regularization_factors, val_score: 1.000000:  90%|######### | 18/20 [00:15<00:01,  1.27it/s][I 2021-01-28 19:44:55,942] Trial 60 finished with value: 1.0 and parameters: {'lambda_l1': 2.1730449475780826, 'lambda_l2': 6.67434638760007e-08}. Best is trial 43 with value: 1.0.\n",
      "regularization_factors, val_score: 1.000000:  90%|######### | 18/20 [00:15<00:01,  1.27it/s]"
     ]
    },
    {
     "name": "stdout",
     "output_type": "stream",
     "text": [
      "Training until validation scores don't improve for 100 rounds\n",
      "[100]\ttraining's auc: 1\tvalid_1's auc: 1\n",
      "Early stopping, best iteration is:\n",
      "[1]\ttraining's auc: 1\tvalid_1's auc: 1\n"
     ]
    },
    {
     "name": "stderr",
     "output_type": "stream",
     "text": [
      "regularization_factors, val_score: 1.000000:  95%|#########5| 19/20 [00:15<00:00,  1.26it/s][I 2021-01-28 19:44:56,758] Trial 61 finished with value: 1.0 and parameters: {'lambda_l1': 6.5416948417593115e-06, 'lambda_l2': 0.0008797965575243915}. Best is trial 43 with value: 1.0.\n",
      "regularization_factors, val_score: 1.000000:  95%|#########5| 19/20 [00:15<00:00,  1.26it/s]"
     ]
    },
    {
     "name": "stdout",
     "output_type": "stream",
     "text": [
      "Training until validation scores don't improve for 100 rounds\n",
      "[100]\ttraining's auc: 1\tvalid_1's auc: 1\n",
      "Early stopping, best iteration is:\n",
      "[1]\ttraining's auc: 1\tvalid_1's auc: 1\n"
     ]
    },
    {
     "name": "stderr",
     "output_type": "stream",
     "text": [
      "regularization_factors, val_score: 1.000000: 100%|##########| 20/20 [00:16<00:00,  1.33it/s][I 2021-01-28 19:44:57,416] Trial 62 finished with value: 1.0 and parameters: {'lambda_l1': 0.0062572051118515585, 'lambda_l2': 0.008611675649232028}. Best is trial 43 with value: 1.0.\n",
      "regularization_factors, val_score: 1.000000: 100%|##########| 20/20 [00:16<00:00,  1.20it/s]\n",
      "min_data_in_leaf, val_score: 1.000000:   0%|          | 0/5 [00:00<?, ?it/s]"
     ]
    },
    {
     "name": "stdout",
     "output_type": "stream",
     "text": [
      "Training until validation scores don't improve for 100 rounds\n",
      "[100]\ttraining's auc: 1\tvalid_1's auc: 1\n",
      "Early stopping, best iteration is:\n",
      "[1]\ttraining's auc: 1\tvalid_1's auc: 1\n"
     ]
    },
    {
     "name": "stderr",
     "output_type": "stream",
     "text": [
      "min_data_in_leaf, val_score: 1.000000:  20%|##        | 1/5 [00:00<00:03,  1.32it/s][I 2021-01-28 19:44:58,182] Trial 63 finished with value: 1.0 and parameters: {'min_child_samples': 10}. Best is trial 63 with value: 1.0.\n",
      "min_data_in_leaf, val_score: 1.000000:  20%|##        | 1/5 [00:00<00:03,  1.32it/s]"
     ]
    },
    {
     "name": "stdout",
     "output_type": "stream",
     "text": [
      "Training until validation scores don't improve for 100 rounds\n",
      "[100]\ttraining's auc: 1\tvalid_1's auc: 1\n",
      "Early stopping, best iteration is:\n",
      "[1]\ttraining's auc: 1\tvalid_1's auc: 1\n"
     ]
    },
    {
     "name": "stderr",
     "output_type": "stream",
     "text": [
      "min_data_in_leaf, val_score: 1.000000:  40%|####      | 2/5 [00:01<00:02,  1.16it/s][I 2021-01-28 19:44:59,277] Trial 64 finished with value: 1.0 and parameters: {'min_child_samples': 25}. Best is trial 63 with value: 1.0.\n",
      "min_data_in_leaf, val_score: 1.000000:  40%|####      | 2/5 [00:01<00:02,  1.16it/s]"
     ]
    },
    {
     "name": "stdout",
     "output_type": "stream",
     "text": [
      "Training until validation scores don't improve for 100 rounds\n",
      "[100]\ttraining's auc: 1\tvalid_1's auc: 1\n",
      "Early stopping, best iteration is:\n",
      "[1]\ttraining's auc: 1\tvalid_1's auc: 1\n"
     ]
    },
    {
     "name": "stderr",
     "output_type": "stream",
     "text": [
      "min_data_in_leaf, val_score: 1.000000:  60%|######    | 3/5 [00:03<00:01,  1.01it/s][I 2021-01-28 19:45:00,573] Trial 65 finished with value: 1.0 and parameters: {'min_child_samples': 5}. Best is trial 63 with value: 1.0.\n",
      "min_data_in_leaf, val_score: 1.000000:  60%|######    | 3/5 [00:03<00:01,  1.01it/s]"
     ]
    },
    {
     "name": "stdout",
     "output_type": "stream",
     "text": [
      "Training until validation scores don't improve for 100 rounds\n",
      "[100]\ttraining's auc: 1\tvalid_1's auc: 1\n",
      "Early stopping, best iteration is:\n",
      "[1]\ttraining's auc: 1\tvalid_1's auc: 1\n"
     ]
    },
    {
     "name": "stderr",
     "output_type": "stream",
     "text": [
      "min_data_in_leaf, val_score: 1.000000:  80%|########  | 4/5 [00:03<00:00,  1.11it/s][I 2021-01-28 19:45:01,257] Trial 66 finished with value: 1.0 and parameters: {'min_child_samples': 100}. Best is trial 63 with value: 1.0.\n",
      "min_data_in_leaf, val_score: 1.000000:  80%|########  | 4/5 [00:03<00:00,  1.11it/s]"
     ]
    },
    {
     "name": "stdout",
     "output_type": "stream",
     "text": [
      "Training until validation scores don't improve for 100 rounds\n",
      "[100]\ttraining's auc: 1\tvalid_1's auc: 1\n",
      "Early stopping, best iteration is:\n",
      "[1]\ttraining's auc: 1\tvalid_1's auc: 1\n"
     ]
    },
    {
     "name": "stderr",
     "output_type": "stream",
     "text": [
      "min_data_in_leaf, val_score: 1.000000: 100%|##########| 5/5 [00:04<00:00,  1.22it/s][I 2021-01-28 19:45:01,900] Trial 67 finished with value: 1.0 and parameters: {'min_child_samples': 50}. Best is trial 63 with value: 1.0.\n",
      "min_data_in_leaf, val_score: 1.000000: 100%|##########| 5/5 [00:04<00:00,  1.11it/s]\n"
     ]
    },
    {
     "name": "stdout",
     "output_type": "stream",
     "text": [
      "Best params: {'metric': 'auc', 'verbosity': -1, 'boosting_type': 'gbdt', 'feature_pre_filter': False, 'lambda_l1': 0.0, 'lambda_l2': 0.0, 'num_leaves': 31, 'feature_fraction': 0.8, 'bagging_fraction': 1.0, 'bagging_freq': 0, 'min_child_samples': 20, 'num_iterations': 1000, 'early_stopping_round': 100}\n",
      "  Accuracy = 0.8372732270478285\n",
      "  Params: \n",
      "    metric: auc\n",
      "    verbosity: -1\n",
      "    boosting_type: gbdt\n",
      "    feature_pre_filter: False\n",
      "    lambda_l1: 0.0\n",
      "    lambda_l2: 0.0\n",
      "    num_leaves: 31\n",
      "    feature_fraction: 0.8\n",
      "    bagging_fraction: 1.0\n",
      "    bagging_freq: 0\n",
      "    min_child_samples: 20\n",
      "    num_iterations: 1000\n",
      "    early_stopping_round: 100\n"
     ]
    }
   ],
   "source": [
    "# !pip install optuna\n",
    "import optuna.integration.lightgbm as lgb\n",
    "dtrain = lgb.Dataset(X_train, label=y_train)\n",
    "dval = lgb.Dataset(X_test, label=y_test)\n",
    "\n",
    "params = {\n",
    "        \"metric\": \"auc\",\n",
    "        \"verbosity\": -1,\n",
    "        \"boosting_type\": \"gbdt\",\n",
    "}\n",
    "\n",
    "model = lgb.train(\n",
    "        params, dtrain, valid_sets=[dtrain, dval], verbose_eval=100, early_stopping_rounds=100\n",
    "    )\n",
    "\n",
    "prediction = np.rint(model.predict(X_test, num_iteration=model.best_iteration))\n",
    "accuracy = accuracy_score(y_test, prediction)\n",
    "\n",
    "best_params = model.params\n",
    "print(\"Best params:\", best_params)\n",
    "print(\"  Accuracy = {}\".format(accuracy))\n",
    "print(\"  Params: \")\n",
    "for key, value in best_params.items():\n",
    "  print(\"    {}: {}\".format(key, value))\n"
   ]
  },
  {
   "cell_type": "code",
   "execution_count": 90,
   "metadata": {},
   "outputs": [],
   "source": [
    "params = {\n",
    "    'metric': 'multi_logloss',\n",
    "    'verbosity': -1,\n",
    "    'boosting_type': 'gbdt',\n",
    "    'feature_pre_filter': False,\n",
    "    'lambda_l1': 0.0,\n",
    "    'lambda_l2': 0.0,\n",
    "    'num_leaves': 31,\n",
    "    'feature_fraction': 0.8,\n",
    "    'bagging_fraction': 1.0,\n",
    "    'bagging_freq': 0,\n",
    "    'min_child_samples': 20,\n",
    "    'num_iterations': 1000\n",
    "}"
   ]
  },
  {
   "cell_type": "code",
   "execution_count": 91,
   "metadata": {},
   "outputs": [],
   "source": [
    "from lightgbm import LGBMClassifier\n",
    "model = LGBMClassifier(**params)"
   ]
  },
  {
   "cell_type": "code",
   "execution_count": 92,
   "metadata": {},
   "outputs": [
    {
     "data": {
      "text/plain": [
       "LGBMClassifier(bagging_fraction=1.0, bagging_freq=0, feature_fraction=0.8,\n",
       "               feature_pre_filter=False, lambda_l1=0.0, lambda_l2=0.0,\n",
       "               metric='multi_logloss', num_iterations=1000, verbosity=-1)"
      ]
     },
     "execution_count": 92,
     "metadata": {},
     "output_type": "execute_result"
    }
   ],
   "source": [
    "model.fit(X_train,y_train)"
   ]
  },
  {
   "cell_type": "code",
   "execution_count": 57,
   "metadata": {},
   "outputs": [
    {
     "name": "stdout",
     "output_type": "stream",
     "text": [
      "0.8565145684442002\n"
     ]
    }
   ],
   "source": [
    "preds_val = model.predict(X_test)\n",
    "from sklearn.metrics import accuracy_score\n",
    "print(accuracy_score(y_test,preds_val))"
   ]
  },
  {
   "cell_type": "code",
   "execution_count": 93,
   "metadata": {},
   "outputs": [
    {
     "ename": "ValueError",
     "evalue": "Number of features of the model must match the input. Model n_features_ is 18 and input n_features is 11 ",
     "output_type": "error",
     "traceback": [
      "\u001b[0;31m---------------------------------------------------------------------------\u001b[0m",
      "\u001b[0;31mValueError\u001b[0m                                Traceback (most recent call last)",
      "\u001b[0;32m<ipython-input-93-66d23fdedfb9>\u001b[0m in \u001b[0;36m<module>\u001b[0;34m\u001b[0m\n\u001b[0;32m----> 1\u001b[0;31m \u001b[0mfinal_preds\u001b[0m \u001b[0;34m=\u001b[0m \u001b[0mmodel\u001b[0m\u001b[0;34m.\u001b[0m\u001b[0mpredict_proba\u001b[0m\u001b[0;34m(\u001b[0m\u001b[0mtest\u001b[0m\u001b[0;34m.\u001b[0m\u001b[0mdrop\u001b[0m\u001b[0;34m(\u001b[0m\u001b[0mcolumns\u001b[0m\u001b[0;34m=\u001b[0m\u001b[0;34m[\u001b[0m\u001b[0;34m'ALL'\u001b[0m\u001b[0;34m]\u001b[0m\u001b[0;34m,\u001b[0m\u001b[0maxis\u001b[0m\u001b[0;34m=\u001b[0m\u001b[0;36m1\u001b[0m\u001b[0;34m)\u001b[0m\u001b[0;34m)\u001b[0m\u001b[0;34m\u001b[0m\u001b[0;34m\u001b[0m\u001b[0m\n\u001b[0m\u001b[1;32m      2\u001b[0m \u001b[0mfinal_preds\u001b[0m\u001b[0;34m\u001b[0m\u001b[0;34m\u001b[0m\u001b[0m\n",
      "\u001b[0;32m~/vpy/lib/python3.8/site-packages/lightgbm/sklearn.py\u001b[0m in \u001b[0;36mpredict_proba\u001b[0;34m(self, X, raw_score, start_iteration, num_iteration, pred_leaf, pred_contrib, **kwargs)\u001b[0m\n\u001b[1;32m    901\u001b[0m             \u001b[0mIf\u001b[0m\u001b[0;31m \u001b[0m\u001b[0;31m`\u001b[0m\u001b[0;31m`\u001b[0m\u001b[0mpred_contrib\u001b[0m\u001b[0;34m=\u001b[0m\u001b[0;32mTrue\u001b[0m\u001b[0;31m`\u001b[0m\u001b[0;31m`\u001b[0m\u001b[0;34m,\u001b[0m \u001b[0mthe\u001b[0m \u001b[0mfeature\u001b[0m \u001b[0mcontributions\u001b[0m \u001b[0;32mfor\u001b[0m \u001b[0meach\u001b[0m \u001b[0msample\u001b[0m\u001b[0;34m.\u001b[0m\u001b[0;34m\u001b[0m\u001b[0;34m\u001b[0m\u001b[0m\n\u001b[1;32m    902\u001b[0m         \"\"\"\n\u001b[0;32m--> 903\u001b[0;31m         result = super(LGBMClassifier, self).predict(X, raw_score, start_iteration, num_iteration,\n\u001b[0m\u001b[1;32m    904\u001b[0m                                                      pred_leaf, pred_contrib, **kwargs)\n\u001b[1;32m    905\u001b[0m         \u001b[0;32mif\u001b[0m \u001b[0mcallable\u001b[0m\u001b[0;34m(\u001b[0m\u001b[0mself\u001b[0m\u001b[0;34m.\u001b[0m\u001b[0m_objective\u001b[0m\u001b[0;34m)\u001b[0m \u001b[0;32mand\u001b[0m \u001b[0;32mnot\u001b[0m \u001b[0;34m(\u001b[0m\u001b[0mraw_score\u001b[0m \u001b[0;32mor\u001b[0m \u001b[0mpred_leaf\u001b[0m \u001b[0;32mor\u001b[0m \u001b[0mpred_contrib\u001b[0m\u001b[0;34m)\u001b[0m\u001b[0;34m:\u001b[0m\u001b[0;34m\u001b[0m\u001b[0;34m\u001b[0m\u001b[0m\n",
      "\u001b[0;32m~/vpy/lib/python3.8/site-packages/lightgbm/sklearn.py\u001b[0m in \u001b[0;36mpredict\u001b[0;34m(self, X, raw_score, start_iteration, num_iteration, pred_leaf, pred_contrib, **kwargs)\u001b[0m\n\u001b[1;32m    662\u001b[0m         \u001b[0mn_features\u001b[0m \u001b[0;34m=\u001b[0m \u001b[0mX\u001b[0m\u001b[0;34m.\u001b[0m\u001b[0mshape\u001b[0m\u001b[0;34m[\u001b[0m\u001b[0;36m1\u001b[0m\u001b[0;34m]\u001b[0m\u001b[0;34m\u001b[0m\u001b[0;34m\u001b[0m\u001b[0m\n\u001b[1;32m    663\u001b[0m         \u001b[0;32mif\u001b[0m \u001b[0mself\u001b[0m\u001b[0;34m.\u001b[0m\u001b[0m_n_features\u001b[0m \u001b[0;34m!=\u001b[0m \u001b[0mn_features\u001b[0m\u001b[0;34m:\u001b[0m\u001b[0;34m\u001b[0m\u001b[0;34m\u001b[0m\u001b[0m\n\u001b[0;32m--> 664\u001b[0;31m             raise ValueError(\"Number of features of the model must \"\n\u001b[0m\u001b[1;32m    665\u001b[0m                              \u001b[0;34m\"match the input. Model n_features_ is %s and \"\u001b[0m\u001b[0;34m\u001b[0m\u001b[0;34m\u001b[0m\u001b[0m\n\u001b[1;32m    666\u001b[0m                              \u001b[0;34m\"input n_features is %s \"\u001b[0m\u001b[0;34m\u001b[0m\u001b[0;34m\u001b[0m\u001b[0m\n",
      "\u001b[0;31mValueError\u001b[0m: Number of features of the model must match the input. Model n_features_ is 18 and input n_features is 11 "
     ]
    }
   ],
   "source": [
    "final_preds = model.predict_proba(test.drop(columns=['ALL'],axis=1))\n",
    "final_preds"
   ]
  },
  {
   "cell_type": "code",
   "execution_count": null,
   "metadata": {},
   "outputs": [],
   "source": [
    "temp = pd.DataFrame(final_preds)\n",
    "sub = pd.DataFrame()\n",
    "sub['0'] = 0\n",
    "sub['1'] = temp[0]\n",
    "sub['2'] = temp[1]\n",
    "sub['3'] = temp[2]\n",
    "sub['4'] = temp[3]\n"
   ]
  },
  {
   "cell_type": "code",
   "execution_count": null,
   "metadata": {},
   "outputs": [],
   "source": [
    "sub = sub.fillna(0)"
   ]
  },
  {
   "cell_type": "code",
   "execution_count": 62,
   "metadata": {},
   "outputs": [],
   "source": [
    "#there are duplicates between test and train, for those rows we can directly use train target values\n",
    "#storing the target values of common rows in test and train\n",
    "temp1=''\n",
    "for i in test.columns:\n",
    "    temp1=temp1+i+train[i].astype(str)\n",
    "train['ALL']=temp1\n",
    "temp2=''\n",
    "for i in test.columns:\n",
    "    temp2=temp2+i+test[i].astype(str)\n",
    "test['ALL']=temp2\n",
    "encoding=train.groupby('ALL')['popularity'].median()\n",
    "y_from_train=test['ALL'].map(encoding)\n",
    "temp = pd.DataFrame()\n",
    "temp['pop'] = y_from_train\n",
    "temp['pop'] = temp['pop'].fillna(-999)\n",
    "x = temp[temp['pop']!=-999]\n",
    "for i in x.index.values:\n",
    "#     print(x.iloc[i].values[0])\n",
    "    try:\n",
    "        if x.loc[i].values[0] ==0:\n",
    "            sub.loc[i] =[1.0,0.0,0.0,0.0,0.0]\n",
    "        elif x.loc[i].values[0] ==1:\n",
    "            sub.loc[i] =[0.0,1.0,0.0,0.0,0.0]\n",
    "        elif x.loc[i].values[0] ==3:\n",
    "            sub.loc[i] =[0.0,0.0,1.0,0.0,0.0]\n",
    "        elif x.loc[i].values[0] ==4:\n",
    "            sub.loc[i] =[0.0,0.0,0.0,1.0,0.0]\n",
    "        elif x.loc[i].values[0] ==5:\n",
    "            sub.loc[i] =[0.0,0.0,0.0,0.0,1.0]\n",
    "        else:\n",
    "            print('.',end='')\n",
    "    except:\n",
    "        print(i)\n",
    "        print(x.loc[i].values[0])"
   ]
  },
  {
   "cell_type": "code",
   "execution_count": 63,
   "metadata": {},
   "outputs": [
    {
     "data": {
      "text/html": [
       "<div>\n",
       "<style scoped>\n",
       "    .dataframe tbody tr th:only-of-type {\n",
       "        vertical-align: middle;\n",
       "    }\n",
       "\n",
       "    .dataframe tbody tr th {\n",
       "        vertical-align: top;\n",
       "    }\n",
       "\n",
       "    .dataframe thead th {\n",
       "        text-align: right;\n",
       "    }\n",
       "</style>\n",
       "<table border=\"1\" class=\"dataframe\">\n",
       "  <thead>\n",
       "    <tr style=\"text-align: right;\">\n",
       "      <th></th>\n",
       "      <th>0</th>\n",
       "      <th>1</th>\n",
       "      <th>2</th>\n",
       "      <th>3</th>\n",
       "      <th>4</th>\n",
       "    </tr>\n",
       "  </thead>\n",
       "  <tbody>\n",
       "    <tr>\n",
       "      <th>0</th>\n",
       "      <td>0.0</td>\n",
       "      <td>0.000000</td>\n",
       "      <td>1.000000</td>\n",
       "      <td>0.000000</td>\n",
       "      <td>0.000000</td>\n",
       "    </tr>\n",
       "    <tr>\n",
       "      <th>1</th>\n",
       "      <td>0.0</td>\n",
       "      <td>0.004859</td>\n",
       "      <td>0.196113</td>\n",
       "      <td>0.787081</td>\n",
       "      <td>0.011947</td>\n",
       "    </tr>\n",
       "    <tr>\n",
       "      <th>2</th>\n",
       "      <td>0.0</td>\n",
       "      <td>0.019107</td>\n",
       "      <td>0.177063</td>\n",
       "      <td>0.788720</td>\n",
       "      <td>0.015110</td>\n",
       "    </tr>\n",
       "    <tr>\n",
       "      <th>3</th>\n",
       "      <td>0.0</td>\n",
       "      <td>0.007202</td>\n",
       "      <td>0.188808</td>\n",
       "      <td>0.794248</td>\n",
       "      <td>0.009742</td>\n",
       "    </tr>\n",
       "    <tr>\n",
       "      <th>4</th>\n",
       "      <td>0.0</td>\n",
       "      <td>0.000000</td>\n",
       "      <td>0.000000</td>\n",
       "      <td>1.000000</td>\n",
       "      <td>0.000000</td>\n",
       "    </tr>\n",
       "  </tbody>\n",
       "</table>\n",
       "</div>"
      ],
      "text/plain": [
       "     0         1         2         3         4\n",
       "0  0.0  0.000000  1.000000  0.000000  0.000000\n",
       "1  0.0  0.004859  0.196113  0.787081  0.011947\n",
       "2  0.0  0.019107  0.177063  0.788720  0.015110\n",
       "3  0.0  0.007202  0.188808  0.794248  0.009742\n",
       "4  0.0  0.000000  0.000000  1.000000  0.000000"
      ]
     },
     "execution_count": 63,
     "metadata": {},
     "output_type": "execute_result"
    }
   ],
   "source": [
    "dummy = test[test['Store_Ratio']==0]\n",
    "dummy.index\n",
    "for i in dummy.index.values:\n",
    "    sub.iloc[i] =[1.0,0.0,0.0,0.0,0.0]\n",
    "sub.head()"
   ]
  },
  {
   "cell_type": "code",
   "execution_count": 64,
   "metadata": {},
   "outputs": [
    {
     "data": {
      "text/plain": [
       "11.0"
      ]
     },
     "execution_count": 64,
     "metadata": {},
     "output_type": "execute_result"
    }
   ],
   "source": [
    "np.sum(sub['0'])"
   ]
  },
  {
   "cell_type": "code",
   "execution_count": 65,
   "metadata": {},
   "outputs": [],
   "source": [
    "sub.to_csv('sub_2501_v2_lgb.csv',index=False)"
   ]
  },
  {
   "cell_type": "code",
   "execution_count": null,
   "metadata": {},
   "outputs": [],
   "source": []
  }
 ],
 "metadata": {
  "kernelspec": {
   "display_name": "Python 3",
   "language": "python",
   "name": "python3"
  },
  "language_info": {
   "codemirror_mode": {
    "name": "ipython",
    "version": 3
   },
   "file_extension": ".py",
   "mimetype": "text/x-python",
   "name": "python",
   "nbconvert_exporter": "python",
   "pygments_lexer": "ipython3",
   "version": "3.8.3"
  }
 },
 "nbformat": 4,
 "nbformat_minor": 4
}
