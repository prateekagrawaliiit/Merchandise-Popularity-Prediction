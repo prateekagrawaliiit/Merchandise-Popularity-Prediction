{
 "cells": [
  {
   "cell_type": "code",
   "execution_count": 1,
   "metadata": {},
   "outputs": [],
   "source": [
    "import pandas as pd\n",
    "import numpy as np"
   ]
  },
  {
   "cell_type": "code",
   "execution_count": 2,
   "metadata": {},
   "outputs": [],
   "source": [
    "train = pd.read_csv('Train.csv')\n",
    "test = pd.read_csv('Test.csv')"
   ]
  },
  {
   "cell_type": "code",
   "execution_count": 3,
   "metadata": {},
   "outputs": [],
   "source": [
    "import pandas as pd\n",
    "import numpy as np\n",
    "import seaborn as sns\n",
    "import matplotlib.pyplot as plt\n",
    "from lightgbm import LGBMClassifier\n",
    "from catboost import CatBoostClassifier\n",
    "from xgboost import XGBClassifier\n",
    "from sklearn.linear_model import LogisticRegression , RidgeClassifier, Huber\n",
    "from sklearn.tree import DecisionTreeClassifier\n",
    "from sklearn.ensemble import RandomForestClassifier , GradientBoostingClassifier , ExtraTreesClassifier , AdaBoostClassifier\n",
    "from sklearn.model_selection import KFold ,StratifiedKFold\n",
    "from sklearn.metrics import log_loss\n",
    "import warnings \n",
    "warnings.filterwarnings('ignore')"
   ]
  },
  {
   "cell_type": "code",
   "execution_count": 4,
   "metadata": {},
   "outputs": [
    {
     "data": {
      "text/html": [
       "<div>\n",
       "<style scoped>\n",
       "    .dataframe tbody tr th:only-of-type {\n",
       "        vertical-align: middle;\n",
       "    }\n",
       "\n",
       "    .dataframe tbody tr th {\n",
       "        vertical-align: top;\n",
       "    }\n",
       "\n",
       "    .dataframe thead th {\n",
       "        text-align: right;\n",
       "    }\n",
       "</style>\n",
       "<table border=\"1\" class=\"dataframe\">\n",
       "  <thead>\n",
       "    <tr style=\"text-align: right;\">\n",
       "      <th></th>\n",
       "      <th>Store_Ratio</th>\n",
       "      <th>Basket_Ratio</th>\n",
       "      <th>Category_1</th>\n",
       "      <th>Store_Score</th>\n",
       "      <th>Category_2</th>\n",
       "      <th>Store_Presence</th>\n",
       "      <th>Score_1</th>\n",
       "      <th>Score_2</th>\n",
       "      <th>Score_3</th>\n",
       "      <th>Score_4</th>\n",
       "      <th>time</th>\n",
       "      <th>popularity</th>\n",
       "    </tr>\n",
       "  </thead>\n",
       "  <tbody>\n",
       "    <tr>\n",
       "      <th>0</th>\n",
       "      <td>0.407</td>\n",
       "      <td>0.00380</td>\n",
       "      <td>2</td>\n",
       "      <td>-35.865</td>\n",
       "      <td>1</td>\n",
       "      <td>0.9920</td>\n",
       "      <td>0.944</td>\n",
       "      <td>0.0988</td>\n",
       "      <td>0.1100</td>\n",
       "      <td>113.911</td>\n",
       "      <td>189125</td>\n",
       "      <td>4</td>\n",
       "    </tr>\n",
       "    <tr>\n",
       "      <th>1</th>\n",
       "      <td>0.234</td>\n",
       "      <td>0.10500</td>\n",
       "      <td>0</td>\n",
       "      <td>-19.884</td>\n",
       "      <td>1</td>\n",
       "      <td>0.9440</td>\n",
       "      <td>0.900</td>\n",
       "      <td>0.1290</td>\n",
       "      <td>0.0382</td>\n",
       "      <td>76.332</td>\n",
       "      <td>186513</td>\n",
       "      <td>4</td>\n",
       "    </tr>\n",
       "    <tr>\n",
       "      <th>2</th>\n",
       "      <td>0.668</td>\n",
       "      <td>0.72600</td>\n",
       "      <td>9</td>\n",
       "      <td>-7.512</td>\n",
       "      <td>1</td>\n",
       "      <td>0.0387</td>\n",
       "      <td>0.000</td>\n",
       "      <td>0.1340</td>\n",
       "      <td>0.4530</td>\n",
       "      <td>124.075</td>\n",
       "      <td>172143</td>\n",
       "      <td>4</td>\n",
       "    </tr>\n",
       "    <tr>\n",
       "      <th>3</th>\n",
       "      <td>0.184</td>\n",
       "      <td>0.00561</td>\n",
       "      <td>4</td>\n",
       "      <td>-34.357</td>\n",
       "      <td>1</td>\n",
       "      <td>0.8490</td>\n",
       "      <td>0.931</td>\n",
       "      <td>0.1110</td>\n",
       "      <td>0.0641</td>\n",
       "      <td>79.037</td>\n",
       "      <td>184000</td>\n",
       "      <td>5</td>\n",
       "    </tr>\n",
       "    <tr>\n",
       "      <th>4</th>\n",
       "      <td>0.231</td>\n",
       "      <td>0.13100</td>\n",
       "      <td>6</td>\n",
       "      <td>-22.842</td>\n",
       "      <td>1</td>\n",
       "      <td>0.9370</td>\n",
       "      <td>0.000</td>\n",
       "      <td>0.1090</td>\n",
       "      <td>0.0677</td>\n",
       "      <td>109.560</td>\n",
       "      <td>186507</td>\n",
       "      <td>3</td>\n",
       "    </tr>\n",
       "  </tbody>\n",
       "</table>\n",
       "</div>"
      ],
      "text/plain": [
       "   Store_Ratio  Basket_Ratio  Category_1  Store_Score  Category_2  \\\n",
       "0        0.407       0.00380           2      -35.865           1   \n",
       "1        0.234       0.10500           0      -19.884           1   \n",
       "2        0.668       0.72600           9       -7.512           1   \n",
       "3        0.184       0.00561           4      -34.357           1   \n",
       "4        0.231       0.13100           6      -22.842           1   \n",
       "\n",
       "   Store_Presence  Score_1  Score_2  Score_3  Score_4    time  popularity  \n",
       "0          0.9920    0.944   0.0988   0.1100  113.911  189125           4  \n",
       "1          0.9440    0.900   0.1290   0.0382   76.332  186513           4  \n",
       "2          0.0387    0.000   0.1340   0.4530  124.075  172143           4  \n",
       "3          0.8490    0.931   0.1110   0.0641   79.037  184000           5  \n",
       "4          0.9370    0.000   0.1090   0.0677  109.560  186507           3  "
      ]
     },
     "execution_count": 4,
     "metadata": {},
     "output_type": "execute_result"
    }
   ],
   "source": [
    "train = train[train['time']<2*1e6]\n",
    "train = train[train['time']!=1804691]\n",
    "train = train[train['Store_Ratio']>0]\n",
    "# train.shape\n",
    "train.head()"
   ]
  },
  {
   "cell_type": "code",
   "execution_count": 5,
   "metadata": {},
   "outputs": [
    {
     "data": {
      "text/plain": [
       "(18205, 12)"
      ]
     },
     "execution_count": 5,
     "metadata": {},
     "output_type": "execute_result"
    }
   ],
   "source": [
    "train.shape"
   ]
  },
  {
   "cell_type": "code",
   "execution_count": 6,
   "metadata": {},
   "outputs": [
    {
     "data": {
      "text/plain": [
       "(18189, 12)"
      ]
     },
     "execution_count": 6,
     "metadata": {},
     "output_type": "execute_result"
    }
   ],
   "source": []
  },
  {
   "cell_type": "code",
   "execution_count": 7,
   "metadata": {},
   "outputs": [
    {
     "data": {
      "text/plain": [
       "4    15229\n",
       "3     2165\n",
       "5      472\n",
       "1      323\n",
       "Name: popularity, dtype: int64"
      ]
     },
     "execution_count": 7,
     "metadata": {},
     "output_type": "execute_result"
    }
   ],
   "source": [
    "train.popularity.value_counts()"
   ]
  },
  {
   "cell_type": "code",
   "execution_count": 8,
   "metadata": {},
   "outputs": [
    {
     "name": "stdout",
     "output_type": "stream",
     "text": [
      "0.40622963042251287\n",
      "0.4147608064892967\n",
      "0.4083242484803806\n",
      "0.41242385360564\n",
      "0.3933343406766553\n",
      "0.3833319521429497\n",
      "0.3776756966009344\n",
      "0.40536682578445876\n",
      "0.38166896790431204\n",
      "0.3952124277656655\n",
      "Mean OOF Score : 0.3978328749872806\n"
     ]
    }
   ],
   "source": [
    "X = train.drop('popularity',axis=1)\n",
    "Y = train['popularity']\n",
    "\n",
    "from sklearn.preprocessing import StandardScaler\n",
    "scaler = StandardScaler()\n",
    "X_ = scaler.fit_transform(X)\n",
    "X = pd.DataFrame(X_,columns=X.columns)\n",
    "\n",
    "folds = StratifiedKFold(n_splits=10,shuffle=True ,random_state=42)\n",
    "\n",
    "oof_preds = []\n",
    "oof_scores = []\n",
    "\n",
    "for i , (train_idx,test_idx) in enumerate(folds.split(X,Y)):\n",
    "  train_set = (X.iloc[train_idx],Y.iloc[train_idx])\n",
    "  test_set = (X.iloc[test_idx],Y.iloc[test_idx])\n",
    "\n",
    "  model = CatBoostClassifier(loss_function='MultiClass', \n",
    "                         eval_metric='TotalF1', \n",
    "                         depth=7,\n",
    "                         verbose=0\n",
    ")\n",
    "  model.fit(*train_set)\n",
    "  preds = model.predict_proba(test_set[0])\n",
    "  score = log_loss(test_set[1],preds)\n",
    "  \n",
    "  oof_pred_fold = model.predict_proba(scaler.transform(test))\n",
    "  oof_preds.append(oof_pred_fold)\n",
    "\n",
    "  print(score)\n",
    "  oof_scores.append(score)\n",
    "\n",
    "print(\"Mean OOF Score :\",np.mean(oof_scores))\n",
    "final_preds = np.mean(np.array(oof_preds),axis=0)"
   ]
  },
  {
   "cell_type": "code",
   "execution_count": null,
   "metadata": {},
   "outputs": [],
   "source": []
  },
  {
   "cell_type": "code",
   "execution_count": null,
   "metadata": {},
   "outputs": [],
   "source": []
  },
  {
   "cell_type": "code",
   "execution_count": null,
   "metadata": {},
   "outputs": [],
   "source": []
  },
  {
   "cell_type": "code",
   "execution_count": null,
   "metadata": {},
   "outputs": [],
   "source": []
  },
  {
   "cell_type": "code",
   "execution_count": null,
   "metadata": {},
   "outputs": [],
   "source": []
  },
  {
   "cell_type": "code",
   "execution_count": null,
   "metadata": {},
   "outputs": [],
   "source": []
  },
  {
   "cell_type": "code",
   "execution_count": null,
   "metadata": {},
   "outputs": [],
   "source": []
  },
  {
   "cell_type": "code",
   "execution_count": null,
   "metadata": {},
   "outputs": [],
   "source": []
  },
  {
   "cell_type": "code",
   "execution_count": 9,
   "metadata": {},
   "outputs": [
    {
     "data": {
      "text/html": [
       "<div>\n",
       "<style scoped>\n",
       "    .dataframe tbody tr th:only-of-type {\n",
       "        vertical-align: middle;\n",
       "    }\n",
       "\n",
       "    .dataframe tbody tr th {\n",
       "        vertical-align: top;\n",
       "    }\n",
       "\n",
       "    .dataframe thead th {\n",
       "        text-align: right;\n",
       "    }\n",
       "</style>\n",
       "<table border=\"1\" class=\"dataframe\">\n",
       "  <thead>\n",
       "    <tr style=\"text-align: right;\">\n",
       "      <th></th>\n",
       "      <th>0</th>\n",
       "      <th>1</th>\n",
       "      <th>2</th>\n",
       "      <th>3</th>\n",
       "    </tr>\n",
       "  </thead>\n",
       "  <tbody>\n",
       "    <tr>\n",
       "      <th>0</th>\n",
       "      <td>0.018397</td>\n",
       "      <td>0.714715</td>\n",
       "      <td>0.206470</td>\n",
       "      <td>0.060419</td>\n",
       "    </tr>\n",
       "    <tr>\n",
       "      <th>1</th>\n",
       "      <td>0.003133</td>\n",
       "      <td>0.017828</td>\n",
       "      <td>0.976881</td>\n",
       "      <td>0.002158</td>\n",
       "    </tr>\n",
       "    <tr>\n",
       "      <th>2</th>\n",
       "      <td>0.000508</td>\n",
       "      <td>0.034272</td>\n",
       "      <td>0.957876</td>\n",
       "      <td>0.007344</td>\n",
       "    </tr>\n",
       "    <tr>\n",
       "      <th>3</th>\n",
       "      <td>0.002176</td>\n",
       "      <td>0.024373</td>\n",
       "      <td>0.965493</td>\n",
       "      <td>0.007958</td>\n",
       "    </tr>\n",
       "    <tr>\n",
       "      <th>4</th>\n",
       "      <td>0.000220</td>\n",
       "      <td>0.003145</td>\n",
       "      <td>0.994387</td>\n",
       "      <td>0.002248</td>\n",
       "    </tr>\n",
       "  </tbody>\n",
       "</table>\n",
       "</div>"
      ],
      "text/plain": [
       "          0         1         2         3\n",
       "0  0.018397  0.714715  0.206470  0.060419\n",
       "1  0.003133  0.017828  0.976881  0.002158\n",
       "2  0.000508  0.034272  0.957876  0.007344\n",
       "3  0.002176  0.024373  0.965493  0.007958\n",
       "4  0.000220  0.003145  0.994387  0.002248"
      ]
     },
     "execution_count": 9,
     "metadata": {},
     "output_type": "execute_result"
    }
   ],
   "source": [
    "temp = pd.DataFrame(final_preds)\n",
    "temp.head()\n"
   ]
  },
  {
   "cell_type": "code",
   "execution_count": 14,
   "metadata": {},
   "outputs": [
    {
     "data": {
      "text/plain": [
       "RangeIndex(start=0, stop=4, step=1)"
      ]
     },
     "execution_count": 14,
     "metadata": {},
     "output_type": "execute_result"
    }
   ],
   "source": [
    "temp.columns"
   ]
  },
  {
   "cell_type": "code",
   "execution_count": 16,
   "metadata": {},
   "outputs": [],
   "source": [
    "sub = pd.DataFrame()\n",
    "sub['0'] = 0\n",
    "sub['1'] = temp[0]\n",
    "sub['2'] = temp[1]\n",
    "sub['3'] = temp[2]\n",
    "sub['4'] = temp[3]\n",
    "sub = sub.fillna(0)"
   ]
  },
  {
   "cell_type": "code",
   "execution_count": 18,
   "metadata": {},
   "outputs": [],
   "source": []
  },
  {
   "cell_type": "code",
   "execution_count": 19,
   "metadata": {},
   "outputs": [
    {
     "data": {
      "text/html": [
       "<div>\n",
       "<style scoped>\n",
       "    .dataframe tbody tr th:only-of-type {\n",
       "        vertical-align: middle;\n",
       "    }\n",
       "\n",
       "    .dataframe tbody tr th {\n",
       "        vertical-align: top;\n",
       "    }\n",
       "\n",
       "    .dataframe thead th {\n",
       "        text-align: right;\n",
       "    }\n",
       "</style>\n",
       "<table border=\"1\" class=\"dataframe\">\n",
       "  <thead>\n",
       "    <tr style=\"text-align: right;\">\n",
       "      <th></th>\n",
       "      <th>0</th>\n",
       "      <th>1</th>\n",
       "      <th>2</th>\n",
       "      <th>3</th>\n",
       "      <th>4</th>\n",
       "    </tr>\n",
       "  </thead>\n",
       "  <tbody>\n",
       "    <tr>\n",
       "      <th>0</th>\n",
       "      <td>0.0</td>\n",
       "      <td>0.018397</td>\n",
       "      <td>0.714715</td>\n",
       "      <td>0.206470</td>\n",
       "      <td>0.060419</td>\n",
       "    </tr>\n",
       "    <tr>\n",
       "      <th>1</th>\n",
       "      <td>0.0</td>\n",
       "      <td>0.003133</td>\n",
       "      <td>0.017828</td>\n",
       "      <td>0.976881</td>\n",
       "      <td>0.002158</td>\n",
       "    </tr>\n",
       "    <tr>\n",
       "      <th>2</th>\n",
       "      <td>0.0</td>\n",
       "      <td>0.000508</td>\n",
       "      <td>0.034272</td>\n",
       "      <td>0.957876</td>\n",
       "      <td>0.007344</td>\n",
       "    </tr>\n",
       "    <tr>\n",
       "      <th>3</th>\n",
       "      <td>0.0</td>\n",
       "      <td>0.002176</td>\n",
       "      <td>0.024373</td>\n",
       "      <td>0.965493</td>\n",
       "      <td>0.007958</td>\n",
       "    </tr>\n",
       "    <tr>\n",
       "      <th>4</th>\n",
       "      <td>0.0</td>\n",
       "      <td>0.000220</td>\n",
       "      <td>0.003145</td>\n",
       "      <td>0.994387</td>\n",
       "      <td>0.002248</td>\n",
       "    </tr>\n",
       "  </tbody>\n",
       "</table>\n",
       "</div>"
      ],
      "text/plain": [
       "     0         1         2         3         4\n",
       "0  0.0  0.018397  0.714715  0.206470  0.060419\n",
       "1  0.0  0.003133  0.017828  0.976881  0.002158\n",
       "2  0.0  0.000508  0.034272  0.957876  0.007344\n",
       "3  0.0  0.002176  0.024373  0.965493  0.007958\n",
       "4  0.0  0.000220  0.003145  0.994387  0.002248"
      ]
     },
     "execution_count": 19,
     "metadata": {},
     "output_type": "execute_result"
    }
   ],
   "source": [
    "sub.head()"
   ]
  },
  {
   "cell_type": "code",
   "execution_count": null,
   "metadata": {},
   "outputs": [],
   "source": []
  },
  {
   "cell_type": "code",
   "execution_count": null,
   "metadata": {},
   "outputs": [],
   "source": []
  },
  {
   "cell_type": "code",
   "execution_count": 20,
   "metadata": {},
   "outputs": [],
   "source": [
    "#there are duplicates between test and train, for those rows we can directly use train target values\n",
    "#storing the target values of common rows in test and train\n",
    "temp1=''\n",
    "for i in test.columns:\n",
    "    temp1=temp1+i+train[i].astype(str)\n",
    "train['ALL']=temp1\n",
    "temp2=''\n",
    "for i in test.columns:\n",
    "    temp2=temp2+i+test[i].astype(str)\n",
    "test['ALL']=temp2\n",
    "encoding=train.groupby('ALL')['popularity'].median()\n",
    "y_from_train=test['ALL'].map(encoding)\n",
    "temp = pd.DataFrame()\n",
    "temp['pop'] = y_from_train\n",
    "temp['pop'] = temp['pop'].fillna(-999)\n",
    "x = temp[temp['pop']!=-999]\n",
    "for i in x.index.values:\n",
    "#     print(x.iloc[i].values[0])\n",
    "    try:\n",
    "        if x.loc[i].values[0] ==0:\n",
    "            sub.loc[i] =[1.0,0.0,0.0,0.0,0.0]\n",
    "        elif x.loc[i].values[0] ==1:\n",
    "            sub.loc[i] =[0.0,1.0,0.0,0.0,0.0]\n",
    "        elif x.loc[i].values[0] ==3:\n",
    "            sub.loc[i] =[0.0,0.0,1.0,0.0,0.0]\n",
    "        elif x.loc[i].values[0] ==4:\n",
    "            sub.loc[i] =[0.0,0.0,0.0,1.0,0.0]\n",
    "        elif x.loc[i].values[0] ==5:\n",
    "            sub.loc[i] =[0.0,0.0,0.0,0.0,1.0]\n",
    "        else:\n",
    "            print('.',end='')\n",
    "    except:\n",
    "        print(i)\n",
    "        print(x.loc[i].values[0])"
   ]
  },
  {
   "cell_type": "code",
   "execution_count": 21,
   "metadata": {},
   "outputs": [],
   "source": []
  },
  {
   "cell_type": "code",
   "execution_count": 22,
   "metadata": {},
   "outputs": [],
   "source": []
  },
  {
   "cell_type": "code",
   "execution_count": 23,
   "metadata": {},
   "outputs": [
    {
     "data": {
      "text/html": [
       "<div>\n",
       "<style scoped>\n",
       "    .dataframe tbody tr th:only-of-type {\n",
       "        vertical-align: middle;\n",
       "    }\n",
       "\n",
       "    .dataframe tbody tr th {\n",
       "        vertical-align: top;\n",
       "    }\n",
       "\n",
       "    .dataframe thead th {\n",
       "        text-align: right;\n",
       "    }\n",
       "</style>\n",
       "<table border=\"1\" class=\"dataframe\">\n",
       "  <thead>\n",
       "    <tr style=\"text-align: right;\">\n",
       "      <th></th>\n",
       "      <th>0</th>\n",
       "      <th>1</th>\n",
       "      <th>2</th>\n",
       "      <th>3</th>\n",
       "      <th>4</th>\n",
       "    </tr>\n",
       "  </thead>\n",
       "  <tbody>\n",
       "    <tr>\n",
       "      <th>0</th>\n",
       "      <td>0.0</td>\n",
       "      <td>0.000000</td>\n",
       "      <td>1.000000</td>\n",
       "      <td>0.000000</td>\n",
       "      <td>0.000000</td>\n",
       "    </tr>\n",
       "    <tr>\n",
       "      <th>1</th>\n",
       "      <td>0.0</td>\n",
       "      <td>0.003133</td>\n",
       "      <td>0.017828</td>\n",
       "      <td>0.976881</td>\n",
       "      <td>0.002158</td>\n",
       "    </tr>\n",
       "    <tr>\n",
       "      <th>2</th>\n",
       "      <td>0.0</td>\n",
       "      <td>0.000508</td>\n",
       "      <td>0.034272</td>\n",
       "      <td>0.957876</td>\n",
       "      <td>0.007344</td>\n",
       "    </tr>\n",
       "    <tr>\n",
       "      <th>3</th>\n",
       "      <td>0.0</td>\n",
       "      <td>0.002176</td>\n",
       "      <td>0.024373</td>\n",
       "      <td>0.965493</td>\n",
       "      <td>0.007958</td>\n",
       "    </tr>\n",
       "    <tr>\n",
       "      <th>4</th>\n",
       "      <td>0.0</td>\n",
       "      <td>0.000000</td>\n",
       "      <td>0.000000</td>\n",
       "      <td>1.000000</td>\n",
       "      <td>0.000000</td>\n",
       "    </tr>\n",
       "  </tbody>\n",
       "</table>\n",
       "</div>"
      ],
      "text/plain": [
       "     0         1         2         3         4\n",
       "0  0.0  0.000000  1.000000  0.000000  0.000000\n",
       "1  0.0  0.003133  0.017828  0.976881  0.002158\n",
       "2  0.0  0.000508  0.034272  0.957876  0.007344\n",
       "3  0.0  0.002176  0.024373  0.965493  0.007958\n",
       "4  0.0  0.000000  0.000000  1.000000  0.000000"
      ]
     },
     "execution_count": 23,
     "metadata": {},
     "output_type": "execute_result"
    }
   ],
   "source": [
    "sub.head()"
   ]
  },
  {
   "cell_type": "code",
   "execution_count": 26,
   "metadata": {},
   "outputs": [
    {
     "data": {
      "text/plain": [
       "Int64Index([358, 2873, 5982, 5984, 6306, 7565, 7761, 8615, 8829, 11152, 12010], dtype='int64')"
      ]
     },
     "execution_count": 26,
     "metadata": {},
     "output_type": "execute_result"
    }
   ],
   "source": [
    "dummy = test[test['Store_Ratio']==0]\n",
    "dummy.index"
   ]
  },
  {
   "cell_type": "code",
   "execution_count": 27,
   "metadata": {},
   "outputs": [],
   "source": []
  },
  {
   "cell_type": "code",
   "execution_count": 28,
   "metadata": {},
   "outputs": [
    {
     "data": {
      "text/html": [
       "<div>\n",
       "<style scoped>\n",
       "    .dataframe tbody tr th:only-of-type {\n",
       "        vertical-align: middle;\n",
       "    }\n",
       "\n",
       "    .dataframe tbody tr th {\n",
       "        vertical-align: top;\n",
       "    }\n",
       "\n",
       "    .dataframe thead th {\n",
       "        text-align: right;\n",
       "    }\n",
       "</style>\n",
       "<table border=\"1\" class=\"dataframe\">\n",
       "  <thead>\n",
       "    <tr style=\"text-align: right;\">\n",
       "      <th></th>\n",
       "      <th>0</th>\n",
       "      <th>1</th>\n",
       "      <th>2</th>\n",
       "      <th>3</th>\n",
       "      <th>4</th>\n",
       "    </tr>\n",
       "  </thead>\n",
       "  <tbody>\n",
       "    <tr>\n",
       "      <th>0</th>\n",
       "      <td>0.0</td>\n",
       "      <td>0.000000</td>\n",
       "      <td>1.000000</td>\n",
       "      <td>0.000000</td>\n",
       "      <td>0.000000</td>\n",
       "    </tr>\n",
       "    <tr>\n",
       "      <th>1</th>\n",
       "      <td>0.0</td>\n",
       "      <td>0.003133</td>\n",
       "      <td>0.017828</td>\n",
       "      <td>0.976881</td>\n",
       "      <td>0.002158</td>\n",
       "    </tr>\n",
       "    <tr>\n",
       "      <th>2</th>\n",
       "      <td>0.0</td>\n",
       "      <td>0.000508</td>\n",
       "      <td>0.034272</td>\n",
       "      <td>0.957876</td>\n",
       "      <td>0.007344</td>\n",
       "    </tr>\n",
       "    <tr>\n",
       "      <th>3</th>\n",
       "      <td>0.0</td>\n",
       "      <td>0.002176</td>\n",
       "      <td>0.024373</td>\n",
       "      <td>0.965493</td>\n",
       "      <td>0.007958</td>\n",
       "    </tr>\n",
       "    <tr>\n",
       "      <th>4</th>\n",
       "      <td>0.0</td>\n",
       "      <td>0.000000</td>\n",
       "      <td>0.000000</td>\n",
       "      <td>1.000000</td>\n",
       "      <td>0.000000</td>\n",
       "    </tr>\n",
       "  </tbody>\n",
       "</table>\n",
       "</div>"
      ],
      "text/plain": [
       "     0         1         2         3         4\n",
       "0  0.0  0.000000  1.000000  0.000000  0.000000\n",
       "1  0.0  0.003133  0.017828  0.976881  0.002158\n",
       "2  0.0  0.000508  0.034272  0.957876  0.007344\n",
       "3  0.0  0.002176  0.024373  0.965493  0.007958\n",
       "4  0.0  0.000000  0.000000  1.000000  0.000000"
      ]
     },
     "execution_count": 28,
     "metadata": {},
     "output_type": "execute_result"
    }
   ],
   "source": []
  },
  {
   "cell_type": "code",
   "execution_count": 30,
   "metadata": {},
   "outputs": [],
   "source": [
    "sub.to_csv('submission_2501_v1.csv',index=False)"
   ]
  },
  {
   "cell_type": "code",
   "execution_count": null,
   "metadata": {},
   "outputs": [],
   "source": []
  },
  {
   "cell_type": "code",
   "execution_count": 38,
   "metadata": {},
   "outputs": [],
   "source": []
  },
  {
   "cell_type": "code",
   "execution_count": 33,
   "metadata": {},
   "outputs": [],
   "source": [
    "from sklearn.model_selection import train_test_split"
   ]
  },
  {
   "cell_type": "code",
   "execution_count": 36,
   "metadata": {},
   "outputs": [],
   "source": [
    "from sklearn.metrics import accuracy_score\n",
    "X_train, X_test, y_train, y_test = train_test_split(X, Y, stratify = train.popularity,test_size=0.1)"
   ]
  },
  {
   "cell_type": "code",
   "execution_count": 39,
   "metadata": {},
   "outputs": [
    {
     "name": "stderr",
     "output_type": "stream",
     "text": [
      "[I 2021-01-25 14:21:47,020] A new study created in memory with name: no-name-a2b30359-37f3-4a43-a9a0-fe78bc2262a9\n",
      "feature_fraction, val_score: -inf:   0%|          | 0/7 [00:00<?, ?it/s]"
     ]
    },
    {
     "name": "stdout",
     "output_type": "stream",
     "text": [
      "Training until validation scores don't improve for 100 rounds\n",
      "[100]\ttraining's auc: 1\tvalid_1's auc: 1\n",
      "Early stopping, best iteration is:\n",
      "[1]\ttraining's auc: 1\tvalid_1's auc: 1\n"
     ]
    },
    {
     "name": "stderr",
     "output_type": "stream",
     "text": [
      "feature_fraction, val_score: 1.000000:  14%|#4        | 1/7 [00:00<00:02,  2.07it/s][I 2021-01-25 14:21:47,509] Trial 0 finished with value: 1.0 and parameters: {'feature_fraction': 0.8999999999999999}. Best is trial 0 with value: 1.0.\n",
      "feature_fraction, val_score: 1.000000:  14%|#4        | 1/7 [00:00<00:02,  2.07it/s]"
     ]
    },
    {
     "name": "stdout",
     "output_type": "stream",
     "text": [
      "Training until validation scores don't improve for 100 rounds\n",
      "[100]\ttraining's auc: 1\tvalid_1's auc: 1\n",
      "Early stopping, best iteration is:\n",
      "[1]\ttraining's auc: 1\tvalid_1's auc: 1\n"
     ]
    },
    {
     "name": "stderr",
     "output_type": "stream",
     "text": [
      "feature_fraction, val_score: 1.000000:  29%|##8       | 2/7 [00:00<00:02,  2.44it/s][I 2021-01-25 14:21:47,747] Trial 1 finished with value: 1.0 and parameters: {'feature_fraction': 0.8}. Best is trial 0 with value: 1.0.\n",
      "feature_fraction, val_score: 1.000000:  29%|##8       | 2/7 [00:00<00:02,  2.44it/s]"
     ]
    },
    {
     "name": "stdout",
     "output_type": "stream",
     "text": [
      "Training until validation scores don't improve for 100 rounds\n",
      "[100]\ttraining's auc: 1\tvalid_1's auc: 1\n",
      "Early stopping, best iteration is:\n",
      "[1]\ttraining's auc: 1\tvalid_1's auc: 1\n"
     ]
    },
    {
     "name": "stderr",
     "output_type": "stream",
     "text": [
      "feature_fraction, val_score: 1.000000:  43%|####2     | 3/7 [00:01<00:01,  2.46it/s][I 2021-01-25 14:21:48,144] Trial 2 finished with value: 1.0 and parameters: {'feature_fraction': 1.0}. Best is trial 0 with value: 1.0.\n",
      "feature_fraction, val_score: 1.000000:  43%|####2     | 3/7 [00:01<00:01,  2.46it/s]"
     ]
    },
    {
     "name": "stdout",
     "output_type": "stream",
     "text": [
      "Training until validation scores don't improve for 100 rounds\n",
      "[100]\ttraining's auc: 1\tvalid_1's auc: 1\n",
      "Early stopping, best iteration is:\n",
      "[1]\ttraining's auc: 1\tvalid_1's auc: 1\n"
     ]
    },
    {
     "name": "stderr",
     "output_type": "stream",
     "text": [
      "feature_fraction, val_score: 1.000000:  57%|#####7    | 4/7 [00:01<00:01,  2.75it/s][I 2021-01-25 14:21:48,411] Trial 3 finished with value: 1.0 and parameters: {'feature_fraction': 0.5}. Best is trial 0 with value: 1.0.\n",
      "feature_fraction, val_score: 1.000000:  57%|#####7    | 4/7 [00:01<00:01,  2.75it/s]"
     ]
    },
    {
     "name": "stdout",
     "output_type": "stream",
     "text": [
      "Training until validation scores don't improve for 100 rounds\n",
      "[100]\ttraining's auc: 1\tvalid_1's auc: 1\n",
      "Early stopping, best iteration is:\n",
      "[1]\ttraining's auc: 1\tvalid_1's auc: 1\n"
     ]
    },
    {
     "name": "stderr",
     "output_type": "stream",
     "text": [
      "feature_fraction, val_score: 1.000000:  71%|#######1  | 5/7 [00:01<00:00,  3.03it/s][I 2021-01-25 14:21:48,662] Trial 4 finished with value: 1.0 and parameters: {'feature_fraction': 0.7}. Best is trial 0 with value: 1.0.\n",
      "feature_fraction, val_score: 1.000000:  71%|#######1  | 5/7 [00:01<00:00,  3.03it/s]"
     ]
    },
    {
     "name": "stdout",
     "output_type": "stream",
     "text": [
      "Training until validation scores don't improve for 100 rounds\n",
      "[100]\ttraining's auc: 1\tvalid_1's auc: 1\n",
      "Early stopping, best iteration is:\n",
      "[1]\ttraining's auc: 1\tvalid_1's auc: 1\n"
     ]
    },
    {
     "name": "stderr",
     "output_type": "stream",
     "text": [
      "feature_fraction, val_score: 1.000000:  86%|########5 | 6/7 [00:01<00:00,  3.27it/s][I 2021-01-25 14:21:48,912] Trial 5 finished with value: 1.0 and parameters: {'feature_fraction': 0.4}. Best is trial 0 with value: 1.0.\n",
      "feature_fraction, val_score: 1.000000:  86%|########5 | 6/7 [00:01<00:00,  3.27it/s]"
     ]
    },
    {
     "name": "stdout",
     "output_type": "stream",
     "text": [
      "Training until validation scores don't improve for 100 rounds\n",
      "[100]\ttraining's auc: 1\tvalid_1's auc: 1\n",
      "Early stopping, best iteration is:\n",
      "[1]\ttraining's auc: 1\tvalid_1's auc: 1\n"
     ]
    },
    {
     "name": "stderr",
     "output_type": "stream",
     "text": [
      "feature_fraction, val_score: 1.000000: 100%|##########| 7/7 [00:02<00:00,  3.30it/s][I 2021-01-25 14:21:49,210] Trial 6 finished with value: 1.0 and parameters: {'feature_fraction': 0.6}. Best is trial 0 with value: 1.0.\n",
      "feature_fraction, val_score: 1.000000: 100%|##########| 7/7 [00:02<00:00,  3.19it/s]\n",
      "num_leaves, val_score: 1.000000:   0%|          | 0/20 [00:00<?, ?it/s]"
     ]
    },
    {
     "name": "stdout",
     "output_type": "stream",
     "text": [
      "Training until validation scores don't improve for 100 rounds\n",
      "[100]\ttraining's auc: 1\tvalid_1's auc: 1\n",
      "Early stopping, best iteration is:\n",
      "[1]\ttraining's auc: 1\tvalid_1's auc: 1\n"
     ]
    },
    {
     "name": "stderr",
     "output_type": "stream",
     "text": [
      "num_leaves, val_score: 1.000000:   5%|5         | 1/20 [00:00<00:13,  1.41it/s][I 2021-01-25 14:21:49,932] Trial 7 finished with value: 1.0 and parameters: {'num_leaves': 153}. Best is trial 7 with value: 1.0.\n",
      "num_leaves, val_score: 1.000000:   5%|5         | 1/20 [00:00<00:13,  1.41it/s]"
     ]
    },
    {
     "name": "stdout",
     "output_type": "stream",
     "text": [
      "Training until validation scores don't improve for 100 rounds\n",
      "[100]\ttraining's auc: 1\tvalid_1's auc: 1\n",
      "Early stopping, best iteration is:\n",
      "[1]\ttraining's auc: 1\tvalid_1's auc: 1\n"
     ]
    },
    {
     "name": "stderr",
     "output_type": "stream",
     "text": [
      "num_leaves, val_score: 1.000000:  10%|#         | 2/20 [00:01<00:13,  1.34it/s][I 2021-01-25 14:21:50,760] Trial 8 finished with value: 1.0 and parameters: {'num_leaves': 229}. Best is trial 7 with value: 1.0.\n",
      "num_leaves, val_score: 1.000000:  10%|#         | 2/20 [00:01<00:13,  1.34it/s]"
     ]
    },
    {
     "name": "stdout",
     "output_type": "stream",
     "text": [
      "Training until validation scores don't improve for 100 rounds\n",
      "[100]\ttraining's auc: 1\tvalid_1's auc: 1\n",
      "Early stopping, best iteration is:\n",
      "[1]\ttraining's auc: 1\tvalid_1's auc: 1\n"
     ]
    },
    {
     "name": "stderr",
     "output_type": "stream",
     "text": [
      "num_leaves, val_score: 1.000000:  15%|#5        | 3/20 [00:01<00:10,  1.62it/s][I 2021-01-25 14:21:51,078] Trial 9 finished with value: 1.0 and parameters: {'num_leaves': 56}. Best is trial 7 with value: 1.0.\n",
      "num_leaves, val_score: 1.000000:  15%|#5        | 3/20 [00:01<00:10,  1.62it/s]"
     ]
    },
    {
     "name": "stdout",
     "output_type": "stream",
     "text": [
      "Training until validation scores don't improve for 100 rounds\n",
      "[100]\ttraining's auc: 1\tvalid_1's auc: 1\n",
      "Early stopping, best iteration is:\n",
      "[1]\ttraining's auc: 1\tvalid_1's auc: 1\n"
     ]
    },
    {
     "name": "stderr",
     "output_type": "stream",
     "text": [
      "num_leaves, val_score: 1.000000:  20%|##        | 4/20 [00:02<00:08,  1.99it/s][I 2021-01-25 14:21:51,315] Trial 10 finished with value: 1.0 and parameters: {'num_leaves': 14}. Best is trial 7 with value: 1.0.\n",
      "num_leaves, val_score: 1.000000:  20%|##        | 4/20 [00:02<00:08,  1.99it/s]"
     ]
    },
    {
     "name": "stdout",
     "output_type": "stream",
     "text": [
      "Training until validation scores don't improve for 100 rounds\n",
      "[100]\ttraining's auc: 1\tvalid_1's auc: 1\n",
      "Early stopping, best iteration is:\n",
      "[1]\ttraining's auc: 1\tvalid_1's auc: 1\n"
     ]
    },
    {
     "name": "stderr",
     "output_type": "stream",
     "text": [
      "num_leaves, val_score: 1.000000:  25%|##5       | 5/20 [00:02<00:09,  1.66it/s][I 2021-01-25 14:21:52,153] Trial 11 finished with value: 1.0 and parameters: {'num_leaves': 251}. Best is trial 7 with value: 1.0.\n",
      "num_leaves, val_score: 1.000000:  25%|##5       | 5/20 [00:02<00:09,  1.66it/s]"
     ]
    },
    {
     "name": "stdout",
     "output_type": "stream",
     "text": [
      "Training until validation scores don't improve for 100 rounds\n",
      "[100]\ttraining's auc: 1\tvalid_1's auc: 1\n",
      "Early stopping, best iteration is:\n",
      "[1]\ttraining's auc: 1\tvalid_1's auc: 1\n"
     ]
    },
    {
     "name": "stderr",
     "output_type": "stream",
     "text": [
      "num_leaves, val_score: 1.000000:  30%|###       | 6/20 [00:03<00:08,  1.60it/s][I 2021-01-25 14:21:52,823] Trial 12 finished with value: 1.0 and parameters: {'num_leaves': 127}. Best is trial 7 with value: 1.0.\n",
      "num_leaves, val_score: 1.000000:  30%|###       | 6/20 [00:03<00:08,  1.60it/s]"
     ]
    },
    {
     "name": "stdout",
     "output_type": "stream",
     "text": [
      "Training until validation scores don't improve for 100 rounds\n",
      "[100]\ttraining's auc: 1\tvalid_1's auc: 1\n",
      "Early stopping, best iteration is:\n",
      "[1]\ttraining's auc: 1\tvalid_1's auc: 1\n"
     ]
    },
    {
     "name": "stderr",
     "output_type": "stream",
     "text": [
      "num_leaves, val_score: 1.000000:  35%|###5      | 7/20 [00:04<00:09,  1.39it/s][I 2021-01-25 14:21:53,767] Trial 13 finished with value: 1.0 and parameters: {'num_leaves': 173}. Best is trial 7 with value: 1.0.\n",
      "num_leaves, val_score: 1.000000:  35%|###5      | 7/20 [00:04<00:09,  1.39it/s]"
     ]
    },
    {
     "name": "stdout",
     "output_type": "stream",
     "text": [
      "Training until validation scores don't improve for 100 rounds\n",
      "[100]\ttraining's auc: 1\tvalid_1's auc: 1\n",
      "Early stopping, best iteration is:\n",
      "[1]\ttraining's auc: 1\tvalid_1's auc: 1\n"
     ]
    },
    {
     "name": "stderr",
     "output_type": "stream",
     "text": [
      "num_leaves, val_score: 1.000000:  40%|####      | 8/20 [00:05<00:07,  1.54it/s][I 2021-01-25 14:21:54,251] Trial 14 finished with value: 1.0 and parameters: {'num_leaves': 82}. Best is trial 7 with value: 1.0.\n",
      "num_leaves, val_score: 1.000000:  40%|####      | 8/20 [00:05<00:07,  1.54it/s]"
     ]
    },
    {
     "name": "stdout",
     "output_type": "stream",
     "text": [
      "Training until validation scores don't improve for 100 rounds\n",
      "[100]\ttraining's auc: 1\tvalid_1's auc: 1\n",
      "Early stopping, best iteration is:\n",
      "[1]\ttraining's auc: 1\tvalid_1's auc: 1\n"
     ]
    },
    {
     "name": "stderr",
     "output_type": "stream",
     "text": [
      "num_leaves, val_score: 1.000000:  45%|####5     | 9/20 [00:05<00:05,  1.86it/s][I 2021-01-25 14:21:54,527] Trial 15 finished with value: 1.0 and parameters: {'num_leaves': 13}. Best is trial 7 with value: 1.0.\n",
      "num_leaves, val_score: 1.000000:  45%|####5     | 9/20 [00:05<00:05,  1.86it/s]"
     ]
    },
    {
     "name": "stdout",
     "output_type": "stream",
     "text": [
      "Training until validation scores don't improve for 100 rounds\n",
      "[100]\ttraining's auc: 1\tvalid_1's auc: 1\n",
      "Early stopping, best iteration is:\n",
      "[1]\ttraining's auc: 1\tvalid_1's auc: 1\n"
     ]
    },
    {
     "name": "stderr",
     "output_type": "stream",
     "text": [
      "num_leaves, val_score: 1.000000:  50%|#####     | 10/20 [00:06<00:06,  1.52it/s][I 2021-01-25 14:21:55,468] Trial 16 finished with value: 1.0 and parameters: {'num_leaves': 206}. Best is trial 7 with value: 1.0.\n",
      "num_leaves, val_score: 1.000000:  50%|#####     | 10/20 [00:06<00:06,  1.52it/s]"
     ]
    },
    {
     "name": "stdout",
     "output_type": "stream",
     "text": [
      "Training until validation scores don't improve for 100 rounds\n",
      "[100]\ttraining's auc: 1\tvalid_1's auc: 1\n",
      "Early stopping, best iteration is:\n",
      "[1]\ttraining's auc: 1\tvalid_1's auc: 1\n"
     ]
    },
    {
     "name": "stderr",
     "output_type": "stream",
     "text": [
      "num_leaves, val_score: 1.000000:  55%|#####5    | 11/20 [00:07<00:06,  1.39it/s][I 2021-01-25 14:21:56,329] Trial 17 finished with value: 1.0 and parameters: {'num_leaves': 86}. Best is trial 7 with value: 1.0.\n",
      "num_leaves, val_score: 1.000000:  55%|#####5    | 11/20 [00:07<00:06,  1.39it/s]"
     ]
    },
    {
     "name": "stdout",
     "output_type": "stream",
     "text": [
      "Training until validation scores don't improve for 100 rounds\n",
      "[100]\ttraining's auc: 1\tvalid_1's auc: 1\n",
      "Early stopping, best iteration is:\n",
      "[1]\ttraining's auc: 1\tvalid_1's auc: 1\n"
     ]
    },
    {
     "name": "stderr",
     "output_type": "stream",
     "text": [
      "num_leaves, val_score: 1.000000:  60%|######    | 12/20 [00:07<00:04,  1.62it/s][I 2021-01-25 14:21:56,714] Trial 18 finished with value: 1.0 and parameters: {'num_leaves': 4}. Best is trial 7 with value: 1.0.\n",
      "num_leaves, val_score: 1.000000:  60%|######    | 12/20 [00:07<00:04,  1.62it/s]"
     ]
    },
    {
     "name": "stdout",
     "output_type": "stream",
     "text": [
      "Training until validation scores don't improve for 100 rounds\n",
      "[100]\ttraining's auc: 1\tvalid_1's auc: 1\n",
      "Early stopping, best iteration is:\n",
      "[1]\ttraining's auc: 1\tvalid_1's auc: 1\n"
     ]
    },
    {
     "name": "stderr",
     "output_type": "stream",
     "text": [
      "num_leaves, val_score: 1.000000:  65%|######5   | 13/20 [00:08<00:06,  1.15it/s][I 2021-01-25 14:21:58,172] Trial 19 finished with value: 1.0 and parameters: {'num_leaves': 204}. Best is trial 7 with value: 1.0.\n",
      "num_leaves, val_score: 1.000000:  65%|######5   | 13/20 [00:08<00:06,  1.15it/s]"
     ]
    },
    {
     "name": "stdout",
     "output_type": "stream",
     "text": [
      "Training until validation scores don't improve for 100 rounds\n",
      "[100]\ttraining's auc: 1\tvalid_1's auc: 1\n",
      "Early stopping, best iteration is:\n",
      "[1]\ttraining's auc: 1\tvalid_1's auc: 1\n"
     ]
    },
    {
     "name": "stderr",
     "output_type": "stream",
     "text": [
      "num_leaves, val_score: 1.000000:  70%|#######   | 14/20 [00:09<00:04,  1.29it/s][I 2021-01-25 14:21:58,721] Trial 20 finished with value: 1.0 and parameters: {'num_leaves': 93}. Best is trial 7 with value: 1.0.\n",
      "num_leaves, val_score: 1.000000:  70%|#######   | 14/20 [00:09<00:04,  1.29it/s]"
     ]
    },
    {
     "name": "stdout",
     "output_type": "stream",
     "text": [
      "Training until validation scores don't improve for 100 rounds\n",
      "[100]\ttraining's auc: 1\tvalid_1's auc: 1\n",
      "Early stopping, best iteration is:\n",
      "[1]\ttraining's auc: 1\tvalid_1's auc: 1\n"
     ]
    },
    {
     "name": "stderr",
     "output_type": "stream",
     "text": [
      "num_leaves, val_score: 1.000000:  75%|#######5  | 15/20 [00:10<00:03,  1.43it/s][I 2021-01-25 14:21:59,242] Trial 21 finished with value: 1.0 and parameters: {'num_leaves': 44}. Best is trial 7 with value: 1.0.\n",
      "num_leaves, val_score: 1.000000:  75%|#######5  | 15/20 [00:10<00:03,  1.43it/s]"
     ]
    },
    {
     "name": "stdout",
     "output_type": "stream",
     "text": [
      "Training until validation scores don't improve for 100 rounds\n",
      "[100]\ttraining's auc: 1\tvalid_1's auc: 1\n",
      "Early stopping, best iteration is:\n",
      "[1]\ttraining's auc: 1\tvalid_1's auc: 1\n"
     ]
    },
    {
     "name": "stderr",
     "output_type": "stream",
     "text": [
      "num_leaves, val_score: 1.000000:  80%|########  | 16/20 [00:10<00:03,  1.30it/s][I 2021-01-25 14:22:00,175] Trial 22 finished with value: 1.0 and parameters: {'num_leaves': 199}. Best is trial 7 with value: 1.0.\n",
      "num_leaves, val_score: 1.000000:  80%|########  | 16/20 [00:10<00:03,  1.30it/s]"
     ]
    },
    {
     "name": "stdout",
     "output_type": "stream",
     "text": [
      "Training until validation scores don't improve for 100 rounds\n",
      "[100]\ttraining's auc: 1\tvalid_1's auc: 1\n",
      "Early stopping, best iteration is:\n",
      "[1]\ttraining's auc: 1\tvalid_1's auc: 1\n"
     ]
    },
    {
     "name": "stderr",
     "output_type": "stream",
     "text": [
      "num_leaves, val_score: 1.000000:  85%|########5 | 17/20 [00:12<00:02,  1.16it/s][I 2021-01-25 14:22:01,248] Trial 23 finished with value: 1.0 and parameters: {'num_leaves': 118}. Best is trial 7 with value: 1.0.\n",
      "num_leaves, val_score: 1.000000:  85%|########5 | 17/20 [00:12<00:02,  1.16it/s]"
     ]
    },
    {
     "name": "stdout",
     "output_type": "stream",
     "text": [
      "Training until validation scores don't improve for 100 rounds\n",
      "[100]\ttraining's auc: 1\tvalid_1's auc: 1\n",
      "Early stopping, best iteration is:\n",
      "[1]\ttraining's auc: 1\tvalid_1's auc: 1\n"
     ]
    },
    {
     "name": "stderr",
     "output_type": "stream",
     "text": [
      "num_leaves, val_score: 1.000000:  90%|######### | 18/20 [00:12<00:01,  1.42it/s][I 2021-01-25 14:22:01,586] Trial 24 finished with value: 1.0 and parameters: {'num_leaves': 54}. Best is trial 7 with value: 1.0.\n",
      "num_leaves, val_score: 1.000000:  90%|######### | 18/20 [00:12<00:01,  1.42it/s]"
     ]
    },
    {
     "name": "stdout",
     "output_type": "stream",
     "text": [
      "Training until validation scores don't improve for 100 rounds\n",
      "[100]\ttraining's auc: 1\tvalid_1's auc: 1\n",
      "Early stopping, best iteration is:\n",
      "[1]\ttraining's auc: 1\tvalid_1's auc: 1\n"
     ]
    },
    {
     "name": "stderr",
     "output_type": "stream",
     "text": [
      "num_leaves, val_score: 1.000000:  95%|#########5| 19/20 [00:13<00:00,  1.35it/s][I 2021-01-25 14:22:02,418] Trial 25 finished with value: 1.0 and parameters: {'num_leaves': 167}. Best is trial 7 with value: 1.0.\n",
      "num_leaves, val_score: 1.000000:  95%|#########5| 19/20 [00:13<00:00,  1.35it/s]"
     ]
    },
    {
     "name": "stdout",
     "output_type": "stream",
     "text": [
      "Training until validation scores don't improve for 100 rounds\n",
      "[100]\ttraining's auc: 1\tvalid_1's auc: 1\n",
      "Early stopping, best iteration is:\n",
      "[1]\ttraining's auc: 1\tvalid_1's auc: 1\n"
     ]
    },
    {
     "name": "stderr",
     "output_type": "stream",
     "text": [
      "num_leaves, val_score: 1.000000: 100%|##########| 20/20 [00:13<00:00,  1.42it/s][I 2021-01-25 14:22:03,034] Trial 26 finished with value: 1.0 and parameters: {'num_leaves': 126}. Best is trial 7 with value: 1.0.\n",
      "num_leaves, val_score: 1.000000: 100%|##########| 20/20 [00:13<00:00,  1.45it/s]\n",
      "bagging, val_score: 1.000000:   0%|          | 0/10 [00:00<?, ?it/s]"
     ]
    },
    {
     "name": "stdout",
     "output_type": "stream",
     "text": [
      "Training until validation scores don't improve for 100 rounds\n",
      "[100]\ttraining's auc: 1\tvalid_1's auc: 1\n",
      "Early stopping, best iteration is:\n",
      "[1]\ttraining's auc: 1\tvalid_1's auc: 1\n"
     ]
    },
    {
     "name": "stderr",
     "output_type": "stream",
     "text": [
      "bagging, val_score: 1.000000:  10%|#         | 1/10 [00:00<00:04,  1.93it/s][I 2021-01-25 14:22:03,567] Trial 27 finished with value: 1.0 and parameters: {'bagging_fraction': 0.6543763066194656, 'bagging_freq': 5}. Best is trial 27 with value: 1.0.\n",
      "bagging, val_score: 1.000000:  10%|#         | 1/10 [00:00<00:04,  1.93it/s]"
     ]
    },
    {
     "name": "stdout",
     "output_type": "stream",
     "text": [
      "Training until validation scores don't improve for 100 rounds\n",
      "[100]\ttraining's auc: 1\tvalid_1's auc: 1\n",
      "Early stopping, best iteration is:\n",
      "[1]\ttraining's auc: 1\tvalid_1's auc: 1\n"
     ]
    },
    {
     "name": "stderr",
     "output_type": "stream",
     "text": [
      "bagging, val_score: 1.000000:  20%|##        | 2/10 [00:01<00:04,  1.62it/s][I 2021-01-25 14:22:04,421] Trial 28 finished with value: 1.0 and parameters: {'bagging_fraction': 0.9943523652835349, 'bagging_freq': 1}. Best is trial 27 with value: 1.0.\n",
      "bagging, val_score: 1.000000:  20%|##        | 2/10 [00:01<00:04,  1.62it/s]"
     ]
    },
    {
     "name": "stdout",
     "output_type": "stream",
     "text": [
      "Training until validation scores don't improve for 100 rounds\n",
      "[100]\ttraining's auc: 1\tvalid_1's auc: 1\n",
      "Early stopping, best iteration is:\n",
      "[1]\ttraining's auc: 1\tvalid_1's auc: 1\n"
     ]
    },
    {
     "name": "stderr",
     "output_type": "stream",
     "text": [
      "bagging, val_score: 1.000000:  30%|###       | 3/10 [00:01<00:04,  1.74it/s][I 2021-01-25 14:22:04,892] Trial 29 finished with value: 1.0 and parameters: {'bagging_fraction': 0.4408677138062305, 'bagging_freq': 7}. Best is trial 27 with value: 1.0.\n",
      "bagging, val_score: 1.000000:  30%|###       | 3/10 [00:01<00:04,  1.74it/s]"
     ]
    },
    {
     "name": "stdout",
     "output_type": "stream",
     "text": [
      "Training until validation scores don't improve for 100 rounds\n",
      "[100]\ttraining's auc: 1\tvalid_1's auc: 1\n",
      "Early stopping, best iteration is:\n",
      "[1]\ttraining's auc: 1\tvalid_1's auc: 1\n"
     ]
    },
    {
     "name": "stderr",
     "output_type": "stream",
     "text": [
      "bagging, val_score: 1.000000:  40%|####      | 4/10 [00:02<00:03,  1.97it/s][I 2021-01-25 14:22:05,240] Trial 30 finished with value: 1.0 and parameters: {'bagging_fraction': 0.6850616642570406, 'bagging_freq': 5}. Best is trial 27 with value: 1.0.\n",
      "bagging, val_score: 1.000000:  40%|####      | 4/10 [00:02<00:03,  1.97it/s]"
     ]
    },
    {
     "name": "stdout",
     "output_type": "stream",
     "text": [
      "Training until validation scores don't improve for 100 rounds\n",
      "[100]\ttraining's auc: 1\tvalid_1's auc: 1\n",
      "Early stopping, best iteration is:\n",
      "[1]\ttraining's auc: 1\tvalid_1's auc: 1\n"
     ]
    },
    {
     "name": "stderr",
     "output_type": "stream",
     "text": [
      "bagging, val_score: 1.000000:  50%|#####     | 5/10 [00:02<00:02,  1.86it/s][I 2021-01-25 14:22:05,853] Trial 31 finished with value: 1.0 and parameters: {'bagging_fraction': 0.9613437886140912, 'bagging_freq': 1}. Best is trial 27 with value: 1.0.\n",
      "bagging, val_score: 1.000000:  50%|#####     | 5/10 [00:02<00:02,  1.86it/s]"
     ]
    },
    {
     "name": "stdout",
     "output_type": "stream",
     "text": [
      "Training until validation scores don't improve for 100 rounds\n",
      "[100]\ttraining's auc: 1\tvalid_1's auc: 1\n",
      "Early stopping, best iteration is:\n",
      "[1]\ttraining's auc: 1\tvalid_1's auc: 1\n"
     ]
    },
    {
     "name": "stderr",
     "output_type": "stream",
     "text": [
      "bagging, val_score: 1.000000:  60%|######    | 6/10 [00:03<00:01,  2.03it/s][I 2021-01-25 14:22:06,235] Trial 32 finished with value: 1.0 and parameters: {'bagging_fraction': 0.4019355103344707, 'bagging_freq': 7}. Best is trial 27 with value: 1.0.\n",
      "bagging, val_score: 1.000000:  60%|######    | 6/10 [00:03<00:01,  2.03it/s]"
     ]
    },
    {
     "name": "stdout",
     "output_type": "stream",
     "text": [
      "Training until validation scores don't improve for 100 rounds\n",
      "[100]\ttraining's auc: 1\tvalid_1's auc: 1\n",
      "Early stopping, best iteration is:\n",
      "[1]\ttraining's auc: 1\tvalid_1's auc: 1\n"
     ]
    },
    {
     "name": "stderr",
     "output_type": "stream",
     "text": [
      "bagging, val_score: 1.000000:  70%|#######   | 7/10 [00:03<00:01,  2.33it/s][I 2021-01-25 14:22:06,521] Trial 33 finished with value: 1.0 and parameters: {'bagging_fraction': 0.6451392149736261, 'bagging_freq': 3}. Best is trial 27 with value: 1.0.\n",
      "bagging, val_score: 1.000000:  70%|#######   | 7/10 [00:03<00:01,  2.33it/s]"
     ]
    },
    {
     "name": "stdout",
     "output_type": "stream",
     "text": [
      "Training until validation scores don't improve for 100 rounds\n",
      "[100]\ttraining's auc: 1\tvalid_1's auc: 1\n",
      "Early stopping, best iteration is:\n",
      "[1]\ttraining's auc: 1\tvalid_1's auc: 1\n"
     ]
    },
    {
     "name": "stderr",
     "output_type": "stream",
     "text": [
      "bagging, val_score: 1.000000:  80%|########  | 8/10 [00:04<00:01,  1.65it/s][I 2021-01-25 14:22:07,543] Trial 34 finished with value: 1.0 and parameters: {'bagging_fraction': 0.9790110164878381, 'bagging_freq': 7}. Best is trial 27 with value: 1.0.\n",
      "bagging, val_score: 1.000000:  80%|########  | 8/10 [00:04<00:01,  1.65it/s]"
     ]
    },
    {
     "name": "stdout",
     "output_type": "stream",
     "text": [
      "Training until validation scores don't improve for 100 rounds\n",
      "[100]\ttraining's auc: 1\tvalid_1's auc: 1\n",
      "Early stopping, best iteration is:\n",
      "[1]\ttraining's auc: 1\tvalid_1's auc: 1\n"
     ]
    },
    {
     "name": "stderr",
     "output_type": "stream",
     "text": [
      "bagging, val_score: 1.000000:  90%|######### | 9/10 [00:05<00:00,  1.73it/s][I 2021-01-25 14:22:08,055] Trial 35 finished with value: 1.0 and parameters: {'bagging_fraction': 0.8290569348447723, 'bagging_freq': 3}. Best is trial 27 with value: 1.0.\n",
      "bagging, val_score: 1.000000:  90%|######### | 9/10 [00:05<00:00,  1.73it/s]"
     ]
    },
    {
     "name": "stdout",
     "output_type": "stream",
     "text": [
      "Training until validation scores don't improve for 100 rounds\n",
      "[100]\ttraining's auc: 1\tvalid_1's auc: 1\n",
      "Early stopping, best iteration is:\n",
      "[1]\ttraining's auc: 1\tvalid_1's auc: 1\n"
     ]
    },
    {
     "name": "stderr",
     "output_type": "stream",
     "text": [
      "bagging, val_score: 1.000000: 100%|##########| 10/10 [00:05<00:00,  1.93it/s][I 2021-01-25 14:22:08,430] Trial 36 finished with value: 1.0 and parameters: {'bagging_fraction': 0.5424080618543791, 'bagging_freq': 2}. Best is trial 27 with value: 1.0.\n",
      "bagging, val_score: 1.000000: 100%|##########| 10/10 [00:05<00:00,  1.86it/s]\n",
      "feature_fraction_stage2, val_score: 1.000000:   0%|          | 0/6 [00:00<?, ?it/s]"
     ]
    },
    {
     "name": "stdout",
     "output_type": "stream",
     "text": [
      "Training until validation scores don't improve for 100 rounds\n",
      "[100]\ttraining's auc: 1\tvalid_1's auc: 1\n",
      "Early stopping, best iteration is:\n",
      "[1]\ttraining's auc: 1\tvalid_1's auc: 1\n"
     ]
    },
    {
     "name": "stderr",
     "output_type": "stream",
     "text": [
      "feature_fraction_stage2, val_score: 1.000000:  17%|#6        | 1/6 [00:00<00:01,  3.12it/s][I 2021-01-25 14:22:08,763] Trial 37 finished with value: 1.0 and parameters: {'feature_fraction': 0.8839999999999999}. Best is trial 37 with value: 1.0.\n",
      "feature_fraction_stage2, val_score: 1.000000:  17%|#6        | 1/6 [00:00<00:01,  3.12it/s]"
     ]
    },
    {
     "name": "stdout",
     "output_type": "stream",
     "text": [
      "Training until validation scores don't improve for 100 rounds\n",
      "[100]\ttraining's auc: 1\tvalid_1's auc: 1\n",
      "Early stopping, best iteration is:\n",
      "[1]\ttraining's auc: 1\tvalid_1's auc: 1\n"
     ]
    },
    {
     "name": "stderr",
     "output_type": "stream",
     "text": [
      "feature_fraction_stage2, val_score: 1.000000:  33%|###3      | 2/6 [00:00<00:01,  2.51it/s][I 2021-01-25 14:22:09,344] Trial 38 finished with value: 1.0 and parameters: {'feature_fraction': 0.9799999999999999}. Best is trial 37 with value: 1.0.\n",
      "feature_fraction_stage2, val_score: 1.000000:  33%|###3      | 2/6 [00:00<00:01,  2.51it/s]"
     ]
    },
    {
     "name": "stdout",
     "output_type": "stream",
     "text": [
      "Training until validation scores don't improve for 100 rounds\n",
      "[100]\ttraining's auc: 1\tvalid_1's auc: 1\n",
      "Early stopping, best iteration is:\n",
      "[1]\ttraining's auc: 1\tvalid_1's auc: 1\n"
     ]
    },
    {
     "name": "stderr",
     "output_type": "stream",
     "text": [
      "feature_fraction_stage2, val_score: 1.000000:  50%|#####     | 3/6 [00:01<00:01,  2.65it/s][I 2021-01-25 14:22:09,673] Trial 39 finished with value: 1.0 and parameters: {'feature_fraction': 0.9159999999999999}. Best is trial 37 with value: 1.0.\n",
      "feature_fraction_stage2, val_score: 1.000000:  50%|#####     | 3/6 [00:01<00:01,  2.65it/s]"
     ]
    },
    {
     "name": "stdout",
     "output_type": "stream",
     "text": [
      "Training until validation scores don't improve for 100 rounds\n",
      "[100]\ttraining's auc: 1\tvalid_1's auc: 1\n",
      "Early stopping, best iteration is:\n",
      "[1]\ttraining's auc: 1\tvalid_1's auc: 1\n"
     ]
    },
    {
     "name": "stderr",
     "output_type": "stream",
     "text": [
      "feature_fraction_stage2, val_score: 1.000000:  67%|######6   | 4/6 [00:01<00:00,  2.62it/s][I 2021-01-25 14:22:10,063] Trial 40 finished with value: 1.0 and parameters: {'feature_fraction': 0.82}. Best is trial 37 with value: 1.0.\n",
      "feature_fraction_stage2, val_score: 1.000000:  67%|######6   | 4/6 [00:01<00:00,  2.62it/s]"
     ]
    },
    {
     "name": "stdout",
     "output_type": "stream",
     "text": [
      "Training until validation scores don't improve for 100 rounds\n",
      "[100]\ttraining's auc: 1\tvalid_1's auc: 1\n",
      "Early stopping, best iteration is:\n",
      "[1]\ttraining's auc: 1\tvalid_1's auc: 1\n"
     ]
    },
    {
     "name": "stderr",
     "output_type": "stream",
     "text": [
      "feature_fraction_stage2, val_score: 1.000000:  83%|########3 | 5/6 [00:01<00:00,  2.78it/s][I 2021-01-25 14:22:10,370] Trial 41 finished with value: 1.0 and parameters: {'feature_fraction': 0.948}. Best is trial 37 with value: 1.0.\n",
      "feature_fraction_stage2, val_score: 1.000000:  83%|########3 | 5/6 [00:01<00:00,  2.78it/s]"
     ]
    },
    {
     "name": "stdout",
     "output_type": "stream",
     "text": [
      "Training until validation scores don't improve for 100 rounds\n",
      "[100]\ttraining's auc: 1\tvalid_1's auc: 1\n",
      "Early stopping, best iteration is:\n",
      "[1]\ttraining's auc: 1\tvalid_1's auc: 1\n"
     ]
    },
    {
     "name": "stderr",
     "output_type": "stream",
     "text": [
      "feature_fraction_stage2, val_score: 1.000000: 100%|##########| 6/6 [00:02<00:00,  2.85it/s][I 2021-01-25 14:22:10,701] Trial 42 finished with value: 1.0 and parameters: {'feature_fraction': 0.852}. Best is trial 37 with value: 1.0.\n",
      "feature_fraction_stage2, val_score: 1.000000: 100%|##########| 6/6 [00:02<00:00,  2.65it/s]\n",
      "regularization_factors, val_score: 1.000000:   0%|          | 0/20 [00:00<?, ?it/s]"
     ]
    },
    {
     "name": "stdout",
     "output_type": "stream",
     "text": [
      "Training until validation scores don't improve for 100 rounds\n",
      "[100]\ttraining's auc: 1\tvalid_1's auc: 1\n",
      "Early stopping, best iteration is:\n",
      "[1]\ttraining's auc: 1\tvalid_1's auc: 1\n"
     ]
    },
    {
     "name": "stderr",
     "output_type": "stream",
     "text": [
      "regularization_factors, val_score: 1.000000:   5%|5         | 1/20 [00:00<00:05,  3.26it/s][I 2021-01-25 14:22:11,021] Trial 43 finished with value: 1.0 and parameters: {'lambda_l1': 6.052437983825893e-05, 'lambda_l2': 0.12791819452538555}. Best is trial 43 with value: 1.0.\n",
      "regularization_factors, val_score: 1.000000:   5%|5         | 1/20 [00:00<00:05,  3.26it/s]"
     ]
    },
    {
     "name": "stdout",
     "output_type": "stream",
     "text": [
      "Training until validation scores don't improve for 100 rounds\n",
      "[100]\ttraining's auc: 1\tvalid_1's auc: 1\n",
      "Early stopping, best iteration is:\n",
      "[1]\ttraining's auc: 1\tvalid_1's auc: 1\n"
     ]
    },
    {
     "name": "stderr",
     "output_type": "stream",
     "text": [
      "regularization_factors, val_score: 1.000000:  10%|#         | 2/20 [00:00<00:05,  3.16it/s][I 2021-01-25 14:22:11,360] Trial 44 finished with value: 1.0 and parameters: {'lambda_l1': 6.317602728056135, 'lambda_l2': 5.289340684801772e-08}. Best is trial 43 with value: 1.0.\n",
      "regularization_factors, val_score: 1.000000:  10%|#         | 2/20 [00:00<00:05,  3.16it/s]"
     ]
    },
    {
     "name": "stdout",
     "output_type": "stream",
     "text": [
      "Training until validation scores don't improve for 100 rounds\n",
      "[100]\ttraining's auc: 1\tvalid_1's auc: 1\n",
      "Early stopping, best iteration is:\n",
      "[1]\ttraining's auc: 1\tvalid_1's auc: 1\n"
     ]
    },
    {
     "name": "stderr",
     "output_type": "stream",
     "text": [
      "regularization_factors, val_score: 1.000000:  15%|#5        | 3/20 [00:01<00:08,  2.04it/s][I 2021-01-25 14:22:12,257] Trial 45 finished with value: 1.0 and parameters: {'lambda_l1': 1.567997078171974e-08, 'lambda_l2': 2.0041007266839733e-08}. Best is trial 43 with value: 1.0.\n",
      "regularization_factors, val_score: 1.000000:  15%|#5        | 3/20 [00:01<00:08,  2.04it/s]"
     ]
    },
    {
     "name": "stdout",
     "output_type": "stream",
     "text": [
      "Training until validation scores don't improve for 100 rounds\n",
      "[100]\ttraining's auc: 1\tvalid_1's auc: 1\n",
      "Early stopping, best iteration is:\n",
      "[1]\ttraining's auc: 1\tvalid_1's auc: 1\n"
     ]
    },
    {
     "name": "stderr",
     "output_type": "stream",
     "text": [
      "regularization_factors, val_score: 1.000000:  20%|##        | 4/20 [00:01<00:07,  2.17it/s][I 2021-01-25 14:22:12,645] Trial 46 finished with value: 1.0 and parameters: {'lambda_l1': 8.285200009753096, 'lambda_l2': 7.5664770812457585}. Best is trial 43 with value: 1.0.\n",
      "regularization_factors, val_score: 1.000000:  20%|##        | 4/20 [00:01<00:07,  2.17it/s]"
     ]
    },
    {
     "name": "stdout",
     "output_type": "stream",
     "text": [
      "Training until validation scores don't improve for 100 rounds\n",
      "[100]\ttraining's auc: 1\tvalid_1's auc: 1\n",
      "Early stopping, best iteration is:\n",
      "[1]\ttraining's auc: 1\tvalid_1's auc: 1\n"
     ]
    },
    {
     "name": "stderr",
     "output_type": "stream",
     "text": [
      "regularization_factors, val_score: 1.000000:  25%|##5       | 5/20 [00:02<00:06,  2.45it/s][I 2021-01-25 14:22:12,930] Trial 47 finished with value: 1.0 and parameters: {'lambda_l1': 4.779042369953414e-08, 'lambda_l2': 6.022927985961387e-05}. Best is trial 43 with value: 1.0.\n",
      "regularization_factors, val_score: 1.000000:  25%|##5       | 5/20 [00:02<00:06,  2.45it/s]"
     ]
    },
    {
     "name": "stdout",
     "output_type": "stream",
     "text": [
      "Training until validation scores don't improve for 100 rounds\n",
      "[100]\ttraining's auc: 1\tvalid_1's auc: 1\n",
      "Early stopping, best iteration is:\n",
      "[1]\ttraining's auc: 1\tvalid_1's auc: 1\n"
     ]
    },
    {
     "name": "stderr",
     "output_type": "stream",
     "text": [
      "regularization_factors, val_score: 1.000000:  30%|###       | 6/20 [00:02<00:06,  2.17it/s][I 2021-01-25 14:22:13,519] Trial 48 finished with value: 1.0 and parameters: {'lambda_l1': 0.004762265850214529, 'lambda_l2': 7.458430951661099e-05}. Best is trial 43 with value: 1.0.\n",
      "regularization_factors, val_score: 1.000000:  30%|###       | 6/20 [00:02<00:06,  2.17it/s]"
     ]
    },
    {
     "name": "stdout",
     "output_type": "stream",
     "text": [
      "Training until validation scores don't improve for 100 rounds\n",
      "[100]\ttraining's auc: 1\tvalid_1's auc: 1\n",
      "Early stopping, best iteration is:\n",
      "[1]\ttraining's auc: 1\tvalid_1's auc: 1\n"
     ]
    },
    {
     "name": "stderr",
     "output_type": "stream",
     "text": [
      "regularization_factors, val_score: 1.000000:  35%|###5      | 7/20 [00:03<00:05,  2.27it/s][I 2021-01-25 14:22:13,912] Trial 49 finished with value: 1.0 and parameters: {'lambda_l1': 2.542928270205391e-05, 'lambda_l2': 0.028059747639931902}. Best is trial 43 with value: 1.0.\n",
      "regularization_factors, val_score: 1.000000:  35%|###5      | 7/20 [00:03<00:05,  2.27it/s]"
     ]
    },
    {
     "name": "stdout",
     "output_type": "stream",
     "text": [
      "Training until validation scores don't improve for 100 rounds\n",
      "[100]\ttraining's auc: 1\tvalid_1's auc: 1\n",
      "Early stopping, best iteration is:\n",
      "[1]\ttraining's auc: 1\tvalid_1's auc: 1\n"
     ]
    },
    {
     "name": "stderr",
     "output_type": "stream",
     "text": [
      "regularization_factors, val_score: 1.000000:  40%|####      | 8/20 [00:03<00:06,  1.96it/s][I 2021-01-25 14:22:14,579] Trial 50 finished with value: 1.0 and parameters: {'lambda_l1': 0.0240805195834506, 'lambda_l2': 6.823504306765437e-06}. Best is trial 43 with value: 1.0.\n",
      "regularization_factors, val_score: 1.000000:  40%|####      | 8/20 [00:03<00:06,  1.96it/s]"
     ]
    },
    {
     "name": "stdout",
     "output_type": "stream",
     "text": [
      "Training until validation scores don't improve for 100 rounds\n",
      "[100]\ttraining's auc: 1\tvalid_1's auc: 1\n",
      "Early stopping, best iteration is:\n",
      "[1]\ttraining's auc: 1\tvalid_1's auc: 1\n"
     ]
    },
    {
     "name": "stderr",
     "output_type": "stream",
     "text": [
      "regularization_factors, val_score: 1.000000:  45%|####5     | 9/20 [00:04<00:04,  2.27it/s][I 2021-01-25 14:22:14,863] Trial 51 finished with value: 1.0 and parameters: {'lambda_l1': 2.8212575985918186e-07, 'lambda_l2': 6.351838041408866}. Best is trial 43 with value: 1.0.\n",
      "regularization_factors, val_score: 1.000000:  45%|####5     | 9/20 [00:04<00:04,  2.27it/s]"
     ]
    },
    {
     "name": "stdout",
     "output_type": "stream",
     "text": [
      "Training until validation scores don't improve for 100 rounds\n",
      "[100]\ttraining's auc: 1\tvalid_1's auc: 1\n",
      "Early stopping, best iteration is:\n",
      "[1]\ttraining's auc: 1\tvalid_1's auc: 1\n"
     ]
    },
    {
     "name": "stderr",
     "output_type": "stream",
     "text": [
      "regularization_factors, val_score: 1.000000:  50%|#####     | 10/20 [00:04<00:04,  2.08it/s][I 2021-01-25 14:22:15,437] Trial 52 finished with value: 1.0 and parameters: {'lambda_l1': 0.11277783845851616, 'lambda_l2': 1.514939533152889e-06}. Best is trial 43 with value: 1.0.\n",
      "regularization_factors, val_score: 1.000000:  50%|#####     | 10/20 [00:04<00:04,  2.08it/s]"
     ]
    },
    {
     "name": "stdout",
     "output_type": "stream",
     "text": [
      "Training until validation scores don't improve for 100 rounds\n",
      "[100]\ttraining's auc: 1\tvalid_1's auc: 1\n",
      "Early stopping, best iteration is:\n",
      "[1]\ttraining's auc: 1\tvalid_1's auc: 1\n"
     ]
    },
    {
     "name": "stderr",
     "output_type": "stream",
     "text": [
      "regularization_factors, val_score: 1.000000:  55%|#####5    | 11/20 [00:05<00:03,  2.28it/s][I 2021-01-25 14:22:15,791] Trial 53 finished with value: 1.0 and parameters: {'lambda_l1': 2.0038340115656368e-06, 'lambda_l2': 0.007656697794147875}. Best is trial 43 with value: 1.0.\n",
      "regularization_factors, val_score: 1.000000:  55%|#####5    | 11/20 [00:05<00:03,  2.28it/s]"
     ]
    },
    {
     "name": "stdout",
     "output_type": "stream",
     "text": [
      "Training until validation scores don't improve for 100 rounds\n",
      "[100]\ttraining's auc: 1\tvalid_1's auc: 1\n",
      "Early stopping, best iteration is:\n",
      "[1]\ttraining's auc: 1\tvalid_1's auc: 1\n"
     ]
    },
    {
     "name": "stderr",
     "output_type": "stream",
     "text": [
      "regularization_factors, val_score: 1.000000:  60%|######    | 12/20 [00:05<00:03,  2.45it/s][I 2021-01-25 14:22:16,119] Trial 54 finished with value: 1.0 and parameters: {'lambda_l1': 0.43854533896726833, 'lambda_l2': 3.7092210211935906e-07}. Best is trial 43 with value: 1.0.\n",
      "regularization_factors, val_score: 1.000000:  60%|######    | 12/20 [00:05<00:03,  2.45it/s]"
     ]
    },
    {
     "name": "stdout",
     "output_type": "stream",
     "text": [
      "Training until validation scores don't improve for 100 rounds\n",
      "[100]\ttraining's auc: 1\tvalid_1's auc: 1\n",
      "Early stopping, best iteration is:\n",
      "[1]\ttraining's auc: 1\tvalid_1's auc: 1\n"
     ]
    },
    {
     "name": "stderr",
     "output_type": "stream",
     "text": [
      "regularization_factors, val_score: 1.000000:  65%|######5   | 13/20 [00:05<00:02,  2.44it/s][I 2021-01-25 14:22:16,526] Trial 55 finished with value: 1.0 and parameters: {'lambda_l1': 0.0003073322146515072, 'lambda_l2': 0.0018345761509565549}. Best is trial 43 with value: 1.0.\n",
      "regularization_factors, val_score: 1.000000:  65%|######5   | 13/20 [00:05<00:02,  2.44it/s]"
     ]
    },
    {
     "name": "stdout",
     "output_type": "stream",
     "text": [
      "Training until validation scores don't improve for 100 rounds\n",
      "[100]\ttraining's auc: 1\tvalid_1's auc: 1\n",
      "Early stopping, best iteration is:\n",
      "[1]\ttraining's auc: 1\tvalid_1's auc: 1\n"
     ]
    },
    {
     "name": "stderr",
     "output_type": "stream",
     "text": [
      "regularization_factors, val_score: 1.000000:  70%|#######   | 14/20 [00:06<00:02,  2.47it/s][I 2021-01-25 14:22:16,919] Trial 56 finished with value: 1.0 and parameters: {'lambda_l1': 0.002976826537348461, 'lambda_l2': 0.5378898254914207}. Best is trial 43 with value: 1.0.\n",
      "regularization_factors, val_score: 1.000000:  70%|#######   | 14/20 [00:06<00:02,  2.47it/s]"
     ]
    },
    {
     "name": "stdout",
     "output_type": "stream",
     "text": [
      "Training until validation scores don't improve for 100 rounds\n",
      "[100]\ttraining's auc: 1\tvalid_1's auc: 1\n",
      "Early stopping, best iteration is:\n",
      "[1]\ttraining's auc: 1\tvalid_1's auc: 1\n"
     ]
    },
    {
     "name": "stderr",
     "output_type": "stream",
     "text": [
      "regularization_factors, val_score: 1.000000:  75%|#######5  | 15/20 [00:06<00:02,  2.38it/s][I 2021-01-25 14:22:17,379] Trial 57 finished with value: 1.0 and parameters: {'lambda_l1': 7.105250345286915e-06, 'lambda_l2': 0.0011114118989008876}. Best is trial 43 with value: 1.0.\n",
      "regularization_factors, val_score: 1.000000:  75%|#######5  | 15/20 [00:06<00:02,  2.38it/s]"
     ]
    },
    {
     "name": "stdout",
     "output_type": "stream",
     "text": [
      "Training until validation scores don't improve for 100 rounds\n",
      "[100]\ttraining's auc: 1\tvalid_1's auc: 1\n",
      "Early stopping, best iteration is:\n",
      "[1]\ttraining's auc: 1\tvalid_1's auc: 1\n"
     ]
    },
    {
     "name": "stderr",
     "output_type": "stream",
     "text": [
      "regularization_factors, val_score: 1.000000:  80%|########  | 16/20 [00:06<00:01,  2.59it/s][I 2021-01-25 14:22:17,685] Trial 58 finished with value: 1.0 and parameters: {'lambda_l1': 0.7237302939147238, 'lambda_l2': 1.3743888480201227}. Best is trial 43 with value: 1.0.\n",
      "regularization_factors, val_score: 1.000000:  80%|########  | 16/20 [00:06<00:01,  2.59it/s]"
     ]
    },
    {
     "name": "stdout",
     "output_type": "stream",
     "text": [
      "Training until validation scores don't improve for 100 rounds\n",
      "[100]\ttraining's auc: 1\tvalid_1's auc: 1\n",
      "Early stopping, best iteration is:\n",
      "[1]\ttraining's auc: 1\tvalid_1's auc: 1\n"
     ]
    },
    {
     "name": "stderr",
     "output_type": "stream",
     "text": [
      "regularization_factors, val_score: 1.000000:  85%|########5 | 17/20 [00:07<00:01,  2.48it/s][I 2021-01-25 14:22:18,125] Trial 59 finished with value: 1.0 and parameters: {'lambda_l1': 2.29687399219037e-07, 'lambda_l2': 1.2266198397636144e-08}. Best is trial 43 with value: 1.0.\n",
      "regularization_factors, val_score: 1.000000:  85%|########5 | 17/20 [00:07<00:01,  2.48it/s]"
     ]
    },
    {
     "name": "stdout",
     "output_type": "stream",
     "text": [
      "Training until validation scores don't improve for 100 rounds\n",
      "[100]\ttraining's auc: 1\tvalid_1's auc: 1\n",
      "Early stopping, best iteration is:\n",
      "[1]\ttraining's auc: 1\tvalid_1's auc: 1\n"
     ]
    },
    {
     "name": "stderr",
     "output_type": "stream",
     "text": [
      "regularization_factors, val_score: 1.000000:  90%|######### | 18/20 [00:07<00:00,  2.21it/s][I 2021-01-25 14:22:18,693] Trial 60 finished with value: 1.0 and parameters: {'lambda_l1': 0.000758824462503734, 'lambda_l2': 1.1786728727099931e-05}. Best is trial 43 with value: 1.0.\n",
      "regularization_factors, val_score: 1.000000:  90%|######### | 18/20 [00:07<00:00,  2.21it/s]"
     ]
    },
    {
     "name": "stdout",
     "output_type": "stream",
     "text": [
      "Training until validation scores don't improve for 100 rounds\n",
      "[100]\ttraining's auc: 1\tvalid_1's auc: 1\n",
      "Early stopping, best iteration is:\n",
      "[1]\ttraining's auc: 1\tvalid_1's auc: 1\n"
     ]
    },
    {
     "name": "stderr",
     "output_type": "stream",
     "text": [
      "regularization_factors, val_score: 1.000000:  95%|#########5| 19/20 [00:08<00:00,  2.41it/s][I 2021-01-25 14:22:19,019] Trial 61 finished with value: 1.0 and parameters: {'lambda_l1': 4.316263996626744e-07, 'lambda_l2': 1.2711843238645078e-07}. Best is trial 43 with value: 1.0.\n",
      "regularization_factors, val_score: 1.000000:  95%|#########5| 19/20 [00:08<00:00,  2.41it/s]"
     ]
    },
    {
     "name": "stdout",
     "output_type": "stream",
     "text": [
      "Training until validation scores don't improve for 100 rounds\n",
      "[100]\ttraining's auc: 1\tvalid_1's auc: 1\n",
      "Early stopping, best iteration is:\n",
      "[1]\ttraining's auc: 1\tvalid_1's auc: 1\n"
     ]
    },
    {
     "name": "stderr",
     "output_type": "stream",
     "text": [
      "regularization_factors, val_score: 1.000000: 100%|##########| 20/20 [00:08<00:00,  2.17it/s][I 2021-01-25 14:22:19,585] Trial 62 finished with value: 1.0 and parameters: {'lambda_l1': 1.0001046084661338e-08, 'lambda_l2': 0.0002469091762983845}. Best is trial 43 with value: 1.0.\n",
      "regularization_factors, val_score: 1.000000: 100%|##########| 20/20 [00:08<00:00,  2.25it/s]\n",
      "min_data_in_leaf, val_score: 1.000000:   0%|          | 0/5 [00:00<?, ?it/s]"
     ]
    },
    {
     "name": "stdout",
     "output_type": "stream",
     "text": [
      "Training until validation scores don't improve for 100 rounds\n",
      "[100]\ttraining's auc: 1\tvalid_1's auc: 1\n",
      "Early stopping, best iteration is:\n",
      "[1]\ttraining's auc: 1\tvalid_1's auc: 1\n"
     ]
    },
    {
     "name": "stderr",
     "output_type": "stream",
     "text": [
      "min_data_in_leaf, val_score: 1.000000:  20%|##        | 1/5 [00:00<00:02,  1.95it/s][I 2021-01-25 14:22:20,104] Trial 63 finished with value: 1.0 and parameters: {'min_child_samples': 100}. Best is trial 63 with value: 1.0.\n",
      "min_data_in_leaf, val_score: 1.000000:  20%|##        | 1/5 [00:00<00:02,  1.95it/s]"
     ]
    },
    {
     "name": "stdout",
     "output_type": "stream",
     "text": [
      "Training until validation scores don't improve for 100 rounds\n",
      "[100]\ttraining's auc: 1\tvalid_1's auc: 1\n",
      "Early stopping, best iteration is:\n",
      "[1]\ttraining's auc: 1\tvalid_1's auc: 1\n"
     ]
    },
    {
     "name": "stderr",
     "output_type": "stream",
     "text": [
      "min_data_in_leaf, val_score: 1.000000:  40%|####      | 2/5 [00:01<00:01,  1.78it/s][I 2021-01-25 14:22:20,791] Trial 64 finished with value: 1.0 and parameters: {'min_child_samples': 5}. Best is trial 63 with value: 1.0.\n",
      "min_data_in_leaf, val_score: 1.000000:  40%|####      | 2/5 [00:01<00:01,  1.78it/s]"
     ]
    },
    {
     "name": "stdout",
     "output_type": "stream",
     "text": [
      "Training until validation scores don't improve for 100 rounds\n",
      "[100]\ttraining's auc: 1\tvalid_1's auc: 1\n",
      "Early stopping, best iteration is:\n",
      "[1]\ttraining's auc: 1\tvalid_1's auc: 1\n"
     ]
    },
    {
     "name": "stderr",
     "output_type": "stream",
     "text": [
      "min_data_in_leaf, val_score: 1.000000:  60%|######    | 3/5 [00:01<00:01,  1.99it/s][I 2021-01-25 14:22:21,146] Trial 65 finished with value: 1.0 and parameters: {'min_child_samples': 10}. Best is trial 63 with value: 1.0.\n",
      "min_data_in_leaf, val_score: 1.000000:  60%|######    | 3/5 [00:01<00:01,  1.99it/s]"
     ]
    },
    {
     "name": "stdout",
     "output_type": "stream",
     "text": [
      "Training until validation scores don't improve for 100 rounds\n",
      "[100]\ttraining's auc: 1\tvalid_1's auc: 1\n",
      "Early stopping, best iteration is:\n",
      "[1]\ttraining's auc: 1\tvalid_1's auc: 1\n"
     ]
    },
    {
     "name": "stderr",
     "output_type": "stream",
     "text": [
      "min_data_in_leaf, val_score: 1.000000:  80%|########  | 4/5 [00:01<00:00,  2.21it/s][I 2021-01-25 14:22:21,481] Trial 66 finished with value: 1.0 and parameters: {'min_child_samples': 50}. Best is trial 63 with value: 1.0.\n",
      "min_data_in_leaf, val_score: 1.000000:  80%|########  | 4/5 [00:01<00:00,  2.21it/s]"
     ]
    },
    {
     "name": "stdout",
     "output_type": "stream",
     "text": [
      "Training until validation scores don't improve for 100 rounds\n",
      "[100]\ttraining's auc: 1\tvalid_1's auc: 1\n",
      "Early stopping, best iteration is:\n",
      "[1]\ttraining's auc: 1\tvalid_1's auc: 1\n"
     ]
    },
    {
     "name": "stderr",
     "output_type": "stream",
     "text": [
      "min_data_in_leaf, val_score: 1.000000: 100%|##########| 5/5 [00:02<00:00,  1.74it/s][I 2021-01-25 14:22:22,346] Trial 67 finished with value: 1.0 and parameters: {'min_child_samples': 25}. Best is trial 63 with value: 1.0.\n",
      "min_data_in_leaf, val_score: 1.000000: 100%|##########| 5/5 [00:02<00:00,  1.81it/s]\n"
     ]
    },
    {
     "name": "stdout",
     "output_type": "stream",
     "text": [
      "Best params: {'metric': 'auc', 'verbosity': -1, 'boosting_type': 'gbdt', 'feature_pre_filter': False, 'lambda_l1': 0.0, 'lambda_l2': 0.0, 'num_leaves': 31, 'feature_fraction': 0.8999999999999999, 'bagging_fraction': 1.0, 'bagging_freq': 0, 'min_child_samples': 20}\n",
      "  Accuracy = 0.8372732270478285\n",
      "  Params: \n",
      "    metric: auc\n",
      "    verbosity: -1\n",
      "    boosting_type: gbdt\n",
      "    feature_pre_filter: False\n",
      "    lambda_l1: 0.0\n",
      "    lambda_l2: 0.0\n",
      "    num_leaves: 31\n",
      "    feature_fraction: 0.8999999999999999\n",
      "    bagging_fraction: 1.0\n",
      "    bagging_freq: 0\n",
      "    min_child_samples: 20\n"
     ]
    }
   ],
   "source": [
    "# !pip install optuna\n",
    "import optuna.integration.lightgbm as lgb\n",
    "dtrain = lgb.Dataset(X_train, label=y_train)\n",
    "dval = lgb.Dataset(X_test, label=y_test)\n",
    "\n",
    "params = {\n",
    "        \"metric\": \"auc\",\n",
    "        \"verbosity\": -1,\n",
    "        \"boosting_type\": \"gbdt\",\n",
    "}\n",
    "\n",
    "model = lgb.train(\n",
    "        params, dtrain, valid_sets=[dtrain, dval], verbose_eval=100, early_stopping_rounds=100\n",
    "    )\n",
    "\n",
    "prediction = np.rint(model.predict(X_test, num_iteration=model.best_iteration))\n",
    "accuracy = accuracy_score(y_test, prediction)\n",
    "\n",
    "best_params = model.params\n",
    "print(\"Best params:\", best_params)\n",
    "print(\"  Accuracy = {}\".format(accuracy))\n",
    "print(\"  Params: \")\n",
    "for key, value in best_params.items():\n",
    "  print(\"    {}: {}\".format(key, value))\n"
   ]
  },
  {
   "cell_type": "code",
   "execution_count": 54,
   "metadata": {},
   "outputs": [],
   "source": [
    "params = {\n",
    "    'metric': 'multi_logloss',\n",
    "    'verbosity': -1,\n",
    "    'boosting_type': 'gbdt',\n",
    "    'feature_pre_filter': False,\n",
    "    'lambda_l1': 0.0,\n",
    "    'lambda_l2': 0.0,\n",
    "    'num_leaves': 31,\n",
    "    'feature_fraction': 0.8999999999999999,\n",
    "    'bagging_fraction': 1.0,\n",
    "    'bagging_freq': 0,\n",
    "    'min_child_samples': 20}"
   ]
  },
  {
   "cell_type": "code",
   "execution_count": 55,
   "metadata": {},
   "outputs": [],
   "source": [
    "from lightgbm import LGBMClassifier\n",
    "model = LGBMClassifier(**params)"
   ]
  },
  {
   "cell_type": "code",
   "execution_count": 56,
   "metadata": {},
   "outputs": [
    {
     "data": {
      "text/plain": [
       "LGBMClassifier(bagging_fraction=1.0, bagging_freq=0,\n",
       "               feature_fraction=0.8999999999999999, feature_pre_filter=False,\n",
       "               lambda_l1=0.0, lambda_l2=0.0, metric='multi_logloss',\n",
       "               verbosity=-1)"
      ]
     },
     "execution_count": 56,
     "metadata": {},
     "output_type": "execute_result"
    }
   ],
   "source": [
    "model.fit(X_train,y_train)"
   ]
  },
  {
   "cell_type": "code",
   "execution_count": 57,
   "metadata": {},
   "outputs": [
    {
     "name": "stdout",
     "output_type": "stream",
     "text": [
      "0.8565145684442002\n"
     ]
    }
   ],
   "source": [
    "preds_val = model.predict(X_test)\n",
    "from sklearn.metrics import accuracy_score\n",
    "print(accuracy_score(y_test,preds_val))"
   ]
  },
  {
   "cell_type": "code",
   "execution_count": 58,
   "metadata": {},
   "outputs": [
    {
     "data": {
      "text/plain": [
       "array([[0.00443583, 0.13178849, 0.85692523, 0.00685045],\n",
       "       [0.00485916, 0.19611271, 0.78708085, 0.01194728],\n",
       "       [0.01910739, 0.17706252, 0.78872045, 0.01510963],\n",
       "       ...,\n",
       "       [0.006784  , 0.18438983, 0.79955049, 0.00927568],\n",
       "       [0.01462067, 0.07277659, 0.89405947, 0.01854327],\n",
       "       [0.00802544, 0.15986065, 0.8055979 , 0.02651601]])"
      ]
     },
     "execution_count": 58,
     "metadata": {},
     "output_type": "execute_result"
    }
   ],
   "source": [
    "final_preds = model.predict_proba(test.drop(columns=['ALL'],axis=1))\n",
    "final_preds"
   ]
  },
  {
   "cell_type": "code",
   "execution_count": 59,
   "metadata": {},
   "outputs": [],
   "source": [
    "temp = pd.DataFrame(final_preds)\n",
    "sub = pd.DataFrame()\n",
    "sub['0'] = 0\n",
    "sub['1'] = temp[0]\n",
    "sub['2'] = temp[1]\n",
    "sub['3'] = temp[2]\n",
    "sub['4'] = temp[3]\n"
   ]
  },
  {
   "cell_type": "code",
   "execution_count": 61,
   "metadata": {},
   "outputs": [],
   "source": [
    "sub = sub.fillna(0)"
   ]
  },
  {
   "cell_type": "code",
   "execution_count": 62,
   "metadata": {},
   "outputs": [],
   "source": [
    "#there are duplicates between test and train, for those rows we can directly use train target values\n",
    "#storing the target values of common rows in test and train\n",
    "temp1=''\n",
    "for i in test.columns:\n",
    "    temp1=temp1+i+train[i].astype(str)\n",
    "train['ALL']=temp1\n",
    "temp2=''\n",
    "for i in test.columns:\n",
    "    temp2=temp2+i+test[i].astype(str)\n",
    "test['ALL']=temp2\n",
    "encoding=train.groupby('ALL')['popularity'].median()\n",
    "y_from_train=test['ALL'].map(encoding)\n",
    "temp = pd.DataFrame()\n",
    "temp['pop'] = y_from_train\n",
    "temp['pop'] = temp['pop'].fillna(-999)\n",
    "x = temp[temp['pop']!=-999]\n",
    "for i in x.index.values:\n",
    "#     print(x.iloc[i].values[0])\n",
    "    try:\n",
    "        if x.loc[i].values[0] ==0:\n",
    "            sub.loc[i] =[1.0,0.0,0.0,0.0,0.0]\n",
    "        elif x.loc[i].values[0] ==1:\n",
    "            sub.loc[i] =[0.0,1.0,0.0,0.0,0.0]\n",
    "        elif x.loc[i].values[0] ==3:\n",
    "            sub.loc[i] =[0.0,0.0,1.0,0.0,0.0]\n",
    "        elif x.loc[i].values[0] ==4:\n",
    "            sub.loc[i] =[0.0,0.0,0.0,1.0,0.0]\n",
    "        elif x.loc[i].values[0] ==5:\n",
    "            sub.loc[i] =[0.0,0.0,0.0,0.0,1.0]\n",
    "        else:\n",
    "            print('.',end='')\n",
    "    except:\n",
    "        print(i)\n",
    "        print(x.loc[i].values[0])"
   ]
  },
  {
   "cell_type": "code",
   "execution_count": 63,
   "metadata": {},
   "outputs": [
    {
     "data": {
      "text/html": [
       "<div>\n",
       "<style scoped>\n",
       "    .dataframe tbody tr th:only-of-type {\n",
       "        vertical-align: middle;\n",
       "    }\n",
       "\n",
       "    .dataframe tbody tr th {\n",
       "        vertical-align: top;\n",
       "    }\n",
       "\n",
       "    .dataframe thead th {\n",
       "        text-align: right;\n",
       "    }\n",
       "</style>\n",
       "<table border=\"1\" class=\"dataframe\">\n",
       "  <thead>\n",
       "    <tr style=\"text-align: right;\">\n",
       "      <th></th>\n",
       "      <th>0</th>\n",
       "      <th>1</th>\n",
       "      <th>2</th>\n",
       "      <th>3</th>\n",
       "      <th>4</th>\n",
       "    </tr>\n",
       "  </thead>\n",
       "  <tbody>\n",
       "    <tr>\n",
       "      <th>0</th>\n",
       "      <td>0.0</td>\n",
       "      <td>0.000000</td>\n",
       "      <td>1.000000</td>\n",
       "      <td>0.000000</td>\n",
       "      <td>0.000000</td>\n",
       "    </tr>\n",
       "    <tr>\n",
       "      <th>1</th>\n",
       "      <td>0.0</td>\n",
       "      <td>0.004859</td>\n",
       "      <td>0.196113</td>\n",
       "      <td>0.787081</td>\n",
       "      <td>0.011947</td>\n",
       "    </tr>\n",
       "    <tr>\n",
       "      <th>2</th>\n",
       "      <td>0.0</td>\n",
       "      <td>0.019107</td>\n",
       "      <td>0.177063</td>\n",
       "      <td>0.788720</td>\n",
       "      <td>0.015110</td>\n",
       "    </tr>\n",
       "    <tr>\n",
       "      <th>3</th>\n",
       "      <td>0.0</td>\n",
       "      <td>0.007202</td>\n",
       "      <td>0.188808</td>\n",
       "      <td>0.794248</td>\n",
       "      <td>0.009742</td>\n",
       "    </tr>\n",
       "    <tr>\n",
       "      <th>4</th>\n",
       "      <td>0.0</td>\n",
       "      <td>0.000000</td>\n",
       "      <td>0.000000</td>\n",
       "      <td>1.000000</td>\n",
       "      <td>0.000000</td>\n",
       "    </tr>\n",
       "  </tbody>\n",
       "</table>\n",
       "</div>"
      ],
      "text/plain": [
       "     0         1         2         3         4\n",
       "0  0.0  0.000000  1.000000  0.000000  0.000000\n",
       "1  0.0  0.004859  0.196113  0.787081  0.011947\n",
       "2  0.0  0.019107  0.177063  0.788720  0.015110\n",
       "3  0.0  0.007202  0.188808  0.794248  0.009742\n",
       "4  0.0  0.000000  0.000000  1.000000  0.000000"
      ]
     },
     "execution_count": 63,
     "metadata": {},
     "output_type": "execute_result"
    }
   ],
   "source": [
    "dummy = test[test['Store_Ratio']==0]\n",
    "dummy.index\n",
    "for i in dummy.index.values:\n",
    "    sub.iloc[i] =[1.0,0.0,0.0,0.0,0.0]\n",
    "sub.head()"
   ]
  },
  {
   "cell_type": "code",
   "execution_count": 64,
   "metadata": {},
   "outputs": [
    {
     "data": {
      "text/plain": [
       "11.0"
      ]
     },
     "execution_count": 64,
     "metadata": {},
     "output_type": "execute_result"
    }
   ],
   "source": [
    "np.sum(sub['0'])"
   ]
  },
  {
   "cell_type": "code",
   "execution_count": 65,
   "metadata": {},
   "outputs": [],
   "source": [
    "sub.to_csv('sub_2501_v2_lgb.csv',index=False)"
   ]
  },
  {
   "cell_type": "code",
   "execution_count": null,
   "metadata": {},
   "outputs": [],
   "source": []
  }
 ],
 "metadata": {
  "kernelspec": {
   "display_name": "Python 3",
   "language": "python",
   "name": "python3"
  },
  "language_info": {
   "codemirror_mode": {
    "name": "ipython",
    "version": 3
   },
   "file_extension": ".py",
   "mimetype": "text/x-python",
   "name": "python",
   "nbconvert_exporter": "python",
   "pygments_lexer": "ipython3",
   "version": "3.8.3"
  }
 },
 "nbformat": 4,
 "nbformat_minor": 4
}
