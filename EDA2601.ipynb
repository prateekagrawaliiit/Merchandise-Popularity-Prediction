{
 "cells": [
  {
   "cell_type": "code",
   "execution_count": 1,
   "metadata": {},
   "outputs": [],
   "source": [
    "import pandas as pd \n",
    "import numpy as np \n",
    "import seaborn as sns\n"
   ]
  },
  {
   "cell_type": "code",
   "execution_count": 2,
   "metadata": {},
   "outputs": [],
   "source": [
    "train = pd.read_csv('Train.csv')\n",
    "test = pd.read_csv('Test.csv')"
   ]
  },
  {
   "cell_type": "code",
   "execution_count": 3,
   "metadata": {},
   "outputs": [
    {
     "data": {
      "text/plain": [
       "Index(['Store_Ratio', 'Basket_Ratio', 'Category_1', 'Store_Score',\n",
       "       'Category_2', 'Store_Presence', 'Score_1', 'Score_2', 'Score_3',\n",
       "       'Score_4', 'time', 'popularity'],\n",
       "      dtype='object')"
      ]
     },
     "execution_count": 3,
     "metadata": {},
     "output_type": "execute_result"
    }
   ],
   "source": [
    "train.columns"
   ]
  },
  {
   "cell_type": "code",
   "execution_count": 4,
   "metadata": {},
   "outputs": [
    {
     "data": {
      "text/plain": [
       "<AxesSubplot:xlabel='Store_Ratio'>"
      ]
     },
     "execution_count": 4,
     "metadata": {},
     "output_type": "execute_result"
    },
    {
     "data": {
      "image/png": "[encoded data removed]",
      "text/plain": [
       "<Figure size 432x288 with 1 Axes>"
      ]
     },
     "metadata": {
      "needs_background": "light"
     },
     "output_type": "display_data"
    }
   ],
   "source": [
    "sns.distplot(train['Store_Ratio'],color=\"blue\")"
   ]
  },
  {
   "cell_type": "code",
   "execution_count": 11,
   "metadata": {},
   "outputs": [
    {
     "data": {
      "text/plain": [
       "1    1\n",
       "Name: popularity, dtype: int64"
      ]
     },
     "execution_count": 11,
     "metadata": {},
     "output_type": "execute_result"
    }
   ],
   "source": [
    "temp = train[train['Store_Ratio']>0.99]\n",
    "temp.popularity.value_counts()"
   ]
  },
  {
   "cell_type": "code",
   "execution_count": 8,
   "metadata": {},
   "outputs": [
    {
     "data": {
      "text/html": [
       "<div>\n",
       "<style scoped>\n",
       "    .dataframe tbody tr th:only-of-type {\n",
       "        vertical-align: middle;\n",
       "    }\n",
       "\n",
       "    .dataframe tbody tr th {\n",
       "        vertical-align: top;\n",
       "    }\n",
       "\n",
       "    .dataframe thead th {\n",
       "        text-align: right;\n",
       "    }\n",
       "</style>\n",
       "<table border=\"1\" class=\"dataframe\">\n",
       "  <thead>\n",
       "    <tr style=\"text-align: right;\">\n",
       "      <th></th>\n",
       "      <th>Store_Ratio</th>\n",
       "      <th>Basket_Ratio</th>\n",
       "      <th>Category_1</th>\n",
       "      <th>Store_Score</th>\n",
       "      <th>Category_2</th>\n",
       "      <th>Store_Presence</th>\n",
       "      <th>Score_1</th>\n",
       "      <th>Score_2</th>\n",
       "      <th>Score_3</th>\n",
       "      <th>Score_4</th>\n",
       "      <th>time</th>\n",
       "    </tr>\n",
       "  </thead>\n",
       "  <tbody>\n",
       "    <tr>\n",
       "      <th>111</th>\n",
       "      <td>0.955</td>\n",
       "      <td>0.538</td>\n",
       "      <td>1</td>\n",
       "      <td>-8.394</td>\n",
       "      <td>1</td>\n",
       "      <td>0.1320</td>\n",
       "      <td>0.00146</td>\n",
       "      <td>0.0704</td>\n",
       "      <td>0.837</td>\n",
       "      <td>116.977</td>\n",
       "      <td>170769</td>\n",
       "    </tr>\n",
       "    <tr>\n",
       "      <th>130</th>\n",
       "      <td>0.929</td>\n",
       "      <td>0.667</td>\n",
       "      <td>8</td>\n",
       "      <td>-6.789</td>\n",
       "      <td>0</td>\n",
       "      <td>0.0185</td>\n",
       "      <td>0.00000</td>\n",
       "      <td>0.1000</td>\n",
       "      <td>0.274</td>\n",
       "      <td>126.998</td>\n",
       "      <td>155168</td>\n",
       "    </tr>\n",
       "    <tr>\n",
       "      <th>264</th>\n",
       "      <td>0.904</td>\n",
       "      <td>0.723</td>\n",
       "      <td>11</td>\n",
       "      <td>-5.224</td>\n",
       "      <td>0</td>\n",
       "      <td>0.0631</td>\n",
       "      <td>0.00000</td>\n",
       "      <td>0.1850</td>\n",
       "      <td>0.835</td>\n",
       "      <td>145.013</td>\n",
       "      <td>227478</td>\n",
       "    </tr>\n",
       "    <tr>\n",
       "      <th>292</th>\n",
       "      <td>0.950</td>\n",
       "      <td>0.628</td>\n",
       "      <td>7</td>\n",
       "      <td>-7.594</td>\n",
       "      <td>1</td>\n",
       "      <td>0.2580</td>\n",
       "      <td>0.00000</td>\n",
       "      <td>0.3180</td>\n",
       "      <td>0.836</td>\n",
       "      <td>106.543</td>\n",
       "      <td>146197</td>\n",
       "    </tr>\n",
       "    <tr>\n",
       "      <th>325</th>\n",
       "      <td>0.904</td>\n",
       "      <td>0.723</td>\n",
       "      <td>11</td>\n",
       "      <td>-5.224</td>\n",
       "      <td>0</td>\n",
       "      <td>0.0631</td>\n",
       "      <td>0.00000</td>\n",
       "      <td>0.1850</td>\n",
       "      <td>0.835</td>\n",
       "      <td>145.013</td>\n",
       "      <td>227478</td>\n",
       "    </tr>\n",
       "  </tbody>\n",
       "</table>\n",
       "</div>"
      ],
      "text/plain": [
       "     Store_Ratio  Basket_Ratio  Category_1  Store_Score  Category_2  \\\n",
       "111        0.955         0.538           1       -8.394           1   \n",
       "130        0.929         0.667           8       -6.789           0   \n",
       "264        0.904         0.723          11       -5.224           0   \n",
       "292        0.950         0.628           7       -7.594           1   \n",
       "325        0.904         0.723          11       -5.224           0   \n",
       "\n",
       "     Store_Presence  Score_1  Score_2  Score_3  Score_4    time  \n",
       "111          0.1320  0.00146   0.0704    0.837  116.977  170769  \n",
       "130          0.0185  0.00000   0.1000    0.274  126.998  155168  \n",
       "264          0.0631  0.00000   0.1850    0.835  145.013  227478  \n",
       "292          0.2580  0.00000   0.3180    0.836  106.543  146197  \n",
       "325          0.0631  0.00000   0.1850    0.835  145.013  227478  "
      ]
     },
     "execution_count": 8,
     "metadata": {},
     "output_type": "execute_result"
    }
   ],
   "source": [
    "temp = test[test['Store_Ratio']>0.9]\n",
    "temp.head()"
   ]
  },
  {
   "cell_type": "code",
   "execution_count": 12,
   "metadata": {},
   "outputs": [],
   "source": []
  },
  {
   "cell_type": "code",
   "execution_count": 19,
   "metadata": {},
   "outputs": [
    {
     "data": {
      "text/plain": [
       "<AxesSubplot:xlabel='Store_Ratio'>"
      ]
     },
     "execution_count": 19,
     "metadata": {},
     "output_type": "execute_result"
    },
    {
     "data": {
      "image/png": "[encoded data removed]",
      "text/plain": [
       "<Figure size 432x288 with 1 Axes>"
      ]
     },
     "metadata": {
      "needs_background": "light"
     },
     "output_type": "display_data"
    }
   ],
   "source": [
    "pop1 = train[train['popularity']==1]\n",
    "sns.distplot(pop1['Store_Ratio'],color=\"red\")"
   ]
  },
  {
   "cell_type": "code",
   "execution_count": 18,
   "metadata": {},
   "outputs": [
    {
     "data": {
      "text/plain": [
       "<AxesSubplot:>"
      ]
     },
     "execution_count": 18,
     "metadata": {},
     "output_type": "execute_result"
    },
    {
     "data": {
      "image/png": "[encoded data removed]",
      "text/plain": [
       "<Figure size 432x288 with 1 Axes>"
      ]
     },
     "metadata": {
      "needs_background": "light"
     },
     "output_type": "display_data"
    }
   ],
   "source": [
    "pop1.boxplot(column=['Store_Ratio'])"
   ]
  },
  {
   "cell_type": "code",
   "execution_count": 20,
   "metadata": {},
   "outputs": [
    {
     "data": {
      "text/plain": [
       "<AxesSubplot:xlabel='Store_Ratio'>"
      ]
     },
     "execution_count": 20,
     "metadata": {},
     "output_type": "execute_result"
    },
    {
     "data": {
      "image/png": "[encoded data removed]",
      "text/plain": [
       "<Figure size 432x288 with 1 Axes>"
      ]
     },
     "metadata": {
      "needs_background": "light"
     },
     "output_type": "display_data"
    }
   ],
   "source": [
    "pop3 = train[train['popularity']==3]\n",
    "sns.distplot(pop3['Store_Ratio'],color=\"red\")"
   ]
  },
  {
   "cell_type": "code",
   "execution_count": 21,
   "metadata": {},
   "outputs": [
    {
     "data": {
      "text/plain": [
       "<AxesSubplot:>"
      ]
     },
     "execution_count": 21,
     "metadata": {},
     "output_type": "execute_result"
    },
    {
     "data": {
      "image/png": "[encoded data removed]",
      "text/plain": [
       "<Figure size 432x288 with 1 Axes>"
      ]
     },
     "metadata": {
      "needs_background": "light"
     },
     "output_type": "display_data"
    }
   ],
   "source": [
    "pop3.boxplot(column=['Store_Ratio'])"
   ]
  },
  {
   "cell_type": "code",
   "execution_count": 22,
   "metadata": {},
   "outputs": [
    {
     "data": {
      "text/plain": [
       "0.953"
      ]
     },
     "execution_count": 22,
     "metadata": {},
     "output_type": "execute_result"
    }
   ],
   "source": [
    "np.max(pop3.Store_Ratio)"
   ]
  },
  {
   "cell_type": "code",
   "execution_count": null,
   "metadata": {},
   "outputs": [],
   "source": []
  },
  {
   "cell_type": "code",
   "execution_count": null,
   "metadata": {},
   "outputs": [],
   "source": []
  },
  {
   "cell_type": "code",
   "execution_count": null,
   "metadata": {},
   "outputs": [],
   "source": []
  },
  {
   "cell_type": "code",
   "execution_count": null,
   "metadata": {},
   "outputs": [],
   "source": []
  },
  {
   "cell_type": "code",
   "execution_count": 24,
   "metadata": {},
   "outputs": [
    {
     "data": {
      "text/plain": [
       "<AxesSubplot:xlabel='Basket_Ratio'>"
      ]
     },
     "execution_count": 24,
     "metadata": {},
     "output_type": "execute_result"
    },
    {
     "data": {
      "image/png": "[encoded data removed]",
      "text/plain": [
       "<Figure size 432x288 with 1 Axes>"
      ]
     },
     "metadata": {
      "needs_background": "light"
     },
     "output_type": "display_data"
    }
   ],
   "source": [
    "sns.distplot(train['Basket_Ratio'],color=\"blue\")"
   ]
  },
  {
   "cell_type": "code",
   "execution_count": 25,
   "metadata": {},
   "outputs": [
    {
     "data": {
      "text/plain": [
       "<AxesSubplot:xlabel='Basket_Ratio'>"
      ]
     },
     "execution_count": 25,
     "metadata": {},
     "output_type": "execute_result"
    },
    {
     "data": {
      "image/png": "[encoded data removed]",
      "text/plain": [
       "<Figure size 432x288 with 1 Axes>"
      ]
     },
     "metadata": {
      "needs_background": "light"
     },
     "output_type": "display_data"
    }
   ],
   "source": [
    "pop1 = train[train['popularity']==1]\n",
    "sns.distplot(pop1['Basket_Ratio'],color=\"red\")"
   ]
  },
  {
   "cell_type": "code",
   "execution_count": 26,
   "metadata": {},
   "outputs": [
    {
     "data": {
      "text/plain": [
       "<AxesSubplot:>"
      ]
     },
     "execution_count": 26,
     "metadata": {},
     "output_type": "execute_result"
    },
    {
     "data": {
      "image/png": "[encoded data removed]",
      "text/plain": [
       "<Figure size 432x288 with 1 Axes>"
      ]
     },
     "metadata": {
      "needs_background": "light"
     },
     "output_type": "display_data"
    }
   ],
   "source": [
    "pop1.boxplot(column=['Basket_Ratio'])"
   ]
  },
  {
   "cell_type": "code",
   "execution_count": 29,
   "metadata": {},
   "outputs": [
    {
     "data": {
      "text/plain": [
       "0.07120743034055728"
      ]
     },
     "execution_count": 29,
     "metadata": {},
     "output_type": "execute_result"
    }
   ],
   "source": [
    "dummy = pop1[pop1['Basket_Ratio']>0.8]\n",
    "len(dummy)/len(pop1)"
   ]
  },
  {
   "cell_type": "code",
   "execution_count": 50,
   "metadata": {},
   "outputs": [
    {
     "data": {
      "text/plain": [
       "<AxesSubplot:xlabel='time'>"
      ]
     },
     "execution_count": 50,
     "metadata": {},
     "output_type": "execute_result"
    },
    {
     "data": {
      "image/png": "[encoded data removed]",
      "text/plain": [
       "<Figure size 432x288 with 1 Axes>"
      ]
     },
     "metadata": {
      "needs_background": "light"
     },
     "output_type": "display_data"
    }
   ],
   "source": [
    "pop3 = train[train['popularity']==3]\n",
    "# sns.distplot(pop3['Basket_Ratio'],color=\"red\")\n",
    "sns.distplot(pop3['time'],color=\"blue\")"
   ]
  },
  {
   "cell_type": "code",
   "execution_count": 51,
   "metadata": {},
   "outputs": [
    {
     "data": {
      "text/plain": [
       "<AxesSubplot:>"
      ]
     },
     "execution_count": 51,
     "metadata": {},
     "output_type": "execute_result"
    },
    {
     "data": {
      "image/png": "[encoded data removed]",
      "text/plain": [
       "<Figure size 432x288 with 1 Axes>"
      ]
     },
     "metadata": {
      "needs_background": "light"
     },
     "output_type": "display_data"
    }
   ],
   "source": [
    "pop3.boxplot(column=['time'])"
   ]
  },
  {
   "cell_type": "code",
   "execution_count": 32,
   "metadata": {},
   "outputs": [
    {
     "data": {
      "text/plain": [
       "0.06694367497691597"
      ]
     },
     "execution_count": 32,
     "metadata": {},
     "output_type": "execute_result"
    }
   ],
   "source": [
    "dummy = pop3[pop3['Basket_Ratio']>0.8]\n",
    "len(dummy)/len(pop3)"
   ]
  },
  {
   "cell_type": "code",
   "execution_count": 33,
   "metadata": {},
   "outputs": [
    {
     "data": {
      "text/plain": [
       "<AxesSubplot:xlabel='Basket_Ratio'>"
      ]
     },
     "execution_count": 33,
     "metadata": {},
     "output_type": "execute_result"
    },
    {
     "data": {
      "image/png": "[encoded data removed]",
      "text/plain": [
       "<Figure size 432x288 with 1 Axes>"
      ]
     },
     "metadata": {
      "needs_background": "light"
     },
     "output_type": "display_data"
    }
   ],
   "source": [
    "pop5 = train[train['popularity']==5]\n",
    "sns.distplot(pop5['Basket_Ratio'],color=\"red\")"
   ]
  },
  {
   "cell_type": "code",
   "execution_count": 52,
   "metadata": {},
   "outputs": [
    {
     "data": {
      "text/plain": [
       "<AxesSubplot:>"
      ]
     },
     "execution_count": 52,
     "metadata": {},
     "output_type": "execute_result"
    },
    {
     "data": {
      "image/png": "[encoded data removed]",
      "text/plain": [
       "<Figure size 432x288 with 1 Axes>"
      ]
     },
     "metadata": {
      "needs_background": "light"
     },
     "output_type": "display_data"
    }
   ],
   "source": [
    "pop5.boxplot(column=['time'])"
   ]
  },
  {
   "cell_type": "code",
   "execution_count": 35,
   "metadata": {},
   "outputs": [
    {
     "data": {
      "text/plain": [
       "<AxesSubplot:>"
      ]
     },
     "execution_count": 35,
     "metadata": {},
     "output_type": "execute_result"
    },
    {
     "data": {
      "image/png": "[encoded data removed]",
      "text/plain": [
       "<Figure size 432x288 with 1 Axes>"
      ]
     },
     "metadata": {
      "needs_background": "light"
     },
     "output_type": "display_data"
    }
   ],
   "source": [
    "pop5.boxplot(column=['Store_Ratio'])"
   ]
  },
  {
   "cell_type": "code",
   "execution_count": 36,
   "metadata": {},
   "outputs": [
    {
     "data": {
      "text/plain": [
       "<AxesSubplot:xlabel='Store_Score'>"
      ]
     },
     "execution_count": 36,
     "metadata": {},
     "output_type": "execute_result"
    },
    {
     "data": {
      "image/png": "[encoded data removed]",
      "text/plain": [
       "<Figure size 432x288 with 1 Axes>"
      ]
     },
     "metadata": {
      "needs_background": "light"
     },
     "output_type": "display_data"
    }
   ],
   "source": [
    "pop1 = train[train['popularity']==1]\n",
    "sns.distplot(pop1['Store_Score'],color=\"red\")"
   ]
  },
  {
   "cell_type": "code",
   "execution_count": 53,
   "metadata": {},
   "outputs": [
    {
     "data": {
      "text/plain": [
       "<AxesSubplot:>"
      ]
     },
     "execution_count": 53,
     "metadata": {},
     "output_type": "execute_result"
    },
    {
     "data": {
      "image/png": "[encoded data removed]",
      "text/plain": [
       "<Figure size 432x288 with 1 Axes>"
      ]
     },
     "metadata": {
      "needs_background": "light"
     },
     "output_type": "display_data"
    }
   ],
   "source": [
    "pop1.boxplot(column=['time'])"
   ]
  },
  {
   "cell_type": "code",
   "execution_count": 38,
   "metadata": {},
   "outputs": [
    {
     "data": {
      "text/plain": [
       "<AxesSubplot:>"
      ]
     },
     "execution_count": 38,
     "metadata": {},
     "output_type": "execute_result"
    },
    {
     "data": {
      "image/png": "[encoded data removed]",
      "text/plain": [
       "<Figure size 432x288 with 1 Axes>"
      ]
     },
     "metadata": {
      "needs_background": "light"
     },
     "output_type": "display_data"
    }
   ],
   "source": [
    "pop3.boxplot(column=['Store_Score'])"
   ]
  },
  {
   "cell_type": "code",
   "execution_count": 39,
   "metadata": {},
   "outputs": [
    {
     "data": {
      "text/plain": [
       "<AxesSubplot:>"
      ]
     },
     "execution_count": 39,
     "metadata": {},
     "output_type": "execute_result"
    },
    {
     "data": {
      "image/png": "[encoded data removed]",
      "text/plain": [
       "<Figure size 432x288 with 1 Axes>"
      ]
     },
     "metadata": {
      "needs_background": "light"
     },
     "output_type": "display_data"
    }
   ],
   "source": [
    "pop5.boxplot(column=['Store_Score'])"
   ]
  },
  {
   "cell_type": "code",
   "execution_count": 54,
   "metadata": {},
   "outputs": [
    {
     "data": {
      "text/plain": [
       "<AxesSubplot:xlabel='Store_Score'>"
      ]
     },
     "execution_count": 54,
     "metadata": {},
     "output_type": "execute_result"
    },
    {
     "data": {
      "image/png": "[encoded data removed]",
      "text/plain": [
       "<Figure size 432x288 with 1 Axes>"
      ]
     },
     "metadata": {
      "needs_background": "light"
     },
     "output_type": "display_data"
    }
   ],
   "source": [
    "pop4 = train[train['popularity']==4]\n",
    "sns.distplot(pop4['Store_Score'],color=\"red\")"
   ]
  },
  {
   "cell_type": "code",
   "execution_count": 55,
   "metadata": {},
   "outputs": [
    {
     "data": {
      "text/plain": [
       "<AxesSubplot:>"
      ]
     },
     "execution_count": 55,
     "metadata": {},
     "output_type": "execute_result"
    },
    {
     "data": {
      "image/png": "[encoded data removed]",
      "text/plain": [
       "<Figure size 432x288 with 1 Axes>"
      ]
     },
     "metadata": {
      "needs_background": "light"
     },
     "output_type": "display_data"
    }
   ],
   "source": [
    "pop4.boxplot(column=['Store_Score'])"
   ]
  },
  {
   "cell_type": "code",
   "execution_count": 57,
   "metadata": {},
   "outputs": [
    {
     "data": {
      "text/plain": [
       "<AxesSubplot:>"
      ]
     },
     "execution_count": 57,
     "metadata": {},
     "output_type": "execute_result"
    },
    {
     "data": {
      "image/png": "[encoded data removed]",
      "text/plain": [
       "<Figure size 432x288 with 1 Axes>"
      ]
     },
     "metadata": {
      "needs_background": "light"
     },
     "output_type": "display_data"
    }
   ],
   "source": [
    "pop4.boxplot(column=['time'])"
   ]
  },
  {
   "cell_type": "code",
   "execution_count": 58,
   "metadata": {},
   "outputs": [
    {
     "data": {
      "text/plain": [
       "<AxesSubplot:>"
      ]
     },
     "execution_count": 58,
     "metadata": {},
     "output_type": "execute_result"
    },
    {
     "data": {
      "image/png": "[encoded data removed]",
      "text/plain": [
       "<Figure size 432x288 with 1 Axes>"
      ]
     },
     "metadata": {
      "needs_background": "light"
     },
     "output_type": "display_data"
    }
   ],
   "source": [
    "test.boxplot(column=['time'])"
   ]
  },
  {
   "cell_type": "code",
   "execution_count": 60,
   "metadata": {},
   "outputs": [
    {
     "name": "stdout",
     "output_type": "stream",
     "text": [
      "Store_Ratio\n",
      "Category_1\n",
      "Category_2\n",
      "Store_Presence\n",
      "Score_1\n",
      "Score_3\n",
      "Score_4\n",
      "popularity\n"
     ]
    }
   ],
   "source": [
    "for col in train.columns:\n",
    "    if 0 in train[col].values:\n",
    "        print(col)"
   ]
  },
  {
   "cell_type": "code",
   "execution_count": 63,
   "metadata": {},
   "outputs": [
    {
     "data": {
      "text/plain": [
       "4    15231\n",
       "3     2166\n",
       "5      472\n",
       "1      323\n",
       "0       16\n",
       "Name: popularity, dtype: int64"
      ]
     },
     "execution_count": 63,
     "metadata": {},
     "output_type": "execute_result"
    }
   ],
   "source": [
    "train.popularity.value_counts()"
   ]
  },
  {
   "cell_type": "code",
   "execution_count": 67,
   "metadata": {},
   "outputs": [
    {
     "data": {
      "text/plain": [
       "4    4183\n",
       "3     269\n",
       "5      60\n",
       "1      32\n",
       "0       1\n",
       "Name: popularity, dtype: int64"
      ]
     },
     "execution_count": 67,
     "metadata": {},
     "output_type": "execute_result"
    }
   ],
   "source": [
    "x = train[train['Score_1']==0]\n",
    "x.popularity.value_counts()"
   ]
  },
  {
   "cell_type": "code",
   "execution_count": 41,
   "metadata": {},
   "outputs": [
    {
     "data": {
      "text/html": [
       "<div>\n",
       "<style scoped>\n",
       "    .dataframe tbody tr th:only-of-type {\n",
       "        vertical-align: middle;\n",
       "    }\n",
       "\n",
       "    .dataframe tbody tr th {\n",
       "        vertical-align: top;\n",
       "    }\n",
       "\n",
       "    .dataframe thead th {\n",
       "        text-align: right;\n",
       "    }\n",
       "</style>\n",
       "<table border=\"1\" class=\"dataframe\">\n",
       "  <thead>\n",
       "    <tr style=\"text-align: right;\">\n",
       "      <th></th>\n",
       "      <th>Store_Ratio</th>\n",
       "      <th>Basket_Ratio</th>\n",
       "      <th>Category_1</th>\n",
       "      <th>Store_Score</th>\n",
       "      <th>Category_2</th>\n",
       "      <th>Store_Presence</th>\n",
       "      <th>Score_1</th>\n",
       "      <th>Score_2</th>\n",
       "      <th>Score_3</th>\n",
       "      <th>Score_4</th>\n",
       "      <th>time</th>\n",
       "      <th>popularity</th>\n",
       "    </tr>\n",
       "  </thead>\n",
       "  <tbody>\n",
       "    <tr>\n",
       "      <th>Store_Ratio</th>\n",
       "      <td>1.000000</td>\n",
       "      <td>0.465598</td>\n",
       "      <td>0.040335</td>\n",
       "      <td>0.599820</td>\n",
       "      <td>-0.102391</td>\n",
       "      <td>-0.471475</td>\n",
       "      <td>-0.454113</td>\n",
       "      <td>-0.039416</td>\n",
       "      <td>0.620874</td>\n",
       "      <td>0.119472</td>\n",
       "      <td>-0.063763</td>\n",
       "      <td>0.232888</td>\n",
       "    </tr>\n",
       "    <tr>\n",
       "      <th>Basket_Ratio</th>\n",
       "      <td>0.465598</td>\n",
       "      <td>1.000000</td>\n",
       "      <td>0.051739</td>\n",
       "      <td>0.826055</td>\n",
       "      <td>-0.114843</td>\n",
       "      <td>-0.821807</td>\n",
       "      <td>-0.612220</td>\n",
       "      <td>0.275749</td>\n",
       "      <td>0.527086</td>\n",
       "      <td>0.253789</td>\n",
       "      <td>0.101478</td>\n",
       "      <td>0.200988</td>\n",
       "    </tr>\n",
       "    <tr>\n",
       "      <th>Category_1</th>\n",
       "      <td>0.040335</td>\n",
       "      <td>0.051739</td>\n",
       "      <td>1.000000</td>\n",
       "      <td>0.042988</td>\n",
       "      <td>-0.139914</td>\n",
       "      <td>-0.046474</td>\n",
       "      <td>-0.028973</td>\n",
       "      <td>0.019738</td>\n",
       "      <td>0.036477</td>\n",
       "      <td>0.003057</td>\n",
       "      <td>-0.012886</td>\n",
       "      <td>0.003716</td>\n",
       "    </tr>\n",
       "    <tr>\n",
       "      <th>Store_Score</th>\n",
       "      <td>0.599820</td>\n",
       "      <td>0.826055</td>\n",
       "      <td>0.042988</td>\n",
       "      <td>1.000000</td>\n",
       "      <td>-0.085984</td>\n",
       "      <td>-0.723449</td>\n",
       "      <td>-0.726385</td>\n",
       "      <td>0.145093</td>\n",
       "      <td>0.516937</td>\n",
       "      <td>0.263739</td>\n",
       "      <td>0.080659</td>\n",
       "      <td>0.204896</td>\n",
       "    </tr>\n",
       "    <tr>\n",
       "      <th>Category_2</th>\n",
       "      <td>-0.102391</td>\n",
       "      <td>-0.114843</td>\n",
       "      <td>-0.139914</td>\n",
       "      <td>-0.085984</td>\n",
       "      <td>1.000000</td>\n",
       "      <td>0.104456</td>\n",
       "      <td>0.020086</td>\n",
       "      <td>-0.036357</td>\n",
       "      <td>-0.043944</td>\n",
       "      <td>-0.046058</td>\n",
       "      <td>-0.009798</td>\n",
       "      <td>-0.034565</td>\n",
       "    </tr>\n",
       "    <tr>\n",
       "      <th>Store_Presence</th>\n",
       "      <td>-0.471475</td>\n",
       "      <td>-0.821807</td>\n",
       "      <td>-0.046474</td>\n",
       "      <td>-0.723449</td>\n",
       "      <td>0.104456</td>\n",
       "      <td>1.000000</td>\n",
       "      <td>0.571346</td>\n",
       "      <td>-0.190961</td>\n",
       "      <td>-0.431723</td>\n",
       "      <td>-0.222663</td>\n",
       "      <td>-0.072484</td>\n",
       "      <td>-0.195113</td>\n",
       "    </tr>\n",
       "    <tr>\n",
       "      <th>Score_1</th>\n",
       "      <td>-0.454113</td>\n",
       "      <td>-0.612220</td>\n",
       "      <td>-0.028973</td>\n",
       "      <td>-0.726385</td>\n",
       "      <td>0.020086</td>\n",
       "      <td>0.571346</td>\n",
       "      <td>1.000000</td>\n",
       "      <td>-0.104020</td>\n",
       "      <td>-0.474795</td>\n",
       "      <td>-0.201852</td>\n",
       "      <td>-0.113319</td>\n",
       "      <td>-0.163667</td>\n",
       "    </tr>\n",
       "    <tr>\n",
       "      <th>Score_2</th>\n",
       "      <td>-0.039416</td>\n",
       "      <td>0.275749</td>\n",
       "      <td>0.019738</td>\n",
       "      <td>0.145093</td>\n",
       "      <td>-0.036357</td>\n",
       "      <td>-0.190961</td>\n",
       "      <td>-0.104020</td>\n",
       "      <td>1.000000</td>\n",
       "      <td>0.033445</td>\n",
       "      <td>0.019435</td>\n",
       "      <td>-0.002480</td>\n",
       "      <td>0.001737</td>\n",
       "    </tr>\n",
       "    <tr>\n",
       "      <th>Score_3</th>\n",
       "      <td>0.620874</td>\n",
       "      <td>0.527086</td>\n",
       "      <td>0.036477</td>\n",
       "      <td>0.516937</td>\n",
       "      <td>-0.043944</td>\n",
       "      <td>-0.431723</td>\n",
       "      <td>-0.474795</td>\n",
       "      <td>0.033445</td>\n",
       "      <td>1.000000</td>\n",
       "      <td>0.181573</td>\n",
       "      <td>0.009258</td>\n",
       "      <td>0.176765</td>\n",
       "    </tr>\n",
       "    <tr>\n",
       "      <th>Score_4</th>\n",
       "      <td>0.119472</td>\n",
       "      <td>0.253789</td>\n",
       "      <td>0.003057</td>\n",
       "      <td>0.263739</td>\n",
       "      <td>-0.046058</td>\n",
       "      <td>-0.222663</td>\n",
       "      <td>-0.201852</td>\n",
       "      <td>0.019435</td>\n",
       "      <td>0.181573</td>\n",
       "      <td>1.000000</td>\n",
       "      <td>0.026966</td>\n",
       "      <td>0.043677</td>\n",
       "    </tr>\n",
       "    <tr>\n",
       "      <th>time</th>\n",
       "      <td>-0.063763</td>\n",
       "      <td>0.101478</td>\n",
       "      <td>-0.012886</td>\n",
       "      <td>0.080659</td>\n",
       "      <td>-0.009798</td>\n",
       "      <td>-0.072484</td>\n",
       "      <td>-0.113319</td>\n",
       "      <td>-0.002480</td>\n",
       "      <td>0.009258</td>\n",
       "      <td>0.026966</td>\n",
       "      <td>1.000000</td>\n",
       "      <td>0.020172</td>\n",
       "    </tr>\n",
       "    <tr>\n",
       "      <th>popularity</th>\n",
       "      <td>0.232888</td>\n",
       "      <td>0.200988</td>\n",
       "      <td>0.003716</td>\n",
       "      <td>0.204896</td>\n",
       "      <td>-0.034565</td>\n",
       "      <td>-0.195113</td>\n",
       "      <td>-0.163667</td>\n",
       "      <td>0.001737</td>\n",
       "      <td>0.176765</td>\n",
       "      <td>0.043677</td>\n",
       "      <td>0.020172</td>\n",
       "      <td>1.000000</td>\n",
       "    </tr>\n",
       "  </tbody>\n",
       "</table>\n",
       "</div>"
      ],
      "text/plain": [
       "                Store_Ratio  Basket_Ratio  Category_1  Store_Score  \\\n",
       "Store_Ratio        1.000000      0.465598    0.040335     0.599820   \n",
       "Basket_Ratio       0.465598      1.000000    0.051739     0.826055   \n",
       "Category_1         0.040335      0.051739    1.000000     0.042988   \n",
       "Store_Score        0.599820      0.826055    0.042988     1.000000   \n",
       "Category_2        -0.102391     -0.114843   -0.139914    -0.085984   \n",
       "Store_Presence    -0.471475     -0.821807   -0.046474    -0.723449   \n",
       "Score_1           -0.454113     -0.612220   -0.028973    -0.726385   \n",
       "Score_2           -0.039416      0.275749    0.019738     0.145093   \n",
       "Score_3            0.620874      0.527086    0.036477     0.516937   \n",
       "Score_4            0.119472      0.253789    0.003057     0.263739   \n",
       "time              -0.063763      0.101478   -0.012886     0.080659   \n",
       "popularity         0.232888      0.200988    0.003716     0.204896   \n",
       "\n",
       "                Category_2  Store_Presence   Score_1   Score_2   Score_3  \\\n",
       "Store_Ratio      -0.102391       -0.471475 -0.454113 -0.039416  0.620874   \n",
       "Basket_Ratio     -0.114843       -0.821807 -0.612220  0.275749  0.527086   \n",
       "Category_1       -0.139914       -0.046474 -0.028973  0.019738  0.036477   \n",
       "Store_Score      -0.085984       -0.723449 -0.726385  0.145093  0.516937   \n",
       "Category_2        1.000000        0.104456  0.020086 -0.036357 -0.043944   \n",
       "Store_Presence    0.104456        1.000000  0.571346 -0.190961 -0.431723   \n",
       "Score_1           0.020086        0.571346  1.000000 -0.104020 -0.474795   \n",
       "Score_2          -0.036357       -0.190961 -0.104020  1.000000  0.033445   \n",
       "Score_3          -0.043944       -0.431723 -0.474795  0.033445  1.000000   \n",
       "Score_4          -0.046058       -0.222663 -0.201852  0.019435  0.181573   \n",
       "time             -0.009798       -0.072484 -0.113319 -0.002480  0.009258   \n",
       "popularity       -0.034565       -0.195113 -0.163667  0.001737  0.176765   \n",
       "\n",
       "                 Score_4      time  popularity  \n",
       "Store_Ratio     0.119472 -0.063763    0.232888  \n",
       "Basket_Ratio    0.253789  0.101478    0.200988  \n",
       "Category_1      0.003057 -0.012886    0.003716  \n",
       "Store_Score     0.263739  0.080659    0.204896  \n",
       "Category_2     -0.046058 -0.009798   -0.034565  \n",
       "Store_Presence -0.222663 -0.072484   -0.195113  \n",
       "Score_1        -0.201852 -0.113319   -0.163667  \n",
       "Score_2         0.019435 -0.002480    0.001737  \n",
       "Score_3         0.181573  0.009258    0.176765  \n",
       "Score_4         1.000000  0.026966    0.043677  \n",
       "time            0.026966  1.000000    0.020172  \n",
       "popularity      0.043677  0.020172    1.000000  "
      ]
     },
     "execution_count": 41,
     "metadata": {},
     "output_type": "execute_result"
    }
   ],
   "source": [
    "corr = train.corr()\n",
    "corr.head(20)"
   ]
  },
  {
   "cell_type": "code",
   "execution_count": 47,
   "metadata": {},
   "outputs": [
    {
     "data": {
      "text/plain": [
       "4    294\n",
       "3    156\n",
       "5     56\n",
       "1     22\n",
       "0      4\n",
       "Name: popularity, dtype: int64"
      ]
     },
     "execution_count": 47,
     "metadata": {},
     "output_type": "execute_result"
    }
   ],
   "source": [
    "dummy = train[train['Basket_Ratio']<0.01]\n",
    "dummy.popularity.value_counts()"
   ]
  },
  {
   "cell_type": "code",
   "execution_count": null,
   "metadata": {},
   "outputs": [],
   "source": [
    "sns.distplot()"
   ]
  },
  {
   "cell_type": "code",
   "execution_count": null,
   "metadata": {},
   "outputs": [],
   "source": []
  },
  {
   "cell_type": "code",
   "execution_count": null,
   "metadata": {},
   "outputs": [],
   "source": []
  },
  {
   "cell_type": "code",
   "execution_count": 68,
   "metadata": {},
   "outputs": [
    {
     "data": {
      "text/plain": [
       "<AxesSubplot:xlabel='Store_Score'>"
      ]
     },
     "execution_count": 68,
     "metadata": {},
     "output_type": "execute_result"
    },
    {
     "data": {
      "image/png": "[encoded data removed]",
      "text/plain": [
       "<Figure size 432x288 with 1 Axes>"
      ]
     },
     "metadata": {
      "needs_background": "light"
     },
     "output_type": "display_data"
    }
   ],
   "source": [
    "sns.distplot(test['Store_Score'],color=\"red\")"
   ]
  },
  {
   "cell_type": "code",
   "execution_count": 69,
   "metadata": {},
   "outputs": [
    {
     "data": {
      "text/html": [
       "<div>\n",
       "<style scoped>\n",
       "    .dataframe tbody tr th:only-of-type {\n",
       "        vertical-align: middle;\n",
       "    }\n",
       "\n",
       "    .dataframe tbody tr th {\n",
       "        vertical-align: top;\n",
       "    }\n",
       "\n",
       "    .dataframe thead th {\n",
       "        text-align: right;\n",
       "    }\n",
       "</style>\n",
       "<table border=\"1\" class=\"dataframe\">\n",
       "  <thead>\n",
       "    <tr style=\"text-align: right;\">\n",
       "      <th></th>\n",
       "      <th>Store_Ratio</th>\n",
       "      <th>Basket_Ratio</th>\n",
       "      <th>Category_1</th>\n",
       "      <th>Store_Score</th>\n",
       "      <th>Category_2</th>\n",
       "      <th>Store_Presence</th>\n",
       "      <th>Score_1</th>\n",
       "      <th>Score_2</th>\n",
       "      <th>Score_3</th>\n",
       "      <th>Score_4</th>\n",
       "      <th>time</th>\n",
       "      <th>popularity</th>\n",
       "    </tr>\n",
       "  </thead>\n",
       "  <tbody>\n",
       "    <tr>\n",
       "      <th>count</th>\n",
       "      <td>18208.000000</td>\n",
       "      <td>18208.000000</td>\n",
       "      <td>18208.000000</td>\n",
       "      <td>18208.000000</td>\n",
       "      <td>18208.000000</td>\n",
       "      <td>18208.000000</td>\n",
       "      <td>18208.000000</td>\n",
       "      <td>18208.000000</td>\n",
       "      <td>18208.000000</td>\n",
       "      <td>18208.000000</td>\n",
       "      <td>1.820800e+04</td>\n",
       "      <td>18208.000000</td>\n",
       "    </tr>\n",
       "    <tr>\n",
       "      <th>mean</th>\n",
       "      <td>0.544283</td>\n",
       "      <td>0.483585</td>\n",
       "      <td>5.155536</td>\n",
       "      <td>-12.198086</td>\n",
       "      <td>0.648506</td>\n",
       "      <td>0.477702</td>\n",
       "      <td>0.322109</td>\n",
       "      <td>0.164888</td>\n",
       "      <td>0.421440</td>\n",
       "      <td>115.305776</td>\n",
       "      <td>2.180101e+05</td>\n",
       "      <td>3.850231</td>\n",
       "    </tr>\n",
       "    <tr>\n",
       "      <th>std</th>\n",
       "      <td>0.202709</td>\n",
       "      <td>0.302010</td>\n",
       "      <td>3.535068</td>\n",
       "      <td>8.370566</td>\n",
       "      <td>0.477450</td>\n",
       "      <td>0.380634</td>\n",
       "      <td>0.413493</td>\n",
       "      <td>0.136531</td>\n",
       "      <td>0.271922</td>\n",
       "      <td>31.478303</td>\n",
       "      <td>9.648289e+04</td>\n",
       "      <td>0.544226</td>\n",
       "    </tr>\n",
       "    <tr>\n",
       "      <th>min</th>\n",
       "      <td>0.000000</td>\n",
       "      <td>0.000216</td>\n",
       "      <td>0.000000</td>\n",
       "      <td>-47.576000</td>\n",
       "      <td>0.000000</td>\n",
       "      <td>0.000000</td>\n",
       "      <td>0.000000</td>\n",
       "      <td>0.011900</td>\n",
       "      <td>0.000000</td>\n",
       "      <td>0.000000</td>\n",
       "      <td>3.184400e+04</td>\n",
       "      <td>0.000000</td>\n",
       "    </tr>\n",
       "    <tr>\n",
       "      <th>25%</th>\n",
       "      <td>0.411000</td>\n",
       "      <td>0.200000</td>\n",
       "      <td>2.000000</td>\n",
       "      <td>-16.496250</td>\n",
       "      <td>0.000000</td>\n",
       "      <td>0.086175</td>\n",
       "      <td>0.000001</td>\n",
       "      <td>0.095300</td>\n",
       "      <td>0.184750</td>\n",
       "      <td>90.974250</td>\n",
       "      <td>1.696202e+05</td>\n",
       "      <td>4.000000</td>\n",
       "    </tr>\n",
       "    <tr>\n",
       "      <th>50%</th>\n",
       "      <td>0.573000</td>\n",
       "      <td>0.517000</td>\n",
       "      <td>5.000000</td>\n",
       "      <td>-9.166500</td>\n",
       "      <td>1.000000</td>\n",
       "      <td>0.430000</td>\n",
       "      <td>0.002245</td>\n",
       "      <td>0.112000</td>\n",
       "      <td>0.393000</td>\n",
       "      <td>114.022500</td>\n",
       "      <td>2.046460e+05</td>\n",
       "      <td>4.000000</td>\n",
       "    </tr>\n",
       "    <tr>\n",
       "      <th>75%</th>\n",
       "      <td>0.699000</td>\n",
       "      <td>0.742000</td>\n",
       "      <td>8.000000</td>\n",
       "      <td>-5.943750</td>\n",
       "      <td>1.000000</td>\n",
       "      <td>0.895000</td>\n",
       "      <td>0.859000</td>\n",
       "      <td>0.176000</td>\n",
       "      <td>0.640000</td>\n",
       "      <td>134.997000</td>\n",
       "      <td>2.471562e+05</td>\n",
       "      <td>4.000000</td>\n",
       "    </tr>\n",
       "    <tr>\n",
       "      <th>max</th>\n",
       "      <td>0.998000</td>\n",
       "      <td>1.000000</td>\n",
       "      <td>11.000000</td>\n",
       "      <td>-0.079000</td>\n",
       "      <td>1.000000</td>\n",
       "      <td>0.996000</td>\n",
       "      <td>1.000000</td>\n",
       "      <td>0.991000</td>\n",
       "      <td>0.999000</td>\n",
       "      <td>219.701000</td>\n",
       "      <td>3.908467e+06</td>\n",
       "      <td>5.000000</td>\n",
       "    </tr>\n",
       "  </tbody>\n",
       "</table>\n",
       "</div>"
      ],
      "text/plain": [
       "        Store_Ratio  Basket_Ratio    Category_1   Store_Score    Category_2  \\\n",
       "count  18208.000000  18208.000000  18208.000000  18208.000000  18208.000000   \n",
       "mean       0.544283      0.483585      5.155536    -12.198086      0.648506   \n",
       "std        0.202709      0.302010      3.535068      8.370566      0.477450   \n",
       "min        0.000000      0.000216      0.000000    -47.576000      0.000000   \n",
       "25%        0.411000      0.200000      2.000000    -16.496250      0.000000   \n",
       "50%        0.573000      0.517000      5.000000     -9.166500      1.000000   \n",
       "75%        0.699000      0.742000      8.000000     -5.943750      1.000000   \n",
       "max        0.998000      1.000000     11.000000     -0.079000      1.000000   \n",
       "\n",
       "       Store_Presence       Score_1       Score_2       Score_3       Score_4  \\\n",
       "count    18208.000000  18208.000000  18208.000000  18208.000000  18208.000000   \n",
       "mean         0.477702      0.322109      0.164888      0.421440    115.305776   \n",
       "std          0.380634      0.413493      0.136531      0.271922     31.478303   \n",
       "min          0.000000      0.000000      0.011900      0.000000      0.000000   \n",
       "25%          0.086175      0.000001      0.095300      0.184750     90.974250   \n",
       "50%          0.430000      0.002245      0.112000      0.393000    114.022500   \n",
       "75%          0.895000      0.859000      0.176000      0.640000    134.997000   \n",
       "max          0.996000      1.000000      0.991000      0.999000    219.701000   \n",
       "\n",
       "               time    popularity  \n",
       "count  1.820800e+04  18208.000000  \n",
       "mean   2.180101e+05      3.850231  \n",
       "std    9.648289e+04      0.544226  \n",
       "min    3.184400e+04      0.000000  \n",
       "25%    1.696202e+05      4.000000  \n",
       "50%    2.046460e+05      4.000000  \n",
       "75%    2.471562e+05      4.000000  \n",
       "max    3.908467e+06      5.000000  "
      ]
     },
     "execution_count": 69,
     "metadata": {},
     "output_type": "execute_result"
    }
   ],
   "source": [
    "train.describe()\n"
   ]
  },
  {
   "cell_type": "code",
   "execution_count": 70,
   "metadata": {},
   "outputs": [
    {
     "data": {
      "text/html": [
       "<div>\n",
       "<style scoped>\n",
       "    .dataframe tbody tr th:only-of-type {\n",
       "        vertical-align: middle;\n",
       "    }\n",
       "\n",
       "    .dataframe tbody tr th {\n",
       "        vertical-align: top;\n",
       "    }\n",
       "\n",
       "    .dataframe thead th {\n",
       "        text-align: right;\n",
       "    }\n",
       "</style>\n",
       "<table border=\"1\" class=\"dataframe\">\n",
       "  <thead>\n",
       "    <tr style=\"text-align: right;\">\n",
       "      <th></th>\n",
       "      <th>Store_Ratio</th>\n",
       "      <th>Basket_Ratio</th>\n",
       "      <th>Category_1</th>\n",
       "      <th>Store_Score</th>\n",
       "      <th>Category_2</th>\n",
       "      <th>Store_Presence</th>\n",
       "      <th>Score_1</th>\n",
       "      <th>Score_2</th>\n",
       "      <th>Score_3</th>\n",
       "      <th>Score_4</th>\n",
       "      <th>time</th>\n",
       "    </tr>\n",
       "  </thead>\n",
       "  <tbody>\n",
       "    <tr>\n",
       "      <th>count</th>\n",
       "      <td>12140.000000</td>\n",
       "      <td>12140.000000</td>\n",
       "      <td>12140.000000</td>\n",
       "      <td>12140.000000</td>\n",
       "      <td>12140.000000</td>\n",
       "      <td>12140.000000</td>\n",
       "      <td>12140.000000</td>\n",
       "      <td>12140.000000</td>\n",
       "      <td>12140.000000</td>\n",
       "      <td>12140.000000</td>\n",
       "      <td>1.214000e+04</td>\n",
       "    </tr>\n",
       "    <tr>\n",
       "      <th>mean</th>\n",
       "      <td>0.543776</td>\n",
       "      <td>0.488879</td>\n",
       "      <td>5.121417</td>\n",
       "      <td>-12.062847</td>\n",
       "      <td>0.642916</td>\n",
       "      <td>0.474675</td>\n",
       "      <td>0.321641</td>\n",
       "      <td>0.165942</td>\n",
       "      <td>0.420485</td>\n",
       "      <td>115.748041</td>\n",
       "      <td>2.154031e+05</td>\n",
       "    </tr>\n",
       "    <tr>\n",
       "      <th>std</th>\n",
       "      <td>0.200109</td>\n",
       "      <td>0.301217</td>\n",
       "      <td>3.528765</td>\n",
       "      <td>8.300385</td>\n",
       "      <td>0.479160</td>\n",
       "      <td>0.377582</td>\n",
       "      <td>0.414438</td>\n",
       "      <td>0.139109</td>\n",
       "      <td>0.270508</td>\n",
       "      <td>31.519999</td>\n",
       "      <td>8.231108e+04</td>\n",
       "    </tr>\n",
       "    <tr>\n",
       "      <th>min</th>\n",
       "      <td>0.000000</td>\n",
       "      <td>0.000000</td>\n",
       "      <td>0.000000</td>\n",
       "      <td>-46.847000</td>\n",
       "      <td>0.000000</td>\n",
       "      <td>0.000000</td>\n",
       "      <td>0.000000</td>\n",
       "      <td>0.000000</td>\n",
       "      <td>0.000000</td>\n",
       "      <td>0.000000</td>\n",
       "      <td>3.406700e+04</td>\n",
       "    </tr>\n",
       "    <tr>\n",
       "      <th>25%</th>\n",
       "      <td>0.414750</td>\n",
       "      <td>0.213000</td>\n",
       "      <td>2.000000</td>\n",
       "      <td>-16.066000</td>\n",
       "      <td>0.000000</td>\n",
       "      <td>0.087775</td>\n",
       "      <td>0.000001</td>\n",
       "      <td>0.095900</td>\n",
       "      <td>0.190000</td>\n",
       "      <td>90.908750</td>\n",
       "      <td>1.700000e+05</td>\n",
       "    </tr>\n",
       "    <tr>\n",
       "      <th>50%</th>\n",
       "      <td>0.570000</td>\n",
       "      <td>0.521000</td>\n",
       "      <td>5.000000</td>\n",
       "      <td>-9.046500</td>\n",
       "      <td>1.000000</td>\n",
       "      <td>0.430500</td>\n",
       "      <td>0.002050</td>\n",
       "      <td>0.112000</td>\n",
       "      <td>0.392000</td>\n",
       "      <td>114.618500</td>\n",
       "      <td>2.043415e+05</td>\n",
       "    </tr>\n",
       "    <tr>\n",
       "      <th>75%</th>\n",
       "      <td>0.696000</td>\n",
       "      <td>0.745000</td>\n",
       "      <td>8.000000</td>\n",
       "      <td>-5.891750</td>\n",
       "      <td>1.000000</td>\n",
       "      <td>0.882000</td>\n",
       "      <td>0.861000</td>\n",
       "      <td>0.173250</td>\n",
       "      <td>0.633000</td>\n",
       "      <td>135.829250</td>\n",
       "      <td>2.445222e+05</td>\n",
       "    </tr>\n",
       "    <tr>\n",
       "      <th>max</th>\n",
       "      <td>0.978000</td>\n",
       "      <td>1.000000</td>\n",
       "      <td>11.000000</td>\n",
       "      <td>0.662000</td>\n",
       "      <td>1.000000</td>\n",
       "      <td>0.996000</td>\n",
       "      <td>1.000000</td>\n",
       "      <td>0.994000</td>\n",
       "      <td>1.000000</td>\n",
       "      <td>219.701000</td>\n",
       "      <td>1.782178e+06</td>\n",
       "    </tr>\n",
       "  </tbody>\n",
       "</table>\n",
       "</div>"
      ],
      "text/plain": [
       "        Store_Ratio  Basket_Ratio    Category_1   Store_Score    Category_2  \\\n",
       "count  12140.000000  12140.000000  12140.000000  12140.000000  12140.000000   \n",
       "mean       0.543776      0.488879      5.121417    -12.062847      0.642916   \n",
       "std        0.200109      0.301217      3.528765      8.300385      0.479160   \n",
       "min        0.000000      0.000000      0.000000    -46.847000      0.000000   \n",
       "25%        0.414750      0.213000      2.000000    -16.066000      0.000000   \n",
       "50%        0.570000      0.521000      5.000000     -9.046500      1.000000   \n",
       "75%        0.696000      0.745000      8.000000     -5.891750      1.000000   \n",
       "max        0.978000      1.000000     11.000000      0.662000      1.000000   \n",
       "\n",
       "       Store_Presence       Score_1       Score_2       Score_3       Score_4  \\\n",
       "count    12140.000000  12140.000000  12140.000000  12140.000000  12140.000000   \n",
       "mean         0.474675      0.321641      0.165942      0.420485    115.748041   \n",
       "std          0.377582      0.414438      0.139109      0.270508     31.519999   \n",
       "min          0.000000      0.000000      0.000000      0.000000      0.000000   \n",
       "25%          0.087775      0.000001      0.095900      0.190000     90.908750   \n",
       "50%          0.430500      0.002050      0.112000      0.392000    114.618500   \n",
       "75%          0.882000      0.861000      0.173250      0.633000    135.829250   \n",
       "max          0.996000      1.000000      0.994000      1.000000    219.701000   \n",
       "\n",
       "               time  \n",
       "count  1.214000e+04  \n",
       "mean   2.154031e+05  \n",
       "std    8.231108e+04  \n",
       "min    3.406700e+04  \n",
       "25%    1.700000e+05  \n",
       "50%    2.043415e+05  \n",
       "75%    2.445222e+05  \n",
       "max    1.782178e+06  "
      ]
     },
     "execution_count": 70,
     "metadata": {},
     "output_type": "execute_result"
    }
   ],
   "source": [
    "test.describe()"
   ]
  },
  {
   "cell_type": "code",
   "execution_count": 71,
   "metadata": {},
   "outputs": [
    {
     "data": {
      "text/plain": [
       "-0.079"
      ]
     },
     "execution_count": 71,
     "metadata": {},
     "output_type": "execute_result"
    }
   ],
   "source": [
    "np.max(train['Store_Score'])"
   ]
  },
  {
   "cell_type": "code",
   "execution_count": 72,
   "metadata": {},
   "outputs": [
    {
     "data": {
      "text/plain": [
       "0.662"
      ]
     },
     "execution_count": 72,
     "metadata": {},
     "output_type": "execute_result"
    }
   ],
   "source": [
    "np.max(test['Store_Score'])"
   ]
  },
  {
   "cell_type": "code",
   "execution_count": 73,
   "metadata": {},
   "outputs": [
    {
     "data": {
      "text/plain": [
       "<AxesSubplot:xlabel='Store_Score'>"
      ]
     },
     "execution_count": 73,
     "metadata": {},
     "output_type": "execute_result"
    },
    {
     "data": {
      "image/png": "[encoded data removed]",
      "text/plain": [
       "<Figure size 432x288 with 1 Axes>"
      ]
     },
     "metadata": {
      "needs_background": "light"
     },
     "output_type": "display_data"
    }
   ],
   "source": [
    "sns.distplot(test['Store_Score'],color=\"red\")"
   ]
  },
  {
   "cell_type": "code",
   "execution_count": 74,
   "metadata": {},
   "outputs": [
    {
     "data": {
      "text/plain": [
       "<AxesSubplot:>"
      ]
     },
     "execution_count": 74,
     "metadata": {},
     "output_type": "execute_result"
    },
    {
     "data": {
      "image/png": "[encoded data removed]",
      "text/plain": [
       "<Figure size 432x288 with 1 Axes>"
      ]
     },
     "metadata": {
      "needs_background": "light"
     },
     "output_type": "display_data"
    }
   ],
   "source": [
    "test.boxplot(column=['Store_Score'])"
   ]
  },
  {
   "cell_type": "code",
   "execution_count": 76,
   "metadata": {},
   "outputs": [],
   "source": [
    "for x in train['Store_Score'].values:\n",
    "    if x==0:\n",
    "        print(x)"
   ]
  },
  {
   "cell_type": "code",
   "execution_count": 80,
   "metadata": {},
   "outputs": [
    {
     "name": "stdout",
     "output_type": "stream",
     "text": [
      "0.218\n",
      "0.119\n",
      "0.662\n"
     ]
    }
   ],
   "source": [
    "for x in test['Store_Score'].values:\n",
    "    if x>=0:\n",
    "        print(x)"
   ]
  },
  {
   "cell_type": "code",
   "execution_count": 83,
   "metadata": {},
   "outputs": [
    {
     "data": {
      "text/plain": [
       "Int64Index([8799, 11019, 11054], dtype='int64')"
      ]
     },
     "execution_count": 83,
     "metadata": {},
     "output_type": "execute_result"
    }
   ],
   "source": [
    "y = test[test['Store_Score']>0]\n",
    "y.index"
   ]
  },
  {
   "cell_type": "code",
   "execution_count": 81,
   "metadata": {},
   "outputs": [],
   "source": [
    "temp1=''\n",
    "for i in test.columns:\n",
    "    temp1=temp1+i+train[i].astype(str)\n",
    "train['ALL']=temp1\n",
    "temp2=''\n",
    "for i in test.columns:\n",
    "    temp2=temp2+i+test[i].astype(str)\n",
    "test['ALL']=temp2\n",
    "encoding=train.groupby('ALL')['popularity'].median()\n",
    "y_from_train=test['ALL'].map(encoding)\n",
    "temp = pd.DataFrame()\n",
    "temp['pop'] = y_from_train\n",
    "temp['pop'] = temp['pop'].fillna(-999)\n",
    "x = temp[temp['pop']!=-999]"
   ]
  },
  {
   "cell_type": "code",
   "execution_count": 82,
   "metadata": {},
   "outputs": [
    {
     "data": {
      "text/plain": [
       "Int64Index([    0,     4,     6,    15,    16,    20,    26,    29,    31,\n",
       "               33,\n",
       "            ...\n",
       "            12090, 12106, 12111, 12117, 12120, 12121, 12122, 12127, 12135,\n",
       "            12138],\n",
       "           dtype='int64', length=3334)"
      ]
     },
     "execution_count": 82,
     "metadata": {},
     "output_type": "execute_result"
    }
   ],
   "source": [
    "x.index"
   ]
  },
  {
   "cell_type": "code",
   "execution_count": 84,
   "metadata": {},
   "outputs": [
    {
     "data": {
      "text/plain": [
       "False"
      ]
     },
     "execution_count": 84,
     "metadata": {},
     "output_type": "execute_result"
    }
   ],
   "source": [
    "11019 in x.index"
   ]
  },
  {
   "cell_type": "code",
   "execution_count": 85,
   "metadata": {},
   "outputs": [
    {
     "data": {
      "text/plain": [
       "False"
      ]
     },
     "execution_count": 85,
     "metadata": {},
     "output_type": "execute_result"
    }
   ],
   "source": [
    "8799 in x.index"
   ]
  },
  {
   "cell_type": "code",
   "execution_count": 86,
   "metadata": {},
   "outputs": [
    {
     "data": {
      "text/plain": [
       "False"
      ]
     },
     "execution_count": 86,
     "metadata": {},
     "output_type": "execute_result"
    }
   ],
   "source": [
    "11054 in x.index"
   ]
  },
  {
   "cell_type": "code",
   "execution_count": null,
   "metadata": {},
   "outputs": [],
   "source": []
  }
 ],
 "metadata": {
  "kernelspec": {
   "display_name": "Python 3",
   "language": "python",
   "name": "python3"
  },
  "language_info": {
   "codemirror_mode": {
    "name": "ipython",
    "version": 3
   },
   "file_extension": ".py",
   "mimetype": "text/x-python",
   "name": "python",
   "nbconvert_exporter": "python",
   "pygments_lexer": "ipython3",
   "version": "3.8.3"
  }
 },
 "nbformat": 4,
 "nbformat_minor": 4
}
